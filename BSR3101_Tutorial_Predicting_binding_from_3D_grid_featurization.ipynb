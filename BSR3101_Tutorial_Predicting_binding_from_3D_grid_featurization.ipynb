{
  "nbformat": 4,
  "nbformat_minor": 0,
  "metadata": {
    "kernelspec": {
      "display_name": "Python 3",
      "language": "python",
      "name": "python3"
    },
    "language_info": {
      "codemirror_mode": {
        "name": "ipython",
        "version": 3
      },
      "file_extension": ".py",
      "mimetype": "text/x-python",
      "name": "python",
      "nbconvert_exporter": "python",
      "pygments_lexer": "ipython3",
      "version": "3.6.10"
    },
    "colab": {
      "name": "BSR3101 Tutorial - Predicting binding from 3D grid featurization",
      "provenance": [],
      "collapsed_sections": [],
      "include_colab_link": true
    },
    "accelerator": "GPU"
  },
  "cells": [
    {
      "cell_type": "markdown",
      "metadata": {
        "id": "view-in-github",
        "colab_type": "text"
      },
      "source": [
        "<a href=\"https://colab.research.google.com/github/filizolalab/CADD2021/blob/main/BSR3101_Tutorial_Predicting_binding_from_3D_grid_featurization.ipynb\" target=\"_parent\"><img src=\"https://colab.research.google.com/assets/colab-badge.svg\" alt=\"Open In Colab\"/></a>"
      ]
    },
    {
      "cell_type": "markdown",
      "metadata": {
        "id": "f7FPLsj4nB-6"
      },
      "source": [
        "#  Modeling Protein-Ligand Interactions with Atomic Convolutions\n",
        "\n",
        "\n",
        "This tutorial is based on examples from [Nathan C. Frey](https://ncfrey.github.io/) and [Bharath Ramsundar](https://rbharath.github.io/) and Deepchem tutorials and examples.\n"
      ]
    },
    {
      "cell_type": "code",
      "metadata": {
        "id": "jFQmra_fFE8U",
        "colab": {
          "base_uri": "https://localhost:8080/",
          "height": 350
        },
        "outputId": "029c9aa8-d6df-415e-afea-eab646dad6d7"
      },
      "source": [
        "!pip install --pre deepchem\n",
        "import deepchem as dc\n",
        "dc.__version__"
      ],
      "execution_count": null,
      "outputs": [
        {
          "output_type": "stream",
          "name": "stdout",
          "text": [
            "Collecting deepchem\n",
            "  Downloading deepchem-2.6.0.dev20211119161201-py3-none-any.whl (609 kB)\n",
            "\u001b[?25l\r\u001b[K     |▌                               | 10 kB 31.7 MB/s eta 0:00:01\r\u001b[K     |█                               | 20 kB 8.6 MB/s eta 0:00:01\r\u001b[K     |█▋                              | 30 kB 7.5 MB/s eta 0:00:01\r\u001b[K     |██▏                             | 40 kB 7.3 MB/s eta 0:00:01\r\u001b[K     |██▊                             | 51 kB 4.1 MB/s eta 0:00:01\r\u001b[K     |███▎                            | 61 kB 4.3 MB/s eta 0:00:01\r\u001b[K     |███▊                            | 71 kB 4.3 MB/s eta 0:00:01\r\u001b[K     |████▎                           | 81 kB 4.9 MB/s eta 0:00:01\r\u001b[K     |████▉                           | 92 kB 5.0 MB/s eta 0:00:01\r\u001b[K     |█████▍                          | 102 kB 4.0 MB/s eta 0:00:01\r\u001b[K     |██████                          | 112 kB 4.0 MB/s eta 0:00:01\r\u001b[K     |██████▌                         | 122 kB 4.0 MB/s eta 0:00:01\r\u001b[K     |███████                         | 133 kB 4.0 MB/s eta 0:00:01\r\u001b[K     |███████▌                        | 143 kB 4.0 MB/s eta 0:00:01\r\u001b[K     |████████                        | 153 kB 4.0 MB/s eta 0:00:01\r\u001b[K     |████████▋                       | 163 kB 4.0 MB/s eta 0:00:01\r\u001b[K     |█████████▏                      | 174 kB 4.0 MB/s eta 0:00:01\r\u001b[K     |█████████▊                      | 184 kB 4.0 MB/s eta 0:00:01\r\u001b[K     |██████████▏                     | 194 kB 4.0 MB/s eta 0:00:01\r\u001b[K     |██████████▊                     | 204 kB 4.0 MB/s eta 0:00:01\r\u001b[K     |███████████▎                    | 215 kB 4.0 MB/s eta 0:00:01\r\u001b[K     |███████████▉                    | 225 kB 4.0 MB/s eta 0:00:01\r\u001b[K     |████████████▍                   | 235 kB 4.0 MB/s eta 0:00:01\r\u001b[K     |█████████████                   | 245 kB 4.0 MB/s eta 0:00:01\r\u001b[K     |█████████████▍                  | 256 kB 4.0 MB/s eta 0:00:01\r\u001b[K     |██████████████                  | 266 kB 4.0 MB/s eta 0:00:01\r\u001b[K     |██████████████▌                 | 276 kB 4.0 MB/s eta 0:00:01\r\u001b[K     |███████████████                 | 286 kB 4.0 MB/s eta 0:00:01\r\u001b[K     |███████████████▋                | 296 kB 4.0 MB/s eta 0:00:01\r\u001b[K     |████████████████▏               | 307 kB 4.0 MB/s eta 0:00:01\r\u001b[K     |████████████████▋               | 317 kB 4.0 MB/s eta 0:00:01\r\u001b[K     |█████████████████▏              | 327 kB 4.0 MB/s eta 0:00:01\r\u001b[K     |█████████████████▊              | 337 kB 4.0 MB/s eta 0:00:01\r\u001b[K     |██████████████████▎             | 348 kB 4.0 MB/s eta 0:00:01\r\u001b[K     |██████████████████▉             | 358 kB 4.0 MB/s eta 0:00:01\r\u001b[K     |███████████████████▍            | 368 kB 4.0 MB/s eta 0:00:01\r\u001b[K     |███████████████████▉            | 378 kB 4.0 MB/s eta 0:00:01\r\u001b[K     |████████████████████▍           | 389 kB 4.0 MB/s eta 0:00:01\r\u001b[K     |█████████████████████           | 399 kB 4.0 MB/s eta 0:00:01\r\u001b[K     |█████████████████████▌          | 409 kB 4.0 MB/s eta 0:00:01\r\u001b[K     |██████████████████████          | 419 kB 4.0 MB/s eta 0:00:01\r\u001b[K     |██████████████████████▋         | 430 kB 4.0 MB/s eta 0:00:01\r\u001b[K     |███████████████████████         | 440 kB 4.0 MB/s eta 0:00:01\r\u001b[K     |███████████████████████▋        | 450 kB 4.0 MB/s eta 0:00:01\r\u001b[K     |████████████████████████▏       | 460 kB 4.0 MB/s eta 0:00:01\r\u001b[K     |████████████████████████▊       | 471 kB 4.0 MB/s eta 0:00:01\r\u001b[K     |█████████████████████████▎      | 481 kB 4.0 MB/s eta 0:00:01\r\u001b[K     |█████████████████████████▉      | 491 kB 4.0 MB/s eta 0:00:01\r\u001b[K     |██████████████████████████▎     | 501 kB 4.0 MB/s eta 0:00:01\r\u001b[K     |██████████████████████████▉     | 512 kB 4.0 MB/s eta 0:00:01\r\u001b[K     |███████████████████████████▍    | 522 kB 4.0 MB/s eta 0:00:01\r\u001b[K     |████████████████████████████    | 532 kB 4.0 MB/s eta 0:00:01\r\u001b[K     |████████████████████████████▌   | 542 kB 4.0 MB/s eta 0:00:01\r\u001b[K     |█████████████████████████████   | 552 kB 4.0 MB/s eta 0:00:01\r\u001b[K     |█████████████████████████████▌  | 563 kB 4.0 MB/s eta 0:00:01\r\u001b[K     |██████████████████████████████  | 573 kB 4.0 MB/s eta 0:00:01\r\u001b[K     |██████████████████████████████▋ | 583 kB 4.0 MB/s eta 0:00:01\r\u001b[K     |███████████████████████████████▏| 593 kB 4.0 MB/s eta 0:00:01\r\u001b[K     |███████████████████████████████▊| 604 kB 4.0 MB/s eta 0:00:01\r\u001b[K     |████████████████████████████████| 609 kB 4.0 MB/s \n",
            "\u001b[?25hRequirement already satisfied: scikit-learn in /usr/local/lib/python3.7/dist-packages (from deepchem) (1.0.1)\n",
            "Requirement already satisfied: scipy in /usr/local/lib/python3.7/dist-packages (from deepchem) (1.4.1)\n",
            "Requirement already satisfied: numpy in /usr/local/lib/python3.7/dist-packages (from deepchem) (1.19.5)\n",
            "Requirement already satisfied: joblib in /usr/local/lib/python3.7/dist-packages (from deepchem) (1.1.0)\n",
            "Collecting rdkit-pypi\n",
            "  Downloading rdkit_pypi-2021.9.2.1-cp37-cp37m-manylinux_2_17_x86_64.manylinux2014_x86_64.whl (20.6 MB)\n",
            "\u001b[K     |████████████████████████████████| 20.6 MB 1.3 MB/s \n",
            "\u001b[?25hRequirement already satisfied: pandas in /usr/local/lib/python3.7/dist-packages (from deepchem) (1.1.5)\n",
            "Requirement already satisfied: pytz>=2017.2 in /usr/local/lib/python3.7/dist-packages (from pandas->deepchem) (2018.9)\n",
            "Requirement already satisfied: python-dateutil>=2.7.3 in /usr/local/lib/python3.7/dist-packages (from pandas->deepchem) (2.8.2)\n",
            "Requirement already satisfied: six>=1.5 in /usr/local/lib/python3.7/dist-packages (from python-dateutil>=2.7.3->pandas->deepchem) (1.15.0)\n",
            "Requirement already satisfied: threadpoolctl>=2.0.0 in /usr/local/lib/python3.7/dist-packages (from scikit-learn->deepchem) (3.0.0)\n",
            "Installing collected packages: rdkit-pypi, deepchem\n",
            "Successfully installed deepchem-2.6.0.dev20211119161201 rdkit-pypi-2021.9.2.1\n"
          ]
        },
        {
          "output_type": "execute_result",
          "data": {
            "application/vnd.google.colaboratory.intrinsic+json": {
              "type": "string"
            },
            "text/plain": [
              "'2.6.0.dev'"
            ]
          },
          "metadata": {},
          "execution_count": 1
        }
      ]
    },
    {
      "cell_type": "code",
      "metadata": {
        "id": "7_SV9uj_Ez-w",
        "colab": {
          "base_uri": "https://localhost:8080/"
        },
        "outputId": "54d5c954-c2aa-4e0d-9094-e6eb6898d2de"
      },
      "source": [
        "#!pip -q install py3Dmol 2>&1 1>/dev/null\n",
        "#!pip install --upgrade MDAnalysis 2>&1 1>/dev/null\n",
        "#!pip install biopandas 2>&1 1>/dev/null\n",
        "# install conda\n",
        "!wget -qnc https://repo.anaconda.com/miniconda/Miniconda3-latest-Linux-x86_64.sh \n",
        "!bash Miniconda3-latest-Linux-x86_64.sh -bfp /usr/local 2>&1 1>/dev/null\n",
        "!rm Miniconda3-latest-Linux-x86_64.sh\n",
        "!conda install -y -q -c conda-forge openmm=7.6 python=3.7 pdbfixer 2>&1 1>/dev/null\n",
        "\n",
        "#!conda install -c conda-forge ambertools --yes 2>&1 1>/dev/null\n",
        "#!conda install -c ambermd pytraj  --yes 2>&1 1>/dev/null\n"
      ],
      "execution_count": null,
      "outputs": [
        {
          "output_type": "stream",
          "name": "stdout",
          "text": [
            ""
          ]
        }
      ]
    },
    {
      "cell_type": "code",
      "metadata": {
        "id": "Lov3W-AWV7oX"
      },
      "source": [
        "import os\n",
        "import sys\n",
        "sys.path.append('/usr/local/lib/python3.7/site-packages/')\n",
        "import openmm as mm\n",
        "import pdbfixer"
      ],
      "execution_count": null,
      "outputs": []
    },
    {
      "cell_type": "code",
      "metadata": {
        "id": "3vwgycSuCXa8"
      },
      "source": [
        "# !pip install mdtraj"
      ],
      "execution_count": null,
      "outputs": []
    },
    {
      "cell_type": "code",
      "metadata": {
        "id": "W1cCOOYXnB_L"
      },
      "source": [
        "\n",
        "import numpy as np\n",
        "import tensorflow as tf\n",
        "import matplotlib.pyplot as plt\n",
        "\n",
        "from rdkit import Chem\n",
        "from deepchem.molnet import load_pdbbind\n",
        "from deepchem.models import AtomicConvModel\n",
        "from deepchem.feat import AtomicConvFeaturizer"
      ],
      "execution_count": null,
      "outputs": []
    },
    {
      "cell_type": "markdown",
      "metadata": {
        "id": "fACLMson_-vk"
      },
      "source": [
        "### Getting protein-ligand data\n"
      ]
    },
    {
      "cell_type": "code",
      "metadata": {
        "id": "_qu5DlVa3aV3"
      },
      "source": [
        "#f1_num_atoms = 100  # maximum number of atoms to consider in the ligand\n",
        "#f2_num_atoms = 1000  # maximum number of atoms to consider in the protein\n",
        "#max_num_neighbors = 12  # maximum number of spatial neighbors for an atom\n",
        "#\n",
        "#acf = AtomicConvFeaturizer(frag1_num_atoms=f1_num_atoms,\n",
        "#                      frag2_num_atoms=f2_num_atoms,\n",
        "#                      complex_num_atoms=f1_num_atoms+f2_num_atoms,\n",
        "#                      max_num_neighbors=max_num_neighbors,\n",
        "#                      neighbor_cutoff=4)"
      ],
      "execution_count": null,
      "outputs": []
    },
    {
      "cell_type": "code",
      "metadata": {
        "colab": {
          "base_uri": "https://localhost:8080/"
        },
        "id": "Y_mptAWGWSB4",
        "outputId": "e3eb658f-c200-4c0b-b765-e4781987052f"
      },
      "source": [
        "%%time\n",
        "tasks, datasets, transformers = load_pdbbind(featurizer=dc.feat.SplifFingerprint(size=500),\n",
        "                                             save_dir='.',\n",
        "                                             data_dir='.',\n",
        "                                             pocket=True,\n",
        "                                             reload=False,\n",
        "                                             set_name='core')"
      ],
      "execution_count": null,
      "outputs": [
        {
          "output_type": "stream",
          "name": "stderr",
          "text": [
            "Warning: importing 'simtk.openmm' is deprecated.  Import 'openmm' instead.\n"
          ]
        },
        {
          "output_type": "stream",
          "name": "stdout",
          "text": [
            "CPU times: user 2min 27s, sys: 23.7 s, total: 2min 50s\n",
            "Wall time: 2min 55s\n"
          ]
        }
      ]
    },
    {
      "cell_type": "code",
      "metadata": {
        "colab": {
          "base_uri": "https://localhost:8080/"
        },
        "id": "cQXfNAIlXnPB",
        "outputId": "79d02771-166a-4262-fb86-e3aa284c0bc8"
      },
      "source": [
        "datasets[0].ids"
      ],
      "execution_count": null,
      "outputs": [
        {
          "output_type": "execute_result",
          "data": {
            "text/plain": [
              "array(['3su5', '2j62', '3uex', '2vl4', '2xb8', '2wca', '2p4y', '2obf',\n",
              "       '3ueu', '2zx6', '2xdl', '3ag9', '4de2', '1u1b', '3vd4', '2x8z',\n",
              "       '1lor', '2pq9', '3su3', '3myg', '2y5h', '1bcu', '3udh', '1zea',\n",
              "       '1p1q', '1o3f', '1kel', '2xhm', '3gcs', '2d1o', '3k5v', '2zxd',\n",
              "       '2jdu', '1z95', '3dd0', '3f3a', '2qft', '2weg', '3imc', '2r23',\n",
              "       '1h23', '3kv2', '2iwx', '3f3c', '3gbb', '3mss', '3l4w', '2v7a',\n",
              "       '1n2v', '2zcr', '3gy4', '3su2', '2xnb', '3f17', '1hfs', '1sqa',\n",
              "       '4tmn', '2v00', '2jdy', '3l4u', '3huc', '3d4z', '3b3w', '2zcq',\n",
              "       '4g8m', '2xys', '2g70', '3f80', '4de1', '2yki', '2d3u', '1lbk',\n",
              "       '1q8t', '2x0y', '1mq6', '3lka', '3kgp', '1w4o', '1lol', '3ge7',\n",
              "       '1e66', '2vvn', '10gs', '2xbv', '3g0w', '3nox', '3n7a', '3b3s',\n",
              "       '4dew', '1w3l', '3ao4', '2vo5', '1o5b', '3gnw', '3cj2', '3ejr',\n",
              "       '3pxf', '4djv', '2qmj', '1f8c', '3ov1', '3f3e', '2cet', '1gpk',\n",
              "       '3fv1', '1a30', '1uto', '4des', '3jvs', '3g2z', '1u33', '2x97',\n",
              "       '2w66', '1oyt', '2x00', '3bkk', '3uo4', '1w3k', '3l3n', '4gqq',\n",
              "       '2yfe', '3u9q', '3pww', '2fvd', '3ebp', '2xy9', '1n1m', '2vw5',\n",
              "       '2zwz', '3muz', '2wbg', '3coy', '2qbp', '3acw', '3b68', '3kwa',\n",
              "       '2cbj', '3s8o', '1hnn', '2wtv', '3cyx', '4djr', '2ole', '2yge',\n",
              "       '2j78', '3ozt', '3cft', '3g2n', '2zjw', '1yc1', '2qbr', '2hb1',\n",
              "       '1vso', '2gss'], dtype=object)"
            ]
          },
          "metadata": {},
          "execution_count": 6
        }
      ]
    },
    {
      "cell_type": "code",
      "metadata": {
        "colab": {
          "base_uri": "https://localhost:8080/"
        },
        "id": "OpCqR1QphcAq",
        "outputId": "114365e4-b897-469e-dae4-d07e99257b63"
      },
      "source": [
        "datasets[0].X[0].shape"
      ],
      "execution_count": null,
      "outputs": [
        {
          "output_type": "execute_result",
          "data": {
            "text/plain": [
              "(1500,)"
            ]
          },
          "metadata": {},
          "execution_count": 7
        }
      ]
    },
    {
      "cell_type": "markdown",
      "metadata": {
        "id": "pyH9KUkvxlxk"
      },
      "source": [
        "`load_pdbbind` allows us to specify if we want to use the entire protein or only the binding pocket (`pocket=True`) for featurization. Using only the pocket saves memory and speeds up the featurization. We can also use the \"core\" dataset of ~200 high-quality complexes for rapidly testing our model, or the larger \"refined\" set of nearly 5000 complexes for more datapoints and more robust training/validation. On Colab, it takes only a minute to featurize the core PDBbind set! This is pretty incredible, and it means you can quickly experiment with different featurizations and model architectures."
      ]
    },
    {
      "cell_type": "code",
      "metadata": {
        "colab": {
          "base_uri": "https://localhost:8080/",
          "height": 434
        },
        "id": "fHm77nnDYbnp",
        "outputId": "4a40f3c1-e594-482e-f5a6-08478a32043b"
      },
      "source": [
        "%%time\n",
        "tasks, datasets, transformers = load_pdbbind(featurizer=dc.feat.SplifVoxelizer(),\n",
        "                                             save_dir='.',\n",
        "                                             data_dir='.',\n",
        "                                             pocket=True,\n",
        "                                             reload=False,\n",
        "                                             set_name='core')\n"
      ],
      "execution_count": null,
      "outputs": [
        {
          "output_type": "error",
          "ename": "TypeError",
          "evalue": "ignored",
          "traceback": [
            "\u001b[0;31m---------------------------------------------------------------------------\u001b[0m",
            "\u001b[0;31mTypeError\u001b[0m                                 Traceback (most recent call last)",
            "\u001b[0;32m<ipython-input-57-8ffb888607b9>\u001b[0m in \u001b[0;36m<module>\u001b[0;34m()\u001b[0m\n\u001b[0;32m----> 1\u001b[0;31m \u001b[0mget_ipython\u001b[0m\u001b[0;34m(\u001b[0m\u001b[0;34m)\u001b[0m\u001b[0;34m.\u001b[0m\u001b[0mrun_cell_magic\u001b[0m\u001b[0;34m(\u001b[0m\u001b[0;34m'time'\u001b[0m\u001b[0;34m,\u001b[0m \u001b[0;34m''\u001b[0m\u001b[0;34m,\u001b[0m \u001b[0;34m\"tasks, datasets, transformers = load_pdbbind(featurizer=dc.feat.SplifVoxelizer(flatten=True),\\n                                             save_dir='.',\\n                                             data_dir='.',\\n                                             pocket=True,\\n                                             reload=False,\\n                                             set_name='core')\"\u001b[0m\u001b[0;34m)\u001b[0m\u001b[0;34m\u001b[0m\u001b[0;34m\u001b[0m\u001b[0m\n\u001b[0m",
            "\u001b[0;32m/usr/local/lib/python3.7/dist-packages/IPython/core/interactiveshell.py\u001b[0m in \u001b[0;36mrun_cell_magic\u001b[0;34m(self, magic_name, line, cell)\u001b[0m\n\u001b[1;32m   2115\u001b[0m             \u001b[0mmagic_arg_s\u001b[0m \u001b[0;34m=\u001b[0m \u001b[0mself\u001b[0m\u001b[0;34m.\u001b[0m\u001b[0mvar_expand\u001b[0m\u001b[0;34m(\u001b[0m\u001b[0mline\u001b[0m\u001b[0;34m,\u001b[0m \u001b[0mstack_depth\u001b[0m\u001b[0;34m)\u001b[0m\u001b[0;34m\u001b[0m\u001b[0;34m\u001b[0m\u001b[0m\n\u001b[1;32m   2116\u001b[0m             \u001b[0;32mwith\u001b[0m \u001b[0mself\u001b[0m\u001b[0;34m.\u001b[0m\u001b[0mbuiltin_trap\u001b[0m\u001b[0;34m:\u001b[0m\u001b[0;34m\u001b[0m\u001b[0;34m\u001b[0m\u001b[0m\n\u001b[0;32m-> 2117\u001b[0;31m                 \u001b[0mresult\u001b[0m \u001b[0;34m=\u001b[0m \u001b[0mfn\u001b[0m\u001b[0;34m(\u001b[0m\u001b[0mmagic_arg_s\u001b[0m\u001b[0;34m,\u001b[0m \u001b[0mcell\u001b[0m\u001b[0;34m)\u001b[0m\u001b[0;34m\u001b[0m\u001b[0;34m\u001b[0m\u001b[0m\n\u001b[0m\u001b[1;32m   2118\u001b[0m             \u001b[0;32mreturn\u001b[0m \u001b[0mresult\u001b[0m\u001b[0;34m\u001b[0m\u001b[0;34m\u001b[0m\u001b[0m\n\u001b[1;32m   2119\u001b[0m \u001b[0;34m\u001b[0m\u001b[0m\n",
            "\u001b[0;32m<decorator-gen-53>\u001b[0m in \u001b[0;36mtime\u001b[0;34m(self, line, cell, local_ns)\u001b[0m\n",
            "\u001b[0;32m/usr/local/lib/python3.7/dist-packages/IPython/core/magic.py\u001b[0m in \u001b[0;36m<lambda>\u001b[0;34m(f, *a, **k)\u001b[0m\n\u001b[1;32m    186\u001b[0m     \u001b[0;31m# but it's overkill for just that one bit of state.\u001b[0m\u001b[0;34m\u001b[0m\u001b[0;34m\u001b[0m\u001b[0;34m\u001b[0m\u001b[0m\n\u001b[1;32m    187\u001b[0m     \u001b[0;32mdef\u001b[0m \u001b[0mmagic_deco\u001b[0m\u001b[0;34m(\u001b[0m\u001b[0marg\u001b[0m\u001b[0;34m)\u001b[0m\u001b[0;34m:\u001b[0m\u001b[0;34m\u001b[0m\u001b[0;34m\u001b[0m\u001b[0m\n\u001b[0;32m--> 188\u001b[0;31m         \u001b[0mcall\u001b[0m \u001b[0;34m=\u001b[0m \u001b[0;32mlambda\u001b[0m \u001b[0mf\u001b[0m\u001b[0;34m,\u001b[0m \u001b[0;34m*\u001b[0m\u001b[0ma\u001b[0m\u001b[0;34m,\u001b[0m \u001b[0;34m**\u001b[0m\u001b[0mk\u001b[0m\u001b[0;34m:\u001b[0m \u001b[0mf\u001b[0m\u001b[0;34m(\u001b[0m\u001b[0;34m*\u001b[0m\u001b[0ma\u001b[0m\u001b[0;34m,\u001b[0m \u001b[0;34m**\u001b[0m\u001b[0mk\u001b[0m\u001b[0;34m)\u001b[0m\u001b[0;34m\u001b[0m\u001b[0;34m\u001b[0m\u001b[0m\n\u001b[0m\u001b[1;32m    189\u001b[0m \u001b[0;34m\u001b[0m\u001b[0m\n\u001b[1;32m    190\u001b[0m         \u001b[0;32mif\u001b[0m \u001b[0mcallable\u001b[0m\u001b[0;34m(\u001b[0m\u001b[0marg\u001b[0m\u001b[0;34m)\u001b[0m\u001b[0;34m:\u001b[0m\u001b[0;34m\u001b[0m\u001b[0;34m\u001b[0m\u001b[0m\n",
            "\u001b[0;32m/usr/local/lib/python3.7/dist-packages/IPython/core/magics/execution.py\u001b[0m in \u001b[0;36mtime\u001b[0;34m(self, line, cell, local_ns)\u001b[0m\n\u001b[1;32m   1191\u001b[0m         \u001b[0;32melse\u001b[0m\u001b[0;34m:\u001b[0m\u001b[0;34m\u001b[0m\u001b[0;34m\u001b[0m\u001b[0m\n\u001b[1;32m   1192\u001b[0m             \u001b[0mst\u001b[0m \u001b[0;34m=\u001b[0m \u001b[0mclock2\u001b[0m\u001b[0;34m(\u001b[0m\u001b[0;34m)\u001b[0m\u001b[0;34m\u001b[0m\u001b[0;34m\u001b[0m\u001b[0m\n\u001b[0;32m-> 1193\u001b[0;31m             \u001b[0mexec\u001b[0m\u001b[0;34m(\u001b[0m\u001b[0mcode\u001b[0m\u001b[0;34m,\u001b[0m \u001b[0mglob\u001b[0m\u001b[0;34m,\u001b[0m \u001b[0mlocal_ns\u001b[0m\u001b[0;34m)\u001b[0m\u001b[0;34m\u001b[0m\u001b[0;34m\u001b[0m\u001b[0m\n\u001b[0m\u001b[1;32m   1194\u001b[0m             \u001b[0mend\u001b[0m \u001b[0;34m=\u001b[0m \u001b[0mclock2\u001b[0m\u001b[0;34m(\u001b[0m\u001b[0;34m)\u001b[0m\u001b[0;34m\u001b[0m\u001b[0;34m\u001b[0m\u001b[0m\n\u001b[1;32m   1195\u001b[0m             \u001b[0mout\u001b[0m \u001b[0;34m=\u001b[0m \u001b[0;32mNone\u001b[0m\u001b[0;34m\u001b[0m\u001b[0;34m\u001b[0m\u001b[0m\n",
            "\u001b[0;32m<timed exec>\u001b[0m in \u001b[0;36m<module>\u001b[0;34m()\u001b[0m\n",
            "\u001b[0;31mTypeError\u001b[0m: __init__() got an unexpected keyword argument 'flatten'"
          ]
        }
      ]
    },
    {
      "cell_type": "code",
      "metadata": {
        "colab": {
          "base_uri": "https://localhost:8080/"
        },
        "id": "NM9Pz2VjY0Cq",
        "outputId": "75753e64-421c-42bb-b09f-fd4303afec63"
      },
      "source": [
        "datasets[0].X.shape"
      ],
      "execution_count": null,
      "outputs": [
        {
          "output_type": "execute_result",
          "data": {
            "text/plain": [
              "(154, 16, 16, 16, 24)"
            ]
          },
          "metadata": {},
          "execution_count": 18
        }
      ]
    },
    {
      "cell_type": "code",
      "metadata": {
        "colab": {
          "base_uri": "https://localhost:8080/"
        },
        "id": "FVEes1jvZl-3",
        "outputId": "c2874ac8-4728-410a-b3bb-8396c5747315"
      },
      "source": [
        "%%time\n",
        "tasks, datasets, transformers = load_pdbbind(featurizer=dc.feat.ContactCircularFingerprint(),\n",
        "                                             save_dir='.',\n",
        "                                             data_dir='.',\n",
        "                                             pocket=True,\n",
        "                                             reload=False,\n",
        "                                             set_name='core')"
      ],
      "execution_count": null,
      "outputs": [
        {
          "output_type": "stream",
          "name": "stdout",
          "text": [
            "CPU times: user 34.4 s, sys: 24.1 s, total: 58.5 s\n",
            "Wall time: 1min 4s\n"
          ]
        }
      ]
    },
    {
      "cell_type": "code",
      "metadata": {
        "colab": {
          "base_uri": "https://localhost:8080/"
        },
        "id": "Af_AMQ3DZuX6",
        "outputId": "f3326e8f-1045-4bce-d361-9f31b5155a91"
      },
      "source": [
        "datasets[0].X.shape"
      ],
      "execution_count": null,
      "outputs": [
        {
          "output_type": "execute_result",
          "data": {
            "text/plain": [
              "(154, 16)"
            ]
          },
          "metadata": {},
          "execution_count": 44
        }
      ]
    },
    {
      "cell_type": "code",
      "metadata": {
        "id": "eNJa0pKQbmhS"
      },
      "source": [
        "#f1_num_atoms = 100  # maximum number of atoms to consider in the ligand\n",
        "#f2_num_atoms = 1000  # maximum number of atoms to consider in the protein\n",
        "#max_num_neighbors = 12  # maximum number of spatial neighbors for an atom\n",
        "#\n",
        "#acf = AtomicConvFeaturizer(\n",
        "#    frag1_num_atoms=f1_num_atoms,\n",
        "#    frag2_num_atoms=f2_num_atoms,\n",
        "#    complex_num_atoms=f1_num_atoms+f2_num_atoms,\n",
        "#   max_num_neighbors=max_num_neighbors,\n",
        "#    neighbor_cutoff=4)"
      ],
      "execution_count": null,
      "outputs": []
    },
    {
      "cell_type": "code",
      "metadata": {
        "id": "Fvk8PXgZeHlv"
      },
      "source": [
        "#grid_featurizer = deepchem.feat.RdkitGridFeaturizer(voxel_width=2, feature_types=['hbond','salt_bridge'], sanitize=True, flatten=True)"
      ],
      "execution_count": null,
      "outputs": []
    },
    {
      "cell_type": "code",
      "metadata": {
        "id": "HrtAs_uRcLg8"
      },
      "source": [
        "#%%time\n",
        "#tasks, datasets, transformers = load_pdbbind(featurizer=grid_featurizer,\n",
        "#                                             save_dir='.',\n",
        "#                                             data_dir='.',\n",
        "#                                             pocket=True,\n",
        "#                                             reload=False,\n",
        "#                                             set_name='core')"
      ],
      "execution_count": null,
      "outputs": []
    },
    {
      "cell_type": "code",
      "metadata": {
        "id": "PQq0lkWIfVoE"
      },
      "source": [
        "train, val, test = datasets"
      ],
      "execution_count": null,
      "outputs": []
    },
    {
      "cell_type": "markdown",
      "metadata": {
        "id": "GNilV3VXnB_j"
      },
      "source": [
        "### Training the model"
      ]
    },
    {
      "cell_type": "code",
      "metadata": {
        "id": "m1zk6vPThl7m"
      },
      "source": [
        "from sklearn.ensemble import RandomForestRegressor\n",
        "sklearn_model = RandomForestRegressor(n_estimators=30)\n",
        "model=dc.models.SklearnModel(sklearn_model)"
      ],
      "execution_count": null,
      "outputs": []
    },
    {
      "cell_type": "code",
      "metadata": {
        "id": "jeUMTVzMh5Fa"
      },
      "source": [
        "model.fit(train)"
      ],
      "execution_count": null,
      "outputs": []
    },
    {
      "cell_type": "code",
      "metadata": {
        "colab": {
          "base_uri": "https://localhost:8080/"
        },
        "id": "slAbMU1jju01",
        "outputId": "4515386c-80e0-4411-d7b9-a5459c10cd7d"
      },
      "source": [
        "metric=dc.metrics.Metric(dc.metrics.pearson_r2_score)\n",
        "print(f'train r2: {model.evaluate(train,[metric],transformers)}')\n",
        "print(f'test r2: {model.evaluate(test,[metric],transformers)}')\n"
      ],
      "execution_count": null,
      "outputs": [
        {
          "output_type": "stream",
          "name": "stdout",
          "text": [
            "train r2: {'pearson_r2_score': 0.9383895555742319}\n",
            "test r2: {'pearson_r2_score': 0.3764357662632012}\n"
          ]
        }
      ]
    },
    {
      "cell_type": "code",
      "metadata": {
        "colab": {
          "base_uri": "https://localhost:8080/",
          "height": 265
        },
        "id": "4eFvV9mJh84M",
        "outputId": "6f2ab6ee-3673-491a-df19-e387552fc19f"
      },
      "source": [
        "\n",
        "\n",
        "f, ax = plt.subplots()\n",
        "ax.scatter(model.predict(test), test.y, label='test')\n",
        "ax.scatter(model.predict(train), train.y, label='train')\n",
        "plt.legend(loc='upper right');\n"
      ],
      "execution_count": null,
      "outputs": [
        {
          "output_type": "display_data",
          "data": {
            "image/png": "[encoded data removed]",
            "text/plain": [
              "<Figure size 432x288 with 1 Axes>"
            ]
          },
          "metadata": {
            "needs_background": "light"
          }
        }
      ]
    },
    {
      "cell_type": "code",
      "metadata": {
        "colab": {
          "base_uri": "https://localhost:8080/"
        },
        "id": "dFM4lXbKlHJv",
        "outputId": "8d50a3f7-eaf7-4b4e-d0a4-93d6246de8d0"
      },
      "source": [
        "train"
      ],
      "execution_count": null,
      "outputs": [
        {
          "output_type": "execute_result",
          "data": {
            "text/plain": [
              "<DiskDataset X.shape: (154, 1500), y.shape: (154,), w.shape: (154,), ids: ['3su5' '2j62' '3uex' ... '2hb1' '1vso' '2gss'], task_names: [0]>"
            ]
          },
          "metadata": {},
          "execution_count": 14
        }
      ]
    },
    {
      "cell_type": "code",
      "metadata": {
        "id": "bXKsrWEWipBQ"
      },
      "source": [
        "n_features=train.X.shape[1]\n",
        "n_features\n",
        "model2=dc.models.MultitaskRegressor(\n",
        "    n_tasks=1,\n",
        "    n_features=n_features,\n",
        "    layer_sizes=[2000,1000],\n",
        "    dropouts=0.5,\n",
        "    learning_rate=0.0003)"
      ],
      "execution_count": null,
      "outputs": []
    },
    {
      "cell_type": "code",
      "metadata": {
        "colab": {
          "base_uri": "https://localhost:8080/"
        },
        "id": "EWzM5K0Gid5i",
        "outputId": "953750e0-1697-4078-b86b-746c63f2678f"
      },
      "source": [
        "model2.fit(train, nb_epoch=300)"
      ],
      "execution_count": null,
      "outputs": [
        {
          "output_type": "execute_result",
          "data": {
            "text/plain": [
              "0.05380191326141357"
            ]
          },
          "metadata": {},
          "execution_count": 21
        }
      ]
    },
    {
      "cell_type": "code",
      "metadata": {
        "colab": {
          "base_uri": "https://localhost:8080/",
          "height": 265
        },
        "id": "bR7U83IYjW-e",
        "outputId": "49ab4cd5-1a43-419a-e5f4-867fb966e4b1"
      },
      "source": [
        "\n",
        "f, ax = plt.subplots()\n",
        "ax.scatter(model2.predict(test), test.y, label='test')\n",
        "ax.scatter(model2.predict(train), train.y, label='train')\n",
        "plt.legend(loc='upper right');"
      ],
      "execution_count": null,
      "outputs": [
        {
          "output_type": "display_data",
          "data": {
            "image/png": "[encoded data removed]",
            "text/plain": [
              "<Figure size 432x288 with 1 Axes>"
            ]
          },
          "metadata": {
            "needs_background": "light"
          }
        }
      ]
    },
    {
      "cell_type": "code",
      "metadata": {
        "colab": {
          "base_uri": "https://localhost:8080/"
        },
        "id": "PIyF2RuCrtw_",
        "outputId": "22e4e127-e16f-4cfc-a145-51b3fd166e83"
      },
      "source": [
        "metric=dc.metrics.Metric(dc.metrics.pearson_r2_score)\n",
        "print(f'train r2: {model2.evaluate(train,[metric],transformers)}')\n",
        "print(f'test r2: {model2.evaluate(test,[metric],transformers)}')\n"
      ],
      "execution_count": null,
      "outputs": [
        {
          "output_type": "stream",
          "name": "stdout",
          "text": [
            "train r2: {'pearson_r2_score': 0.9941549609888485}\n",
            "test r2: {'pearson_r2_score': 0.4627445879043084}\n"
          ]
        }
      ]
    },
    {
      "cell_type": "markdown",
      "metadata": {
        "id": "WufupHBPnB_k"
      },
      "source": [
        "Now that we've got our dataset, let's go ahead and initialize an `AtomicConvModel` to train. Keep the input parameters the same as those used in `AtomicConvFeaturizer`, or else we'll get errors. `layer_sizes` controls the number of layers and the size of each dense layer in the network. We choose these hyperparameters to be the same as those used in the [original paper](https://arxiv.org/pdf/1703.10603.pdf)."
      ]
    },
    {
      "cell_type": "code",
      "metadata": {
        "id": "ErBNNGH55-_B"
      },
      "source": [
        "acm = AtomicConvModel(n_tasks=1,\n",
        "                      frag1_num_atoms=f1_num_atoms,\n",
        "                      frag2_num_atoms=f2_num_atoms,\n",
        "                      complex_num_atoms=f1_num_atoms+f2_num_atoms,\n",
        "                      max_num_neighbors=max_num_neighbors,\n",
        "                      batch_size=12,\n",
        "                      layer_sizes=[32, 32, 16],\n",
        "                      learning_rate=0.003,\n",
        "                      )"
      ],
      "execution_count": null,
      "outputs": []
    },
    {
      "cell_type": "code",
      "metadata": {
        "id": "4cNdP1b1hEQM"
      },
      "source": [
        "losses, val_losses = [], []"
      ],
      "execution_count": null,
      "outputs": []
    },
    {
      "cell_type": "code",
      "metadata": {
        "id": "5g6b2qEwNwdL",
        "colab": {
          "base_uri": "https://localhost:8080/"
        },
        "outputId": "3caa11ac-18dd-4528-f966-dee61d2c508d"
      },
      "source": [
        "%%time\n",
        "max_epochs = 50\n",
        "\n",
        "for epoch in range(max_epochs):\n",
        "  loss = acm.fit(train, nb_epoch=1, max_checkpoints_to_keep=1, all_losses=losses)\n",
        "  metric = dc.metrics.Metric(dc.metrics.score_function.rms_score)\n",
        "  val_losses.append(acm.evaluate(val, metrics=[metric])['rms_score']**2)  # L2 Loss"
      ],
      "execution_count": null,
      "outputs": [
        {
          "output_type": "stream",
          "text": [
            "CPU times: user 9min 5s, sys: 1min 58s, total: 11min 4s\n",
            "Wall time: 11min 54s\n"
          ],
          "name": "stdout"
        }
      ]
    },
    {
      "cell_type": "markdown",
      "metadata": {
        "id": "aTFdba_KDDUQ"
      },
      "source": [
        "The loss curves are not exactly smooth, which is unsurprising because we are using 154 training and 19 validation datapoints. Increasing the dataset size may help with this, but will also require greater computational resources."
      ]
    },
    {
      "cell_type": "code",
      "metadata": {
        "colab": {
          "base_uri": "https://localhost:8080/",
          "height": 265
        },
        "id": "pn4QWM1bizw0",
        "outputId": "f6399595-4622-41d0-80d1-92df68850cc2"
      },
      "source": [
        "f, ax = plt.subplots()\n",
        "ax.scatter(range(len(losses)), losses, label='train loss')\n",
        "ax.scatter(range(len(val_losses)), val_losses, label='val loss')\n",
        "plt.legend(loc='upper right');"
      ],
      "execution_count": null,
      "outputs": [
        {
          "output_type": "display_data",
          "data": {
            "image/png": "[encoded data removed]",
            "text/plain": [
              "<Figure size 432x288 with 1 Axes>"
            ]
          },
          "metadata": {
            "tags": [],
            "needs_background": "light"
          }
        }
      ]
    },
    {
      "cell_type": "markdown",
      "metadata": {
        "id": "KzGW3ztODYzV"
      },
      "source": [
        "The [ACNN paper](https://arxiv.org/pdf/1703.10603.pdf) showed a Pearson $R^2$ score of 0.912 and 0.448 for a random 80/20 split of the PDBbind core train/test sets. Here, we've used an 80/10/10 training/validation/test split and achieved similar performance for the training set (0.943). We can see from the performance on the training, validation, and test sets (and from the results in the paper) that the ACNN can learn chemical interactions from small training datasets, but struggles to generalize. Still, it is pretty amazing that we can train an `AtomicConvModel` with only a few lines of code and start predicting binding affinities!  \n",
        "From here, you can experiment with different hyperparameters, more challenging splits, and the \"refined\" set of PDBbind to see if you can reduce overfitting and come up with a more robust model."
      ]
    },
    {
      "cell_type": "code",
      "metadata": {
        "colab": {
          "base_uri": "https://localhost:8080/"
        },
        "id": "VcDLwf-20tci",
        "outputId": "35ae9353-5dd8-4397-bbf0-d58cfebb6584"
      },
      "source": [
        "score = dc.metrics.Metric(dc.metrics.score_function.pearson_r2_score)\n",
        "for tvt, ds in zip(['train', 'val', 'test'], datasets):\n",
        "  print(tvt, acm.evaluate(ds, metrics=[score]))"
      ],
      "execution_count": null,
      "outputs": [
        {
          "output_type": "stream",
          "text": [
            "train {'pearson_r2_score': 0.9437584772241725}\n",
            "val {'pearson_r2_score': 0.16399398585969166}\n",
            "test {'pearson_r2_score': 0.25027177101277903}\n"
          ],
          "name": "stdout"
        }
      ]
    },
    {
      "cell_type": "markdown",
      "metadata": {
        "id": "FrIO9CSgAHlz"
      },
      "source": [
        "### Further reading\n",
        "We have explored the ACNN architecture and used the PDBbind dataset to train an ACNN to predict protein-ligand binding energies. For more information, read the original paper that introduced ACNNs: Gomes, Joseph, et al. \"Atomic convolutional networks for predicting protein-ligand binding affinity.\" [arXiv preprint arXiv:1703.10603](https://arxiv.org/abs/1703.10603) (2017). There are many other methods and papers on predicting binding affinities. Here are a few interesting ones to check out: predictions using [only ligands or proteins](https://www.frontiersin.org/articles/10.3389/fphar.2020.00069/full), [molecular docking with deep learning](https://chemrxiv.org/articles/preprint/GNINA_1_0_Molecular_Docking_with_Deep_Learning/13578140), and [AtomNet](https://arxiv.org/abs/1510.02855)."
      ]
    },
    {
      "cell_type": "markdown",
      "metadata": {
        "id": "wqS0gGXunB_s"
      },
      "source": [
        "# Congratulations! Time to join the Community!\n",
        "\n",
        "Congratulations on completing this tutorial notebook! If you enjoyed working through the tutorial, and want to continue working with DeepChem, we encourage you to finish the rest of the tutorials in this series. You can also help the DeepChem community in the following ways:\n",
        "\n",
        "## Star DeepChem on [GitHub](https://github.com/deepchem/deepchem)\n",
        "This helps build awareness of the DeepChem project and the tools for open source drug discovery that we're trying to build.\n",
        "\n",
        "## Join the DeepChem Gitter\n",
        "The DeepChem [Gitter](https://gitter.im/deepchem/Lobby) hosts a number of scientists, developers, and enthusiasts interested in deep learning for the life sciences. Join the conversation!"
      ]
    }
  ]
}