{
  "nbformat": 4,
  "nbformat_minor": 0,
  "metadata": {
    "colab": {
      "name": "BSR3101_Tutorial - Working with molecules in rdkit",
      "provenance": [],
      "collapsed_sections": [],
      "authorship_tag": "ABX9TyPZxzMfhT3yiOnvxNxmoc2w",
      "include_colab_link": true
    },
    "kernelspec": {
      "display_name": "Python 3",
      "name": "python3"
    },
    "language_info": {
      "name": "python"
    }
  },
  "cells": [
    {
      "cell_type": "markdown",
      "metadata": {
        "id": "view-in-github",
        "colab_type": "text"
      },
      "source": [
        "<a href=\"https://colab.research.google.com/github/filizolalab/CADD2021/blob/main/BSR3101_Tutorial_Working_with_molecules_in_rdkit.ipynb\" target=\"_parent\"><img src=\"https://colab.research.google.com/assets/colab-badge.svg\" alt=\"Open In Colab\"/></a>"
      ]
    },
    {
      "cell_type": "markdown",
      "metadata": {
        "id": "pVJlMNH_X67c"
      },
      "source": [
        "# Molecules, molecular properties, fingerprints\n",
        "\n"
      ]
    },
    {
      "cell_type": "markdown",
      "metadata": {
        "id": "1vos8adOkXD6"
      },
      "source": [
        "*This tutorial is part of the BSR3101 Computer Aided Drug Design, and is based on [DeepChem tutorials](https://github.com/deepchem/deepchem/tree/master/examples/tutorials). Also check the [DeepChem website](https://deepchem.io/) for other tutorials and documentation.*\n",
        "\n",
        "We will use [`deepchem`](https://deepchem.io/) and [`rdKit`](https://www.rdkit.org/) within the [Google Colaboratory](https://colab.research.google.com/) framework. Google Colaboratory is a cloud-based platform to run python code without the need to setup your local machine with a python environment. It allows you to write and execute Python in your browser, with zero configuration required, Free access to GPUs, Easy sharing. The code you develop and run in colab will run in any python environment. [`deepchem`](https://deepchem.io/) is a pyhton library that implements tools to create high quality, open source tools for drug discovery, materials science, quantum chemistry, and biology. [`rdKit`](https://www.rdkit.org/) is a library of chemoinformatics "
      ]
    },
    {
      "cell_type": "markdown",
      "metadata": {
        "id": "A8dJDVuLblLN"
      },
      "source": [
        "## Install and import `rdkit` and `deepchem`"
      ]
    },
    {
      "cell_type": "markdown",
      "metadata": {
        "id": "oE8q4cN7xCA4"
      },
      "source": [
        "To run this tutorial the machine where the calculations are executed must have a copy of the `rdkit` libarary installed. If you're running this on a machine where this is not the case, the library can be installed with the following `pip` command You can of course run this tutorial *locally* if you prefer. In \n",
        "this case, don't run the `pip install` cell since it will download and install Anaconda on your local machine. "
      ]
    },
    {
      "cell_type": "code",
      "metadata": {
        "colab": {
          "base_uri": "https://localhost:8080/"
        },
        "id": "BV21K0DGYGF3",
        "outputId": "616fca39-58fd-4b1f-cbba-b7b7639d1f16"
      },
      "source": [
        "!pip install --pre rdkit-pypi \n",
        "!pip install --pre deepchem\n",
        "#!pip install --pre PubChemPy"
      ],
      "execution_count": null,
      "outputs": [
        {
          "output_type": "stream",
          "name": "stdout",
          "text": [
            "Collecting rdkit-pypi\n",
            "  Downloading rdkit_pypi-2021.9.2.1-cp37-cp37m-manylinux_2_17_x86_64.manylinux2014_x86_64.whl (20.6 MB)\n",
            "\u001b[K     |████████████████████████████████| 20.6 MB 4.5 MB/s \n",
            "\u001b[?25hRequirement already satisfied: numpy>=1.19 in /usr/local/lib/python3.7/dist-packages (from rdkit-pypi) (1.19.5)\n",
            "Installing collected packages: rdkit-pypi\n",
            "Successfully installed rdkit-pypi-2021.9.2.1\n",
            "Collecting deepchem\n",
            "  Downloading deepchem-2.6.0.dev20211117164926-py3-none-any.whl (609 kB)\n",
            "\u001b[K     |████████████████████████████████| 609 kB 30.5 MB/s \n",
            "\u001b[?25hRequirement already satisfied: numpy in /usr/local/lib/python3.7/dist-packages (from deepchem) (1.19.5)\n",
            "Requirement already satisfied: scipy in /usr/local/lib/python3.7/dist-packages (from deepchem) (1.4.1)\n",
            "Requirement already satisfied: joblib in /usr/local/lib/python3.7/dist-packages (from deepchem) (1.1.0)\n",
            "Requirement already satisfied: rdkit-pypi in /usr/local/lib/python3.7/dist-packages (from deepchem) (2021.9.2.1)\n",
            "Requirement already satisfied: scikit-learn in /usr/local/lib/python3.7/dist-packages (from deepchem) (1.0.1)\n",
            "Requirement already satisfied: pandas in /usr/local/lib/python3.7/dist-packages (from deepchem) (1.1.5)\n",
            "Requirement already satisfied: pytz>=2017.2 in /usr/local/lib/python3.7/dist-packages (from pandas->deepchem) (2018.9)\n",
            "Requirement already satisfied: python-dateutil>=2.7.3 in /usr/local/lib/python3.7/dist-packages (from pandas->deepchem) (2.8.2)\n",
            "Requirement already satisfied: six>=1.5 in /usr/local/lib/python3.7/dist-packages (from python-dateutil>=2.7.3->pandas->deepchem) (1.15.0)\n",
            "Requirement already satisfied: threadpoolctl>=2.0.0 in /usr/local/lib/python3.7/dist-packages (from scikit-learn->deepchem) (3.0.0)\n",
            "Installing collected packages: deepchem\n",
            "Successfully installed deepchem-2.6.0.dev20211117164926\n"
          ]
        }
      ]
    },
    {
      "cell_type": "markdown",
      "metadata": {
        "id": "GBOL2oOYxlQT"
      },
      "source": [
        "Installing the library is not enough... the library (or parts of it) have to be \"imported\" into the program so that its functions and objects can be accessed. The following commands load the required `rdkit` functions so they are available for use in this notebook. \n",
        "\n",
        "We also load the `pandas` library and the `numpy` library. These provide common functions for math and tables."
      ]
    },
    {
      "cell_type": "code",
      "metadata": {
        "id": "Zvm-o21MlRlA"
      },
      "source": [
        "## import some rdkit functions\n",
        "from rdkit import Chem\n",
        "from rdkit.Chem import Draw\n",
        "from rdkit.Chem.Draw import IPythonConsole\n",
        "\n",
        "## import pandas and numpy for tables and maths\n",
        "import pandas as pd\n",
        "import numpy as np"
      ],
      "execution_count": null,
      "outputs": []
    },
    {
      "cell_type": "markdown",
      "metadata": {
        "id": "LLXHgVSOlS10"
      },
      "source": [
        "## 1. Create `rdkit` molecule objects and display them\n"
      ]
    },
    {
      "cell_type": "markdown",
      "metadata": {
        "id": "DTy4qSnTnGGG"
      },
      "source": [
        "### Create a molecule object from a SMILES string\n",
        "\n",
        "Using `rdkit` it's sraightforward to convert a SMILES string to an image of the corresponding molecule"
      ]
    },
    {
      "cell_type": "code",
      "metadata": {
        "id": "lMv5YQ1btOKj",
        "colab": {
          "base_uri": "https://localhost:8080/",
          "height": 167
        },
        "outputId": "e1edf00b-067d-433d-cd8b-2e1857fc82b0"
      },
      "source": [
        "smiles = 'Cc1ccccc1'\n",
        "molecule = Chem.MolFromSmiles(smiles)\n",
        "molecule"
      ],
      "execution_count": null,
      "outputs": [
        {
          "output_type": "execute_result",
          "data": {
            "image/png": "[encoded data removed]",
            "text/plain": [
              "<rdkit.Chem.rdchem.Mol at 0x7f5850eca850>"
            ]
          },
          "metadata": {},
          "execution_count": 7
        }
      ]
    },
    {
      "cell_type": "markdown",
      "metadata": {
        "id": "rT0QtStknKxl"
      },
      "source": [
        "\n",
        "We can use the same functions to create a list of molecule objects from a list of SMILES strings\n"
      ]
    },
    {
      "cell_type": "code",
      "metadata": {
        "colab": {
          "base_uri": "https://localhost:8080/",
          "height": 417
        },
        "id": "sWenJ4K3kHYA",
        "outputId": "1a813207-00da-4d08-fd65-4d779248d808"
      },
      "source": [
        "smiles_list = ['Cc1ccccc1',\n",
        "               'CCO',\n",
        "               'C1=CC2=C(C=C1O)C(=CN2)CCN',\n",
        "               'CC(=O)NC1=CC=C(C=C1)O']\n",
        "molecule_list = [Chem.MolFromSmiles(smiles) for smiles in smiles_list]\n",
        "Draw.MolsToGridImage(molecule_list)"
      ],
      "execution_count": null,
      "outputs": [
        {
          "output_type": "execute_result",
          "data": {
            "image/png": "[encoded data removed]",
            "text/plain": [
              "<IPython.core.display.Image object>"
            ]
          },
          "metadata": {},
          "execution_count": 8
        }
      ]
    },
    {
      "cell_type": "markdown",
      "metadata": {
        "id": "oMNkI1W0oFnf"
      },
      "source": [
        "## 2. Calculate molecular properties with `rdkit`"
      ]
    },
    {
      "cell_type": "markdown",
      "metadata": {
        "id": "AH2lwvB7rYhZ"
      },
      "source": [
        "https://www.rdkit.org/docs/source/rdkit.Chem.rdMolDescriptors.html"
      ]
    },
    {
      "cell_type": "code",
      "metadata": {
        "colab": {
          "base_uri": "https://localhost:8080/",
          "height": 175
        },
        "id": "nzN5tON3oaMh",
        "outputId": "3d7b8fd6-0977-4b13-813c-71d565c220b6"
      },
      "source": [
        "from rdkit.Chem import rdMolDescriptors, Crippen\n",
        "\n",
        "pd.DataFrame(\n",
        "    {'smiles': smiles_list,\n",
        "     'RB': [rdMolDescriptors.CalcNumRotatableBonds(molecule) for molecule in molecule_list],\n",
        "     'HBD': [rdMolDescriptors.CalcNumHBD(molecule) for molecule in molecule_list],\n",
        "     'HBA': [rdMolDescriptors.CalcNumHBA(molecule) for molecule in molecule_list],\n",
        "     'MW': [rdMolDescriptors.CalcExactMolWt(molecule) for molecule in molecule_list],\n",
        "     'logP': [Crippen.MolLogP(mol) for mol in molecule_list]})\n",
        "\n"
      ],
      "execution_count": null,
      "outputs": [
        {
          "output_type": "execute_result",
          "data": {
            "text/html": [
              "<div>\n",
              "<style scoped>\n",
              "    .dataframe tbody tr th:only-of-type {\n",
              "        vertical-align: middle;\n",
              "    }\n",
              "\n",
              "    .dataframe tbody tr th {\n",
              "        vertical-align: top;\n",
              "    }\n",
              "\n",
              "    .dataframe thead th {\n",
              "        text-align: right;\n",
              "    }\n",
              "</style>\n",
              "<table border=\"1\" class=\"dataframe\">\n",
              "  <thead>\n",
              "    <tr style=\"text-align: right;\">\n",
              "      <th></th>\n",
              "      <th>smiles</th>\n",
              "      <th>RB</th>\n",
              "      <th>HBD</th>\n",
              "      <th>HBA</th>\n",
              "      <th>MW</th>\n",
              "      <th>logP</th>\n",
              "    </tr>\n",
              "  </thead>\n",
              "  <tbody>\n",
              "    <tr>\n",
              "      <th>0</th>\n",
              "      <td>Cc1ccccc1</td>\n",
              "      <td>0</td>\n",
              "      <td>0</td>\n",
              "      <td>0</td>\n",
              "      <td>92.062600</td>\n",
              "      <td>1.99502</td>\n",
              "    </tr>\n",
              "    <tr>\n",
              "      <th>1</th>\n",
              "      <td>CCO</td>\n",
              "      <td>0</td>\n",
              "      <td>1</td>\n",
              "      <td>1</td>\n",
              "      <td>46.041865</td>\n",
              "      <td>-0.00140</td>\n",
              "    </tr>\n",
              "    <tr>\n",
              "      <th>2</th>\n",
              "      <td>C1=CC2=C(C=C1O)C(=CN2)CCN</td>\n",
              "      <td>2</td>\n",
              "      <td>3</td>\n",
              "      <td>2</td>\n",
              "      <td>176.094963</td>\n",
              "      <td>1.37470</td>\n",
              "    </tr>\n",
              "    <tr>\n",
              "      <th>3</th>\n",
              "      <td>CC(=O)NC1=CC=C(C=C1)O</td>\n",
              "      <td>1</td>\n",
              "      <td>2</td>\n",
              "      <td>2</td>\n",
              "      <td>151.063329</td>\n",
              "      <td>1.35060</td>\n",
              "    </tr>\n",
              "  </tbody>\n",
              "</table>\n",
              "</div>"
            ],
            "text/plain": [
              "                      smiles  RB  HBD  HBA          MW     logP\n",
              "0                  Cc1ccccc1   0    0    0   92.062600  1.99502\n",
              "1                        CCO   0    1    1   46.041865 -0.00140\n",
              "2  C1=CC2=C(C=C1O)C(=CN2)CCN   2    3    2  176.094963  1.37470\n",
              "3      CC(=O)NC1=CC=C(C=C1)O   1    2    2  151.063329  1.35060"
            ]
          },
          "metadata": {},
          "execution_count": 30
        }
      ]
    },
    {
      "cell_type": "code",
      "metadata": {
        "id": "Wbbg7ssxqECt",
        "colab": {
          "base_uri": "https://localhost:8080/",
          "height": 195
        },
        "outputId": "ab5d802c-c387-4d88-bb21-fa19f9e91dc5"
      },
      "source": [
        "from rdkit.Chem import rdMolDescriptors as rdMD, Descriptors\n",
        "\n",
        "props = rdMD.Properties()\n",
        "names = list(props.GetAvailableProperties())\n",
        "results = [props.ComputeProperties(mol) for mol in molecule_list]\n",
        "pd.DataFrame(results, columns = names)"
      ],
      "execution_count": null,
      "outputs": [
        {
          "output_type": "execute_result",
          "data": {
            "text/html": [
              "<div>\n",
              "<style scoped>\n",
              "    .dataframe tbody tr th:only-of-type {\n",
              "        vertical-align: middle;\n",
              "    }\n",
              "\n",
              "    .dataframe tbody tr th {\n",
              "        vertical-align: top;\n",
              "    }\n",
              "\n",
              "    .dataframe thead th {\n",
              "        text-align: right;\n",
              "    }\n",
              "</style>\n",
              "<table border=\"1\" class=\"dataframe\">\n",
              "  <thead>\n",
              "    <tr style=\"text-align: right;\">\n",
              "      <th></th>\n",
              "      <th>exactmw</th>\n",
              "      <th>amw</th>\n",
              "      <th>lipinskiHBA</th>\n",
              "      <th>lipinskiHBD</th>\n",
              "      <th>NumRotatableBonds</th>\n",
              "      <th>NumHBD</th>\n",
              "      <th>NumHBA</th>\n",
              "      <th>NumHeavyAtoms</th>\n",
              "      <th>NumAtoms</th>\n",
              "      <th>NumHeteroatoms</th>\n",
              "      <th>NumAmideBonds</th>\n",
              "      <th>FractionCSP3</th>\n",
              "      <th>NumRings</th>\n",
              "      <th>NumAromaticRings</th>\n",
              "      <th>NumAliphaticRings</th>\n",
              "      <th>NumSaturatedRings</th>\n",
              "      <th>NumHeterocycles</th>\n",
              "      <th>NumAromaticHeterocycles</th>\n",
              "      <th>NumSaturatedHeterocycles</th>\n",
              "      <th>NumAliphaticHeterocycles</th>\n",
              "      <th>NumSpiroAtoms</th>\n",
              "      <th>NumBridgeheadAtoms</th>\n",
              "      <th>NumAtomStereoCenters</th>\n",
              "      <th>NumUnspecifiedAtomStereoCenters</th>\n",
              "      <th>labuteASA</th>\n",
              "      <th>tpsa</th>\n",
              "      <th>CrippenClogP</th>\n",
              "      <th>CrippenMR</th>\n",
              "      <th>chi0v</th>\n",
              "      <th>chi1v</th>\n",
              "      <th>chi2v</th>\n",
              "      <th>chi3v</th>\n",
              "      <th>chi4v</th>\n",
              "      <th>chi0n</th>\n",
              "      <th>chi1n</th>\n",
              "      <th>chi2n</th>\n",
              "      <th>chi3n</th>\n",
              "      <th>chi4n</th>\n",
              "      <th>hallKierAlpha</th>\n",
              "      <th>kappa1</th>\n",
              "      <th>kappa2</th>\n",
              "      <th>kappa3</th>\n",
              "      <th>Phi</th>\n",
              "    </tr>\n",
              "  </thead>\n",
              "  <tbody>\n",
              "    <tr>\n",
              "      <th>0</th>\n",
              "      <td>92.062600</td>\n",
              "      <td>92.141</td>\n",
              "      <td>0.0</td>\n",
              "      <td>0.0</td>\n",
              "      <td>0.0</td>\n",
              "      <td>0.0</td>\n",
              "      <td>0.0</td>\n",
              "      <td>7.0</td>\n",
              "      <td>15.0</td>\n",
              "      <td>0.0</td>\n",
              "      <td>0.0</td>\n",
              "      <td>0.142857</td>\n",
              "      <td>1.0</td>\n",
              "      <td>1.0</td>\n",
              "      <td>0.0</td>\n",
              "      <td>0.0</td>\n",
              "      <td>0.0</td>\n",
              "      <td>0.0</td>\n",
              "      <td>0.0</td>\n",
              "      <td>0.0</td>\n",
              "      <td>0.0</td>\n",
              "      <td>0.0</td>\n",
              "      <td>0.0</td>\n",
              "      <td>0.0</td>\n",
              "      <td>43.796345</td>\n",
              "      <td>0.00</td>\n",
              "      <td>1.99502</td>\n",
              "      <td>31.1790</td>\n",
              "      <td>4.386751</td>\n",
              "      <td>2.410684</td>\n",
              "      <td>0.940456</td>\n",
              "      <td>0.940456</td>\n",
              "      <td>0.534378</td>\n",
              "      <td>4.386751</td>\n",
              "      <td>2.410684</td>\n",
              "      <td>0.940456</td>\n",
              "      <td>0.940456</td>\n",
              "      <td>0.534378</td>\n",
              "      <td>-0.78</td>\n",
              "      <td>4.380772</td>\n",
              "      <td>1.783286</td>\n",
              "      <td>1.038264</td>\n",
              "      <td>1.116024</td>\n",
              "    </tr>\n",
              "    <tr>\n",
              "      <th>1</th>\n",
              "      <td>46.041865</td>\n",
              "      <td>46.069</td>\n",
              "      <td>1.0</td>\n",
              "      <td>1.0</td>\n",
              "      <td>0.0</td>\n",
              "      <td>1.0</td>\n",
              "      <td>1.0</td>\n",
              "      <td>3.0</td>\n",
              "      <td>9.0</td>\n",
              "      <td>1.0</td>\n",
              "      <td>0.0</td>\n",
              "      <td>1.000000</td>\n",
              "      <td>0.0</td>\n",
              "      <td>0.0</td>\n",
              "      <td>0.0</td>\n",
              "      <td>0.0</td>\n",
              "      <td>0.0</td>\n",
              "      <td>0.0</td>\n",
              "      <td>0.0</td>\n",
              "      <td>0.0</td>\n",
              "      <td>0.0</td>\n",
              "      <td>0.0</td>\n",
              "      <td>0.0</td>\n",
              "      <td>0.0</td>\n",
              "      <td>19.898427</td>\n",
              "      <td>20.23</td>\n",
              "      <td>-0.00140</td>\n",
              "      <td>12.7598</td>\n",
              "      <td>2.154320</td>\n",
              "      <td>1.023335</td>\n",
              "      <td>0.000000</td>\n",
              "      <td>0.000000</td>\n",
              "      <td>0.000000</td>\n",
              "      <td>2.154320</td>\n",
              "      <td>1.023335</td>\n",
              "      <td>0.000000</td>\n",
              "      <td>0.000000</td>\n",
              "      <td>0.000000</td>\n",
              "      <td>-0.04</td>\n",
              "      <td>2.960000</td>\n",
              "      <td>1.960000</td>\n",
              "      <td>1.960000</td>\n",
              "      <td>1.933867</td>\n",
              "    </tr>\n",
              "    <tr>\n",
              "      <th>2</th>\n",
              "      <td>176.094963</td>\n",
              "      <td>176.219</td>\n",
              "      <td>3.0</td>\n",
              "      <td>4.0</td>\n",
              "      <td>2.0</td>\n",
              "      <td>3.0</td>\n",
              "      <td>2.0</td>\n",
              "      <td>13.0</td>\n",
              "      <td>25.0</td>\n",
              "      <td>3.0</td>\n",
              "      <td>0.0</td>\n",
              "      <td>0.200000</td>\n",
              "      <td>2.0</td>\n",
              "      <td>2.0</td>\n",
              "      <td>0.0</td>\n",
              "      <td>0.0</td>\n",
              "      <td>1.0</td>\n",
              "      <td>1.0</td>\n",
              "      <td>0.0</td>\n",
              "      <td>0.0</td>\n",
              "      <td>0.0</td>\n",
              "      <td>0.0</td>\n",
              "      <td>0.0</td>\n",
              "      <td>0.0</td>\n",
              "      <td>76.186237</td>\n",
              "      <td>62.04</td>\n",
              "      <td>1.37470</td>\n",
              "      <td>52.7219</td>\n",
              "      <td>7.248179</td>\n",
              "      <td>4.300793</td>\n",
              "      <td>2.164682</td>\n",
              "      <td>2.164682</td>\n",
              "      <td>1.528734</td>\n",
              "      <td>7.248179</td>\n",
              "      <td>4.300793</td>\n",
              "      <td>2.164682</td>\n",
              "      <td>2.164682</td>\n",
              "      <td>1.528734</td>\n",
              "      <td>-1.48</td>\n",
              "      <td>8.133459</td>\n",
              "      <td>3.106143</td>\n",
              "      <td>1.380449</td>\n",
              "      <td>1.943361</td>\n",
              "    </tr>\n",
              "    <tr>\n",
              "      <th>3</th>\n",
              "      <td>151.063329</td>\n",
              "      <td>151.165</td>\n",
              "      <td>3.0</td>\n",
              "      <td>2.0</td>\n",
              "      <td>1.0</td>\n",
              "      <td>2.0</td>\n",
              "      <td>2.0</td>\n",
              "      <td>11.0</td>\n",
              "      <td>20.0</td>\n",
              "      <td>3.0</td>\n",
              "      <td>1.0</td>\n",
              "      <td>0.125000</td>\n",
              "      <td>1.0</td>\n",
              "      <td>1.0</td>\n",
              "      <td>0.0</td>\n",
              "      <td>0.0</td>\n",
              "      <td>0.0</td>\n",
              "      <td>0.0</td>\n",
              "      <td>0.0</td>\n",
              "      <td>0.0</td>\n",
              "      <td>0.0</td>\n",
              "      <td>0.0</td>\n",
              "      <td>0.0</td>\n",
              "      <td>0.0</td>\n",
              "      <td>64.666905</td>\n",
              "      <td>49.33</td>\n",
              "      <td>1.35060</td>\n",
              "      <td>42.4105</td>\n",
              "      <td>6.164863</td>\n",
              "      <td>3.249098</td>\n",
              "      <td>1.187673</td>\n",
              "      <td>1.187673</td>\n",
              "      <td>0.748027</td>\n",
              "      <td>6.164863</td>\n",
              "      <td>3.249098</td>\n",
              "      <td>1.187673</td>\n",
              "      <td>1.187673</td>\n",
              "      <td>0.748027</td>\n",
              "      <td>-1.51</td>\n",
              "      <td>7.595374</td>\n",
              "      <td>3.053138</td>\n",
              "      <td>2.292304</td>\n",
              "      <td>2.108157</td>\n",
              "    </tr>\n",
              "  </tbody>\n",
              "</table>\n",
              "</div>"
            ],
            "text/plain": [
              "      exactmw      amw  lipinskiHBA  ...    kappa2    kappa3       Phi\n",
              "0   92.062600   92.141          0.0  ...  1.783286  1.038264  1.116024\n",
              "1   46.041865   46.069          1.0  ...  1.960000  1.960000  1.933867\n",
              "2  176.094963  176.219          3.0  ...  3.106143  1.380449  1.943361\n",
              "3  151.063329  151.165          3.0  ...  3.053138  2.292304  2.108157\n",
              "\n",
              "[4 rows x 43 columns]"
            ]
          },
          "metadata": {},
          "execution_count": 31
        }
      ]
    },
    {
      "cell_type": "markdown",
      "metadata": {
        "id": "rFWbydSbIwSk"
      },
      "source": [
        "## 3. Calculating fingerprints in `rdkit`"
      ]
    },
    {
      "cell_type": "markdown",
      "metadata": {
        "id": "BEX73ll1JgeS"
      },
      "source": [
        "`rdkit` makes it easy to calculate several types of fingerprints starting from the `molecule` objects generated from the SMILES strings.\n"
      ]
    },
    {
      "cell_type": "code",
      "metadata": {
        "id": "W7zi-oNpIy03"
      },
      "source": [
        "## import the `rdkit` functions needed for this task\n",
        "from rdkit.Chem import AllChem\n",
        "from rdkit import DataStructs\n",
        "\n",
        "## calculated the linear fingerprints for all the molecules in the `molecule_list`\n",
        "fps = [AllChem.GetMorganFingerprintAsBitVect(mol,4,1024) for mol in molecule_list]\n"
      ],
      "execution_count": null,
      "outputs": []
    },
    {
      "cell_type": "code",
      "metadata": {
        "id": "NOV4W-klJcT4",
        "colab": {
          "base_uri": "https://localhost:8080/"
        },
        "outputId": "7aa3d7c4-eddc-41d5-8444-737cc274a4ed"
      },
      "source": [
        "fps_mol0 = fps[0]\n",
        "list(fps_mol0.GetOnBits())\n"
      ],
      "execution_count": null,
      "outputs": [
        {
          "output_type": "execute_result",
          "data": {
            "text/plain": [
              "[31, 33, 64, 175, 356, 389, 698, 726, 799, 821, 849, 896, 923]"
            ]
          },
          "metadata": {},
          "execution_count": 21
        }
      ]
    },
    {
      "cell_type": "code",
      "metadata": {
        "colab": {
          "base_uri": "https://localhost:8080/"
        },
        "id": "ZG2a0wYbHcof",
        "outputId": "ffe2b6c4-b691-42ee-fa11-4986755f4bb4"
      },
      "source": [
        "fps[0]"
      ],
      "execution_count": null,
      "outputs": [
        {
          "output_type": "execute_result",
          "data": {
            "text/plain": [
              "<rdkit.DataStructs.cDataStructs.ExplicitBitVect at 0x7f56d93678f0>"
            ]
          },
          "metadata": {},
          "execution_count": 17
        }
      ]
    },
    {
      "cell_type": "code",
      "metadata": {
        "colab": {
          "base_uri": "https://localhost:8080/"
        },
        "id": "nKZLwXyVJdoy",
        "outputId": "6c4dc439-c31a-48e3-a736-7d09bf586606"
      },
      "source": [
        "DataStructs.BulkTanimotoSimilarity(fps[0],fps)"
      ],
      "execution_count": null,
      "outputs": [
        {
          "output_type": "execute_result",
          "data": {
            "text/plain": [
              "[1.0, 0.05555555555555555, 0.07692307692307693, 0.12121212121212122]"
            ]
          },
          "metadata": {},
          "execution_count": 26
        }
      ]
    },
    {
      "cell_type": "code",
      "metadata": {
        "id": "YBJ0_JqgK4Fi"
      },
      "source": [
        ""
      ],
      "execution_count": null,
      "outputs": []
    },
    {
      "cell_type": "code",
      "metadata": {
        "id": "reg2SO3CK-A6"
      },
      "source": [
        ""
      ],
      "execution_count": null,
      "outputs": []
    },
    {
      "cell_type": "markdown",
      "metadata": {
        "id": "33zVmWuEK-ic"
      },
      "source": [
        "## 4. Clustering based on fingerprint similarity"
      ]
    },
    {
      "cell_type": "code",
      "metadata": {
        "id": "tBv9xyBnLEEU"
      },
      "source": [
        "from rdkit.ML.Cluster import Butina\n"
      ],
      "execution_count": null,
      "outputs": []
    },
    {
      "cell_type": "code",
      "metadata": {
        "id": "PItWPgqcLd7_"
      },
      "source": [
        ""
      ],
      "execution_count": null,
      "outputs": []
    },
    {
      "cell_type": "markdown",
      "metadata": {
        "id": "v17RaA1xLeU-"
      },
      "source": [
        "## 5. Simple linear QSAR model"
      ]
    },
    {
      "cell_type": "code",
      "metadata": {
        "id": "sP6RzdVoLhok"
      },
      "source": [
        ""
      ],
      "execution_count": null,
      "outputs": []
    },
    {
      "cell_type": "markdown",
      "metadata": {
        "id": "Es-dN69pKcz_"
      },
      "source": [
        "## Working with `deepchem` datasets"
      ]
    },
    {
      "cell_type": "markdown",
      "metadata": {
        "id": "GLecFWzyLUUo"
      },
      "source": [
        "`deepchem` provides easy access to several databases of molecules through `molnet`. "
      ]
    },
    {
      "cell_type": "code",
      "metadata": {
        "id": "BVxrOW_rIaqa"
      },
      "source": [
        ""
      ],
      "execution_count": null,
      "outputs": []
    }
  ]
}
