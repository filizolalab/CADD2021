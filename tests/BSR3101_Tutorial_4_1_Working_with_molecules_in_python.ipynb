{
  "nbformat": 4,
  "nbformat_minor": 0,
  "metadata": {
    "colab": {
      "name": "BSR3101_Tutorial_4_1_ Working with molecules in python",
      "provenance": [],
      "collapsed_sections": [],
      "authorship_tag": "ABX9TyMZ1daUVfJPVzRVq/wrGQrx",
      "include_colab_link": true
    },
    "kernelspec": {
      "display_name": "Python 3",
      "name": "python3"
    },
    "language_info": {
      "name": "python"
    }
  },
  "cells": [
    {
      "cell_type": "markdown",
      "metadata": {
        "id": "view-in-github",
        "colab_type": "text"
      },
      "source": [
        "<a href=\"https://colab.research.google.com/github/filizolalab/CADD2021/blob/main/BSR3101_Tutorial_4_1__Working_with_molecules_in_python.ipynb\" target=\"_parent\"><img src=\"https://colab.research.google.com/assets/colab-badge.svg\" alt=\"Open In Colab\"/></a>"
      ]
    },
    {
      "cell_type": "markdown",
      "metadata": {
        "id": "pVJlMNH_X67c"
      },
      "source": [
        "# Working with molecules and preparing datasets for machine learning\n"
      ]
    },
    {
      "cell_type": "markdown",
      "metadata": {
        "id": "1vos8adOkXD6"
      },
      "source": [
        "*This tutorial is part of the BSR3101 Computer Aided Drug Design, and is based on [DeepChem tutorials](https://github.com/deepchem/deepchem/tree/master/examples/tutorials). Also check the [DeepChem website](https://deepchem.io/) for other tutorials and documentation.*\n",
        "\n",
        "We will use [`deepchem`](https://deepchem.io/) and [`rdKit`](https://www.rdkit.org/) within the [Google Colaboratory](https://colab.research.google.com/) framework. Google Colaboratory is a cloud-based platform to run python code without the need to setup your local machine with a python environment. It allows you to write and execute Python in your browser, with zero configuration required, Free access to GPUs, Easy sharing. The code you develop and run in colab will run in any python environment. [`deepchem`](https://deepchem.io/) is a pyhton library that implements tools to create high quality, open source tools for drug discovery, materials science, quantum chemistry, and biology. [`rdKit`](https://www.rdkit.org/) is a library of chemoinformatics "
      ]
    },
    {
      "cell_type": "markdown",
      "metadata": {
        "id": "A8dJDVuLblLN"
      },
      "source": [
        "## Install and import `rdkit` and `deepchem`"
      ]
    },
    {
      "cell_type": "markdown",
      "metadata": {
        "id": "oE8q4cN7xCA4"
      },
      "source": [
        "To run this tutorial the machine where the calculations are executed must have a copy of the `rdkit` libarary installed. If you're running this on a machine where this is not the case, the library can be installed with the following `pip` command You can of course run this tutorial *locally* if you prefer. In \n",
        "this case, don't run the `pip install` cell since it will download and install Anaconda on your local machine. "
      ]
    },
    {
      "cell_type": "code",
      "metadata": {
        "colab": {
          "base_uri": "https://localhost:8080/"
        },
        "id": "BV21K0DGYGF3",
        "outputId": "dc7c640d-ac03-45a7-fc85-5d7a474796ca"
      },
      "source": [
        "!pip install --pre rdkit-pypi \n",
        "!pip install --pre deepchem"
      ],
      "execution_count": 1,
      "outputs": [
        {
          "output_type": "stream",
          "name": "stdout",
          "text": [
            "Collecting rdkit-pypi\n",
            "  Downloading rdkit_pypi-2021.9.2.1-cp37-cp37m-manylinux_2_17_x86_64.manylinux2014_x86_64.whl (20.6 MB)\n",
            "\u001b[K     |████████████████████████████████| 20.6 MB 1.8 MB/s \n",
            "\u001b[?25hRequirement already satisfied: numpy>=1.19 in /usr/local/lib/python3.7/dist-packages (from rdkit-pypi) (1.19.5)\n",
            "Installing collected packages: rdkit-pypi\n",
            "Successfully installed rdkit-pypi-2021.9.2.1\n",
            "Collecting deepchem\n",
            "  Downloading deepchem-2.6.0.dev20211119161201-py3-none-any.whl (609 kB)\n",
            "\u001b[K     |████████████████████████████████| 609 kB 5.3 MB/s \n",
            "\u001b[?25hRequirement already satisfied: scipy in /usr/local/lib/python3.7/dist-packages (from deepchem) (1.4.1)\n",
            "Requirement already satisfied: pandas in /usr/local/lib/python3.7/dist-packages (from deepchem) (1.1.5)\n",
            "Requirement already satisfied: rdkit-pypi in /usr/local/lib/python3.7/dist-packages (from deepchem) (2021.9.2.1)\n",
            "Requirement already satisfied: joblib in /usr/local/lib/python3.7/dist-packages (from deepchem) (1.1.0)\n",
            "Requirement already satisfied: numpy in /usr/local/lib/python3.7/dist-packages (from deepchem) (1.19.5)\n",
            "Requirement already satisfied: scikit-learn in /usr/local/lib/python3.7/dist-packages (from deepchem) (1.0.1)\n",
            "Requirement already satisfied: pytz>=2017.2 in /usr/local/lib/python3.7/dist-packages (from pandas->deepchem) (2018.9)\n",
            "Requirement already satisfied: python-dateutil>=2.7.3 in /usr/local/lib/python3.7/dist-packages (from pandas->deepchem) (2.8.2)\n",
            "Requirement already satisfied: six>=1.5 in /usr/local/lib/python3.7/dist-packages (from python-dateutil>=2.7.3->pandas->deepchem) (1.15.0)\n",
            "Requirement already satisfied: threadpoolctl>=2.0.0 in /usr/local/lib/python3.7/dist-packages (from scikit-learn->deepchem) (3.0.0)\n",
            "Installing collected packages: deepchem\n",
            "Successfully installed deepchem-2.6.0.dev20211119161201\n"
          ]
        }
      ]
    },
    {
      "cell_type": "markdown",
      "metadata": {
        "id": "GBOL2oOYxlQT"
      },
      "source": [
        "Installing the library is not enough... the library (or parts of it) have to be \"imported\" into the program so that its functions and objects can be accessed. The following commands load the required `rdkit` functions so they are available for use in this notebook. \n",
        "\n"
      ]
    },
    {
      "cell_type": "code",
      "metadata": {
        "id": "Zvm-o21MlRlA"
      },
      "source": [
        "## import some rdkit functions\n",
        "from rdkit import Chem\n",
        "from rdkit.Chem import Draw\n",
        "from rdkit.Chem.Draw import IPythonConsole\n",
        "\n"
      ],
      "execution_count": 2,
      "outputs": []
    },
    {
      "cell_type": "markdown",
      "metadata": {
        "id": "N6TuTrQ4WLCR"
      },
      "source": [
        "We also load the `pandas` library and the `numpy` library. These provide common functions for math and tables. Here we import them with shortcut names so that it will be quicker to use them in the following.\n"
      ]
    },
    {
      "cell_type": "code",
      "metadata": {
        "id": "H3PVJPzpWLTC"
      },
      "source": [
        "## import pandas and numpy for tables and maths\n",
        "import pandas as pd\n",
        "import numpy as np"
      ],
      "execution_count": 3,
      "outputs": []
    },
    {
      "cell_type": "markdown",
      "metadata": {
        "id": "LLXHgVSOlS10"
      },
      "source": [
        "## 1. Create `rdkit` molecule objects and display them\n"
      ]
    },
    {
      "cell_type": "markdown",
      "metadata": {
        "id": "DTy4qSnTnGGG"
      },
      "source": [
        "### Create a molecule object from a SMILES string\n",
        "\n",
        "Using `rdkit` it's sraightforward to convert a SMILES string to an image of the corresponding molecule. "
      ]
    },
    {
      "cell_type": "code",
      "metadata": {
        "id": "lMv5YQ1btOKj",
        "colab": {
          "base_uri": "https://localhost:8080/",
          "height": 167
        },
        "outputId": "731b5e5e-5f2c-4b84-c317-9309770cd71b"
      },
      "source": [
        "smiles = 'Cc1ccccc1'\n",
        "molecule = Chem.MolFromSmiles(smiles)\n",
        "molecule"
      ],
      "execution_count": 4,
      "outputs": [
        {
          "output_type": "execute_result",
          "data": {
            "image/png": "[encoded data removed]",
            "text/plain": [
              "<rdkit.Chem.rdchem.Mol at 0x7f302b51e760>"
            ]
          },
          "metadata": {},
          "execution_count": 4
        }
      ]
    },
    {
      "cell_type": "markdown",
      "metadata": {
        "id": "rT0QtStknKxl"
      },
      "source": [
        "\n",
        "We can use the same functions to create a list of molecule objects from a list of SMILES strings\n"
      ]
    },
    {
      "cell_type": "code",
      "metadata": {
        "colab": {
          "base_uri": "https://localhost:8080/",
          "height": 417
        },
        "id": "sWenJ4K3kHYA",
        "outputId": "21c66673-52ca-42da-d089-2f8dd1d34728"
      },
      "source": [
        "smiles_list = ['Cc1ccccc1',\n",
        "               'CCO',\n",
        "               'C1=CC2=C(C=C1O)C(=CN2)CCN',\n",
        "               'CC(=O)NC1=CC=C(C=C1)O']\n",
        "molecule_list = [Chem.MolFromSmiles(smiles) for smiles in smiles_list]\n",
        "Draw.MolsToGridImage(molecule_list)"
      ],
      "execution_count": 51,
      "outputs": [
        {
          "output_type": "execute_result",
          "data": {
            "image/png": "[encoded data removed]",
            "text/plain": [
              "<IPython.core.display.Image object>"
            ]
          },
          "metadata": {},
          "execution_count": 51
        }
      ]
    },
    {
      "cell_type": "markdown",
      "metadata": {
        "id": "eN127U8I2K-H"
      },
      "source": [
        "If we have labels for our molecules, we can add them to the plot as follows"
      ]
    },
    {
      "cell_type": "code",
      "metadata": {
        "colab": {
          "base_uri": "https://localhost:8080/",
          "height": 417
        },
        "id": "mrz11e9z2J0F",
        "outputId": "8a69e1e5-6f9f-4e78-990d-830e18945abe"
      },
      "source": [
        "molecule_names = ['toluene','ethanol','serotonin','paracetamol']\n",
        "Draw.MolsToGridImage(molecule_list, legends=molecule_names)"
      ],
      "execution_count": 6,
      "outputs": [
        {
          "output_type": "execute_result",
          "data": {
            "image/png": "[encoded data removed]",
            "text/plain": [
              "<IPython.core.display.Image object>"
            ]
          },
          "metadata": {},
          "execution_count": 6
        }
      ]
    },
    {
      "cell_type": "markdown",
      "metadata": {
        "id": "mWOX5KM73buA"
      },
      "source": [
        "\n",
        "## 2. Featurizing molecules in `deepchem`\n",
        "\n",
        "\n"
      ]
    },
    {
      "cell_type": "markdown",
      "metadata": {
        "id": "gza2mC-a5151"
      },
      "source": [
        "\"Featurizing\" a molecule means transforming it into a vector, or matrix, or more complex representation that can be used as an input for a machine learning algorithm. We have seen basic featurization methods such as fingerprints and molecular properties. These are easy to calculate in `deepchem`.\n",
        "\n",
        "A [full list of `deepchem` featurizers](https://deepchem.readthedocs.io/en/latest/api_reference/featurizers.html) is available here."
      ]
    },
    {
      "cell_type": "markdown",
      "metadata": {
        "id": "0kiLsYic3xim"
      },
      "source": [
        "### Fingerprints\n"
      ]
    },
    {
      "cell_type": "code",
      "metadata": {
        "colab": {
          "base_uri": "https://localhost:8080/"
        },
        "id": "f3boiEyP3lhS",
        "outputId": "fa69be79-8dd2-4e61-83b0-0d7e150a0a75"
      },
      "source": [
        "import deepchem as dc\n",
        "### calculate fingerprints for the molecules defined in `molecule_list`\n",
        "featurizer = dc.feat.CircularFingerprint()\n",
        "fingerprints = featurizer(molecule_list)\n",
        "\n",
        "fingerprints"
      ],
      "execution_count": 7,
      "outputs": [
        {
          "output_type": "execute_result",
          "data": {
            "text/plain": [
              "array([[0., 0., 0., ..., 0., 0., 0.],\n",
              "       [0., 0., 0., ..., 0., 0., 0.],\n",
              "       [0., 0., 0., ..., 0., 0., 0.],\n",
              "       [0., 0., 0., ..., 0., 0., 0.]])"
            ]
          },
          "metadata": {},
          "execution_count": 7
        }
      ]
    },
    {
      "cell_type": "markdown",
      "metadata": {
        "id": "IxG7Lh-D4yEe"
      },
      "source": [
        "### Molecular properties"
      ]
    },
    {
      "cell_type": "code",
      "metadata": {
        "colab": {
          "base_uri": "https://localhost:8080/",
          "height": 224
        },
        "id": "KD4FdZFH4Yz7",
        "outputId": "f70e6ea3-05ff-4878-9c43-038f72b30083"
      },
      "source": [
        "### calculate RDKit descriptors\n",
        "rdkit_featurizer = dc.feat.RDKitDescriptors()\n",
        "features = rdkit_featurizer(molecule_list)\n",
        "pd.DataFrame(features, columns=rdkit_featurizer.descriptors)\n"
      ],
      "execution_count": 8,
      "outputs": [
        {
          "output_type": "execute_result",
          "data": {
            "text/html": [
              "<div>\n",
              "<style scoped>\n",
              "    .dataframe tbody tr th:only-of-type {\n",
              "        vertical-align: middle;\n",
              "    }\n",
              "\n",
              "    .dataframe tbody tr th {\n",
              "        vertical-align: top;\n",
              "    }\n",
              "\n",
              "    .dataframe thead th {\n",
              "        text-align: right;\n",
              "    }\n",
              "</style>\n",
              "<table border=\"1\" class=\"dataframe\">\n",
              "  <thead>\n",
              "    <tr style=\"text-align: right;\">\n",
              "      <th></th>\n",
              "      <th>MaxEStateIndex</th>\n",
              "      <th>MinEStateIndex</th>\n",
              "      <th>MaxAbsEStateIndex</th>\n",
              "      <th>MinAbsEStateIndex</th>\n",
              "      <th>qed</th>\n",
              "      <th>MolWt</th>\n",
              "      <th>HeavyAtomMolWt</th>\n",
              "      <th>ExactMolWt</th>\n",
              "      <th>NumValenceElectrons</th>\n",
              "      <th>NumRadicalElectrons</th>\n",
              "      <th>MaxPartialCharge</th>\n",
              "      <th>MinPartialCharge</th>\n",
              "      <th>MaxAbsPartialCharge</th>\n",
              "      <th>MinAbsPartialCharge</th>\n",
              "      <th>FpDensityMorgan1</th>\n",
              "      <th>FpDensityMorgan2</th>\n",
              "      <th>FpDensityMorgan3</th>\n",
              "      <th>BCUT2D_MWHI</th>\n",
              "      <th>BCUT2D_MWLOW</th>\n",
              "      <th>BCUT2D_CHGHI</th>\n",
              "      <th>BCUT2D_CHGLO</th>\n",
              "      <th>BCUT2D_LOGPHI</th>\n",
              "      <th>BCUT2D_LOGPLOW</th>\n",
              "      <th>BCUT2D_MRHI</th>\n",
              "      <th>BCUT2D_MRLOW</th>\n",
              "      <th>BalabanJ</th>\n",
              "      <th>BertzCT</th>\n",
              "      <th>Chi0</th>\n",
              "      <th>Chi0n</th>\n",
              "      <th>Chi0v</th>\n",
              "      <th>Chi1</th>\n",
              "      <th>Chi1n</th>\n",
              "      <th>Chi1v</th>\n",
              "      <th>Chi2n</th>\n",
              "      <th>Chi2v</th>\n",
              "      <th>Chi3n</th>\n",
              "      <th>Chi3v</th>\n",
              "      <th>Chi4n</th>\n",
              "      <th>Chi4v</th>\n",
              "      <th>HallKierAlpha</th>\n",
              "      <th>...</th>\n",
              "      <th>fr_hdrzine</th>\n",
              "      <th>fr_hdrzone</th>\n",
              "      <th>fr_imidazole</th>\n",
              "      <th>fr_imide</th>\n",
              "      <th>fr_isocyan</th>\n",
              "      <th>fr_isothiocyan</th>\n",
              "      <th>fr_ketone</th>\n",
              "      <th>fr_ketone_Topliss</th>\n",
              "      <th>fr_lactam</th>\n",
              "      <th>fr_lactone</th>\n",
              "      <th>fr_methoxy</th>\n",
              "      <th>fr_morpholine</th>\n",
              "      <th>fr_nitrile</th>\n",
              "      <th>fr_nitro</th>\n",
              "      <th>fr_nitro_arom</th>\n",
              "      <th>fr_nitro_arom_nonortho</th>\n",
              "      <th>fr_nitroso</th>\n",
              "      <th>fr_oxazole</th>\n",
              "      <th>fr_oxime</th>\n",
              "      <th>fr_para_hydroxylation</th>\n",
              "      <th>fr_phenol</th>\n",
              "      <th>fr_phenol_noOrthoHbond</th>\n",
              "      <th>fr_phos_acid</th>\n",
              "      <th>fr_phos_ester</th>\n",
              "      <th>fr_piperdine</th>\n",
              "      <th>fr_piperzine</th>\n",
              "      <th>fr_priamide</th>\n",
              "      <th>fr_prisulfonamd</th>\n",
              "      <th>fr_pyridine</th>\n",
              "      <th>fr_quatN</th>\n",
              "      <th>fr_sulfide</th>\n",
              "      <th>fr_sulfonamd</th>\n",
              "      <th>fr_sulfone</th>\n",
              "      <th>fr_term_acetylene</th>\n",
              "      <th>fr_tetrazole</th>\n",
              "      <th>fr_thiazole</th>\n",
              "      <th>fr_thiocyan</th>\n",
              "      <th>fr_thiophene</th>\n",
              "      <th>fr_unbrch_alkane</th>\n",
              "      <th>fr_urea</th>\n",
              "    </tr>\n",
              "  </thead>\n",
              "  <tbody>\n",
              "    <tr>\n",
              "      <th>0</th>\n",
              "      <td>2.083333</td>\n",
              "      <td>1.321759</td>\n",
              "      <td>2.083333</td>\n",
              "      <td>1.321759</td>\n",
              "      <td>0.458806</td>\n",
              "      <td>92.141</td>\n",
              "      <td>84.077</td>\n",
              "      <td>92.062600</td>\n",
              "      <td>36.0</td>\n",
              "      <td>0.0</td>\n",
              "      <td>-0.039775</td>\n",
              "      <td>-0.062249</td>\n",
              "      <td>0.062249</td>\n",
              "      <td>0.039775</td>\n",
              "      <td>1.000000</td>\n",
              "      <td>1.571429</td>\n",
              "      <td>1.857143</td>\n",
              "      <td>13.782105</td>\n",
              "      <td>10.244626</td>\n",
              "      <td>1.715255</td>\n",
              "      <td>-1.822324</td>\n",
              "      <td>1.916279</td>\n",
              "      <td>-1.622156</td>\n",
              "      <td>5.111827</td>\n",
              "      <td>1.475757</td>\n",
              "      <td>3.021465</td>\n",
              "      <td>129.965660</td>\n",
              "      <td>5.112884</td>\n",
              "      <td>4.386751</td>\n",
              "      <td>4.386751</td>\n",
              "      <td>3.393847</td>\n",
              "      <td>2.410684</td>\n",
              "      <td>2.410684</td>\n",
              "      <td>1.654701</td>\n",
              "      <td>1.654701</td>\n",
              "      <td>0.940456</td>\n",
              "      <td>0.940456</td>\n",
              "      <td>0.534378</td>\n",
              "      <td>0.534378</td>\n",
              "      <td>-0.78</td>\n",
              "      <td>...</td>\n",
              "      <td>0.0</td>\n",
              "      <td>0.0</td>\n",
              "      <td>0.0</td>\n",
              "      <td>0.0</td>\n",
              "      <td>0.0</td>\n",
              "      <td>0.0</td>\n",
              "      <td>0.0</td>\n",
              "      <td>0.0</td>\n",
              "      <td>0.0</td>\n",
              "      <td>0.0</td>\n",
              "      <td>0.0</td>\n",
              "      <td>0.0</td>\n",
              "      <td>0.0</td>\n",
              "      <td>0.0</td>\n",
              "      <td>0.0</td>\n",
              "      <td>0.0</td>\n",
              "      <td>0.0</td>\n",
              "      <td>0.0</td>\n",
              "      <td>0.0</td>\n",
              "      <td>0.0</td>\n",
              "      <td>0.0</td>\n",
              "      <td>0.0</td>\n",
              "      <td>0.0</td>\n",
              "      <td>0.0</td>\n",
              "      <td>0.0</td>\n",
              "      <td>0.0</td>\n",
              "      <td>0.0</td>\n",
              "      <td>0.0</td>\n",
              "      <td>0.0</td>\n",
              "      <td>0.0</td>\n",
              "      <td>0.0</td>\n",
              "      <td>0.0</td>\n",
              "      <td>0.0</td>\n",
              "      <td>0.0</td>\n",
              "      <td>0.0</td>\n",
              "      <td>0.0</td>\n",
              "      <td>0.0</td>\n",
              "      <td>0.0</td>\n",
              "      <td>0.0</td>\n",
              "      <td>0.0</td>\n",
              "    </tr>\n",
              "    <tr>\n",
              "      <th>1</th>\n",
              "      <td>7.569444</td>\n",
              "      <td>0.250000</td>\n",
              "      <td>7.569444</td>\n",
              "      <td>0.250000</td>\n",
              "      <td>0.406808</td>\n",
              "      <td>46.069</td>\n",
              "      <td>40.021</td>\n",
              "      <td>46.041865</td>\n",
              "      <td>20.0</td>\n",
              "      <td>0.0</td>\n",
              "      <td>0.040221</td>\n",
              "      <td>-0.396664</td>\n",
              "      <td>0.396664</td>\n",
              "      <td>0.040221</td>\n",
              "      <td>2.000000</td>\n",
              "      <td>2.000000</td>\n",
              "      <td>2.000000</td>\n",
              "      <td>16.248991</td>\n",
              "      <td>10.908168</td>\n",
              "      <td>1.340294</td>\n",
              "      <td>-1.522359</td>\n",
              "      <td>1.296243</td>\n",
              "      <td>-1.568364</td>\n",
              "      <td>3.835802</td>\n",
              "      <td>0.318406</td>\n",
              "      <td>1.632993</td>\n",
              "      <td>2.754888</td>\n",
              "      <td>2.707107</td>\n",
              "      <td>2.154320</td>\n",
              "      <td>2.154320</td>\n",
              "      <td>1.414214</td>\n",
              "      <td>1.023335</td>\n",
              "      <td>1.023335</td>\n",
              "      <td>0.316228</td>\n",
              "      <td>0.316228</td>\n",
              "      <td>0.000000</td>\n",
              "      <td>0.000000</td>\n",
              "      <td>0.000000</td>\n",
              "      <td>0.000000</td>\n",
              "      <td>-0.04</td>\n",
              "      <td>...</td>\n",
              "      <td>0.0</td>\n",
              "      <td>0.0</td>\n",
              "      <td>0.0</td>\n",
              "      <td>0.0</td>\n",
              "      <td>0.0</td>\n",
              "      <td>0.0</td>\n",
              "      <td>0.0</td>\n",
              "      <td>0.0</td>\n",
              "      <td>0.0</td>\n",
              "      <td>0.0</td>\n",
              "      <td>0.0</td>\n",
              "      <td>0.0</td>\n",
              "      <td>0.0</td>\n",
              "      <td>0.0</td>\n",
              "      <td>0.0</td>\n",
              "      <td>0.0</td>\n",
              "      <td>0.0</td>\n",
              "      <td>0.0</td>\n",
              "      <td>0.0</td>\n",
              "      <td>0.0</td>\n",
              "      <td>0.0</td>\n",
              "      <td>0.0</td>\n",
              "      <td>0.0</td>\n",
              "      <td>0.0</td>\n",
              "      <td>0.0</td>\n",
              "      <td>0.0</td>\n",
              "      <td>0.0</td>\n",
              "      <td>0.0</td>\n",
              "      <td>0.0</td>\n",
              "      <td>0.0</td>\n",
              "      <td>0.0</td>\n",
              "      <td>0.0</td>\n",
              "      <td>0.0</td>\n",
              "      <td>0.0</td>\n",
              "      <td>0.0</td>\n",
              "      <td>0.0</td>\n",
              "      <td>0.0</td>\n",
              "      <td>0.0</td>\n",
              "      <td>0.0</td>\n",
              "      <td>0.0</td>\n",
              "    </tr>\n",
              "    <tr>\n",
              "      <th>2</th>\n",
              "      <td>9.296142</td>\n",
              "      <td>0.296640</td>\n",
              "      <td>9.296142</td>\n",
              "      <td>0.296640</td>\n",
              "      <td>0.646845</td>\n",
              "      <td>176.219</td>\n",
              "      <td>164.123</td>\n",
              "      <td>176.094963</td>\n",
              "      <td>68.0</td>\n",
              "      <td>0.0</td>\n",
              "      <td>0.115838</td>\n",
              "      <td>-0.507941</td>\n",
              "      <td>0.507941</td>\n",
              "      <td>0.115838</td>\n",
              "      <td>1.384615</td>\n",
              "      <td>2.230769</td>\n",
              "      <td>3.000000</td>\n",
              "      <td>16.254673</td>\n",
              "      <td>10.113650</td>\n",
              "      <td>2.021859</td>\n",
              "      <td>-1.958270</td>\n",
              "      <td>2.222395</td>\n",
              "      <td>-2.011819</td>\n",
              "      <td>5.840296</td>\n",
              "      <td>0.475910</td>\n",
              "      <td>2.576000</td>\n",
              "      <td>419.782009</td>\n",
              "      <td>9.259149</td>\n",
              "      <td>7.248179</td>\n",
              "      <td>7.248179</td>\n",
              "      <td>6.308862</td>\n",
              "      <td>4.300793</td>\n",
              "      <td>4.300793</td>\n",
              "      <td>3.082475</td>\n",
              "      <td>3.082475</td>\n",
              "      <td>2.164682</td>\n",
              "      <td>2.164682</td>\n",
              "      <td>1.528734</td>\n",
              "      <td>1.528734</td>\n",
              "      <td>-1.48</td>\n",
              "      <td>...</td>\n",
              "      <td>0.0</td>\n",
              "      <td>0.0</td>\n",
              "      <td>0.0</td>\n",
              "      <td>0.0</td>\n",
              "      <td>0.0</td>\n",
              "      <td>0.0</td>\n",
              "      <td>0.0</td>\n",
              "      <td>0.0</td>\n",
              "      <td>0.0</td>\n",
              "      <td>0.0</td>\n",
              "      <td>0.0</td>\n",
              "      <td>0.0</td>\n",
              "      <td>0.0</td>\n",
              "      <td>0.0</td>\n",
              "      <td>0.0</td>\n",
              "      <td>0.0</td>\n",
              "      <td>0.0</td>\n",
              "      <td>0.0</td>\n",
              "      <td>0.0</td>\n",
              "      <td>0.0</td>\n",
              "      <td>1.0</td>\n",
              "      <td>1.0</td>\n",
              "      <td>0.0</td>\n",
              "      <td>0.0</td>\n",
              "      <td>0.0</td>\n",
              "      <td>0.0</td>\n",
              "      <td>0.0</td>\n",
              "      <td>0.0</td>\n",
              "      <td>0.0</td>\n",
              "      <td>0.0</td>\n",
              "      <td>0.0</td>\n",
              "      <td>0.0</td>\n",
              "      <td>0.0</td>\n",
              "      <td>0.0</td>\n",
              "      <td>0.0</td>\n",
              "      <td>0.0</td>\n",
              "      <td>0.0</td>\n",
              "      <td>0.0</td>\n",
              "      <td>0.0</td>\n",
              "      <td>0.0</td>\n",
              "    </tr>\n",
              "    <tr>\n",
              "      <th>3</th>\n",
              "      <td>10.524469</td>\n",
              "      <td>-0.115102</td>\n",
              "      <td>10.524469</td>\n",
              "      <td>0.115102</td>\n",
              "      <td>0.595026</td>\n",
              "      <td>151.165</td>\n",
              "      <td>142.093</td>\n",
              "      <td>151.063329</td>\n",
              "      <td>58.0</td>\n",
              "      <td>0.0</td>\n",
              "      <td>0.220747</td>\n",
              "      <td>-0.507964</td>\n",
              "      <td>0.507964</td>\n",
              "      <td>0.220747</td>\n",
              "      <td>1.363636</td>\n",
              "      <td>1.909091</td>\n",
              "      <td>2.363636</td>\n",
              "      <td>16.254689</td>\n",
              "      <td>10.280191</td>\n",
              "      <td>1.928036</td>\n",
              "      <td>-1.994554</td>\n",
              "      <td>2.125248</td>\n",
              "      <td>-2.044011</td>\n",
              "      <td>5.880955</td>\n",
              "      <td>-0.113736</td>\n",
              "      <td>2.736298</td>\n",
              "      <td>253.299498</td>\n",
              "      <td>8.267585</td>\n",
              "      <td>6.164863</td>\n",
              "      <td>6.164863</td>\n",
              "      <td>5.181541</td>\n",
              "      <td>3.249098</td>\n",
              "      <td>3.249098</td>\n",
              "      <td>2.228060</td>\n",
              "      <td>2.228060</td>\n",
              "      <td>1.187673</td>\n",
              "      <td>1.187673</td>\n",
              "      <td>0.748027</td>\n",
              "      <td>0.748027</td>\n",
              "      <td>-1.51</td>\n",
              "      <td>...</td>\n",
              "      <td>0.0</td>\n",
              "      <td>0.0</td>\n",
              "      <td>0.0</td>\n",
              "      <td>0.0</td>\n",
              "      <td>0.0</td>\n",
              "      <td>0.0</td>\n",
              "      <td>0.0</td>\n",
              "      <td>0.0</td>\n",
              "      <td>0.0</td>\n",
              "      <td>0.0</td>\n",
              "      <td>0.0</td>\n",
              "      <td>0.0</td>\n",
              "      <td>0.0</td>\n",
              "      <td>0.0</td>\n",
              "      <td>0.0</td>\n",
              "      <td>0.0</td>\n",
              "      <td>0.0</td>\n",
              "      <td>0.0</td>\n",
              "      <td>0.0</td>\n",
              "      <td>0.0</td>\n",
              "      <td>1.0</td>\n",
              "      <td>1.0</td>\n",
              "      <td>0.0</td>\n",
              "      <td>0.0</td>\n",
              "      <td>0.0</td>\n",
              "      <td>0.0</td>\n",
              "      <td>0.0</td>\n",
              "      <td>0.0</td>\n",
              "      <td>0.0</td>\n",
              "      <td>0.0</td>\n",
              "      <td>0.0</td>\n",
              "      <td>0.0</td>\n",
              "      <td>0.0</td>\n",
              "      <td>0.0</td>\n",
              "      <td>0.0</td>\n",
              "      <td>0.0</td>\n",
              "      <td>0.0</td>\n",
              "      <td>0.0</td>\n",
              "      <td>0.0</td>\n",
              "      <td>0.0</td>\n",
              "    </tr>\n",
              "  </tbody>\n",
              "</table>\n",
              "<p>4 rows × 208 columns</p>\n",
              "</div>"
            ],
            "text/plain": [
              "   MaxEStateIndex  MinEStateIndex  ...  fr_unbrch_alkane  fr_urea\n",
              "0        2.083333        1.321759  ...               0.0      0.0\n",
              "1        7.569444        0.250000  ...               0.0      0.0\n",
              "2        9.296142        0.296640  ...               0.0      0.0\n",
              "3       10.524469       -0.115102  ...               0.0      0.0\n",
              "\n",
              "[4 rows x 208 columns]"
            ]
          },
          "metadata": {},
          "execution_count": 8
        }
      ]
    },
    {
      "cell_type": "markdown",
      "metadata": {
        "id": "1Jri6lLu_rk8"
      },
      "source": [
        "### Molecular Graphs"
      ]
    },
    {
      "cell_type": "markdown",
      "metadata": {
        "id": "E_FbrWWfWnCj"
      },
      "source": [
        "Molecular graphs are a powerful representation of molecules that encode the bond structure (who is close to whom) and the features of each atom. THey are meant to be used with convolutional molecular networks that operate in a similar way to convolutional neural networks on images."
      ]
    },
    {
      "cell_type": "code",
      "metadata": {
        "id": "vLYd1Gqf5Xyb"
      },
      "source": [
        "molGraph_featurizer = dc.feat.ConvMolFeaturizer()\n",
        "features = molGraph_featurizer(molecule_list)"
      ],
      "execution_count": 9,
      "outputs": []
    },
    {
      "cell_type": "markdown",
      "metadata": {
        "id": "-KjpqvTp-DgM"
      },
      "source": [
        "Let us inspect the representation of the first molecule in the list, i.e. toluene.\n",
        "* the `get_adjacency_list()` method provides a list of which atoms are connected to each atom in the molecule\n",
        "* the `get_atom_features()` method provides a list of features associated to each atom. These are basic properties such as valence, "
      ]
    },
    {
      "cell_type": "code",
      "metadata": {
        "colab": {
          "base_uri": "https://localhost:8080/"
        },
        "id": "u-4e-y6_5h3W",
        "outputId": "a9ec326b-b60e-4231-c4e5-28855e93ecc5"
      },
      "source": [
        "features[0].get_adjacency_list()"
      ],
      "execution_count": 10,
      "outputs": [
        {
          "output_type": "execute_result",
          "data": {
            "text/plain": [
              "[[6], [6, 2], [1, 3], [2, 4], [3, 5], [4, 6], [0, 1, 5]]"
            ]
          },
          "metadata": {},
          "execution_count": 10
        }
      ]
    },
    {
      "cell_type": "code",
      "metadata": {
        "colab": {
          "base_uri": "https://localhost:8080/"
        },
        "id": "ivH9SqJZ8iZu",
        "outputId": "9466a689-d643-4eda-fe96-5dbb6b1e10d7"
      },
      "source": [
        "print(features[0].get_atom_features())\n"
      ],
      "execution_count": 11,
      "outputs": [
        {
          "output_type": "stream",
          "name": "stdout",
          "text": [
            "[[1. 0. 0. 0. 0. 0. 0. 0. 0. 0. 0. 0. 0. 0. 0. 0. 0. 0. 0. 0. 0. 0. 0. 0.\n",
            "  0. 0. 0. 0. 0. 0. 0. 0. 0. 0. 0. 0. 0. 0. 0. 0. 0. 0. 0. 0. 0. 1. 0. 0.\n",
            "  0. 0. 0. 0. 0. 0. 0. 0. 0. 0. 1. 0. 0. 0. 0. 0. 0. 0. 1. 0. 0. 0. 0. 0.\n",
            "  0. 1. 0.]\n",
            " [1. 0. 0. 0. 0. 0. 0. 0. 0. 0. 0. 0. 0. 0. 0. 0. 0. 0. 0. 0. 0. 0. 0. 0.\n",
            "  0. 0. 0. 0. 0. 0. 0. 0. 0. 0. 0. 0. 0. 0. 0. 0. 0. 0. 0. 0. 0. 0. 1. 0.\n",
            "  0. 0. 0. 0. 0. 0. 0. 0. 1. 0. 0. 0. 0. 0. 0. 0. 0. 1. 0. 0. 0. 1. 0. 1.\n",
            "  0. 0. 0.]\n",
            " [1. 0. 0. 0. 0. 0. 0. 0. 0. 0. 0. 0. 0. 0. 0. 0. 0. 0. 0. 0. 0. 0. 0. 0.\n",
            "  0. 0. 0. 0. 0. 0. 0. 0. 0. 0. 0. 0. 0. 0. 0. 0. 0. 0. 0. 0. 0. 0. 1. 0.\n",
            "  0. 0. 0. 0. 0. 0. 0. 0. 1. 0. 0. 0. 0. 0. 0. 0. 0. 1. 0. 0. 0. 1. 0. 1.\n",
            "  0. 0. 0.]\n",
            " [1. 0. 0. 0. 0. 0. 0. 0. 0. 0. 0. 0. 0. 0. 0. 0. 0. 0. 0. 0. 0. 0. 0. 0.\n",
            "  0. 0. 0. 0. 0. 0. 0. 0. 0. 0. 0. 0. 0. 0. 0. 0. 0. 0. 0. 0. 0. 0. 1. 0.\n",
            "  0. 0. 0. 0. 0. 0. 0. 0. 1. 0. 0. 0. 0. 0. 0. 0. 0. 1. 0. 0. 0. 1. 0. 1.\n",
            "  0. 0. 0.]\n",
            " [1. 0. 0. 0. 0. 0. 0. 0. 0. 0. 0. 0. 0. 0. 0. 0. 0. 0. 0. 0. 0. 0. 0. 0.\n",
            "  0. 0. 0. 0. 0. 0. 0. 0. 0. 0. 0. 0. 0. 0. 0. 0. 0. 0. 0. 0. 0. 0. 1. 0.\n",
            "  0. 0. 0. 0. 0. 0. 0. 0. 1. 0. 0. 0. 0. 0. 0. 0. 0. 1. 0. 0. 0. 1. 0. 1.\n",
            "  0. 0. 0.]\n",
            " [1. 0. 0. 0. 0. 0. 0. 0. 0. 0. 0. 0. 0. 0. 0. 0. 0. 0. 0. 0. 0. 0. 0. 0.\n",
            "  0. 0. 0. 0. 0. 0. 0. 0. 0. 0. 0. 0. 0. 0. 0. 0. 0. 0. 0. 0. 0. 0. 1. 0.\n",
            "  0. 0. 0. 0. 0. 0. 0. 0. 1. 0. 0. 0. 0. 0. 0. 0. 0. 1. 0. 0. 0. 1. 0. 1.\n",
            "  0. 0. 0.]\n",
            " [1. 0. 0. 0. 0. 0. 0. 0. 0. 0. 0. 0. 0. 0. 0. 0. 0. 0. 0. 0. 0. 0. 0. 0.\n",
            "  0. 0. 0. 0. 0. 0. 0. 0. 0. 0. 0. 0. 0. 0. 0. 0. 0. 0. 0. 0. 0. 0. 0. 1.\n",
            "  0. 0. 0. 0. 0. 0. 0. 1. 0. 0. 0. 0. 0. 0. 0. 0. 0. 1. 0. 0. 0. 1. 1. 0.\n",
            "  0. 0. 0.]]\n"
          ]
        }
      ]
    },
    {
      "cell_type": "markdown",
      "metadata": {
        "id": "xzjYOCUTAMKS"
      },
      "source": [
        "## 3. Working with `deepchem` datasets"
      ]
    },
    {
      "cell_type": "markdown",
      "metadata": {
        "id": "W1i4AkFnAtPh"
      },
      "source": [
        "#### MoleculeNet\n",
        "\n",
        "`deepchem` provides easy access to several databases of molecules through `molnet`. These datasets can be used directly for training machine-learning models, as well as for testing purposes.\n",
        "\n",
        "* `load_pcba()` PubChem BioAssay (PCBA) is a database consisting of biological activities of small molecules generated by high-throughput screening. We use a subset of PCBA, containing 128 bioassays measured over 400 thousand compounds, used by previous work to benchmark machine learning methods.\n",
        "* `load_chembl()` This dataset is based on release 22.1 of the data from [CHEmbl](https://www.ebi.ac.uk/chembl/).\n",
        "* `load_zinc15()` ZINC15 is a dataset of over 230 million purchasable compounds for virtual screening of small molecules to identify structures that are likely to bind to drug targets. ZINC15 data is currently available in 2D (SMILES string) format.\n",
        "* `load_delaney()` The Delaney (ESOL) dataset a regression dataset containing structures and water solubility data for 1128 compounds. The dataset is widely used to validate machine learning models on estimating solubility directly from molecular structures (as encoded in SMILES strings).\n",
        "* `load_tox21()` The “Toxicology in the 21st Century” (Tox21) initiative created a public database measuring toxicity of compounds, which has been used in the 2014 Tox21 Data Challenge. This dataset contains qualitative toxicity measurements for 8k compounds on 12 different targets, including nuclear receptors and stress response pathways.\n",
        "\n",
        "\n",
        "When loading a dataset from `molnet`, we can directly specify the featurization we want to use, and the data will be directly downloaded in a featurized form.\n"
      ]
    },
    {
      "cell_type": "code",
      "metadata": {
        "id": "ze5ag9VZAPdw"
      },
      "source": [
        "tasks, datasets, transformers = dc.molnet.load_delaney(featurizer='ECFP')\n",
        "train_dataset, valid_dataset, test_dataset = datasets"
      ],
      "execution_count": 12,
      "outputs": []
    },
    {
      "cell_type": "code",
      "metadata": {
        "colab": {
          "base_uri": "https://localhost:8080/"
        },
        "id": "ZSByDOMcJXHR",
        "outputId": "9d83981b-b533-4a8c-c4da-c5a809c3d29a"
      },
      "source": [
        "print(tasks)"
      ],
      "execution_count": 13,
      "outputs": [
        {
          "output_type": "stream",
          "name": "stdout",
          "text": [
            "['measured log solubility in mols per litre']\n"
          ]
        }
      ]
    },
    {
      "cell_type": "code",
      "metadata": {
        "colab": {
          "base_uri": "https://localhost:8080/"
        },
        "id": "iK8fJfeLEMEP",
        "outputId": "72302956-4346-47c6-98d0-473e2b51511b"
      },
      "source": [
        "print(f'training dataset contains {len(train_dataset)} molecules')\n",
        "print(f'validation dataset contains {len(valid_dataset)} molecules')\n",
        "print(f'test dataset contains {len(test_dataset)} molecules')"
      ],
      "execution_count": 14,
      "outputs": [
        {
          "output_type": "stream",
          "name": "stdout",
          "text": [
            "training dataset contains 902 molecules\n",
            "validation dataset contains 113 molecules\n",
            "test dataset contains 113 molecules\n"
          ]
        }
      ]
    },
    {
      "cell_type": "markdown",
      "metadata": {
        "id": "Tsx8EFvCJZ-y"
      },
      "source": [
        "we can print a pretty table with the data using the `pandas` library that we imported previously. the `.head()` method prints just the first few lines for inspection."
      ]
    },
    {
      "cell_type": "code",
      "metadata": {
        "id": "mocJ7bs1BuPu",
        "colab": {
          "base_uri": "https://localhost:8080/",
          "height": 206
        },
        "outputId": "8eaf151c-99d6-4977-801f-2435b9ea97fb"
      },
      "source": [
        "train = pd.DataFrame(train_dataset.y, columns=tasks)\n",
        "train['smiles'] = train_dataset.ids\n",
        "train.head()"
      ],
      "execution_count": 15,
      "outputs": [
        {
          "output_type": "execute_result",
          "data": {
            "text/html": [
              "<div>\n",
              "<style scoped>\n",
              "    .dataframe tbody tr th:only-of-type {\n",
              "        vertical-align: middle;\n",
              "    }\n",
              "\n",
              "    .dataframe tbody tr th {\n",
              "        vertical-align: top;\n",
              "    }\n",
              "\n",
              "    .dataframe thead th {\n",
              "        text-align: right;\n",
              "    }\n",
              "</style>\n",
              "<table border=\"1\" class=\"dataframe\">\n",
              "  <thead>\n",
              "    <tr style=\"text-align: right;\">\n",
              "      <th></th>\n",
              "      <th>measured log solubility in mols per litre</th>\n",
              "      <th>smiles</th>\n",
              "    </tr>\n",
              "  </thead>\n",
              "  <tbody>\n",
              "    <tr>\n",
              "      <th>0</th>\n",
              "      <td>0.390413</td>\n",
              "      <td>CC(C)=CCCC(C)=CC(=O)</td>\n",
              "    </tr>\n",
              "    <tr>\n",
              "      <th>1</th>\n",
              "      <td>0.090421</td>\n",
              "      <td>CCCC=C</td>\n",
              "    </tr>\n",
              "    <tr>\n",
              "      <th>2</th>\n",
              "      <td>-2.464346</td>\n",
              "      <td>CCCCCCCCCCCCCC</td>\n",
              "    </tr>\n",
              "    <tr>\n",
              "      <th>3</th>\n",
              "      <td>0.704920</td>\n",
              "      <td>CC(C)Cl</td>\n",
              "    </tr>\n",
              "    <tr>\n",
              "      <th>4</th>\n",
              "      <td>1.159746</td>\n",
              "      <td>CCC(C)CO</td>\n",
              "    </tr>\n",
              "  </tbody>\n",
              "</table>\n",
              "</div>"
            ],
            "text/plain": [
              "   measured log solubility in mols per litre                smiles\n",
              "0                                   0.390413  CC(C)=CCCC(C)=CC(=O)\n",
              "1                                   0.090421                CCCC=C\n",
              "2                                  -2.464346        CCCCCCCCCCCCCC\n",
              "3                                   0.704920               CC(C)Cl\n",
              "4                                   1.159746              CCC(C)CO"
            ]
          },
          "metadata": {},
          "execution_count": 15
        }
      ]
    },
    {
      "cell_type": "markdown",
      "metadata": {
        "id": "Ac5cqmXvI2Et"
      },
      "source": [
        "#### the `dataset` structure\n",
        "\n",
        "Now let's consider the contents of the `dataset`. Every dataset stores a list of samples. Very roughly speaking, a sample is a single data point. In this case, each sample is a molecule. In other datasets a sample might correspond to an experimental assay, a cell line, an image, or many other things. For every sample the dataset stores the following information.\n",
        "\n"
      ]
    },
    {
      "cell_type": "markdown",
      "metadata": {
        "id": "IquI-wIPX9xo"
      },
      "source": [
        "* the \"features\", referred to as `X`. This is the input that should be fed into a model to represent the sample."
      ]
    },
    {
      "cell_type": "code",
      "metadata": {
        "colab": {
          "base_uri": "https://localhost:8080/"
        },
        "id": "6_vK68eMXXx4",
        "outputId": "201ca290-e6ea-4a72-dbca-6e77a04a487d"
      },
      "source": [
        "train_dataset.X"
      ],
      "execution_count": 18,
      "outputs": [
        {
          "output_type": "execute_result",
          "data": {
            "text/plain": [
              "array([[0., 0., 0., ..., 0., 0., 0.],\n",
              "       [0., 0., 0., ..., 0., 0., 0.],\n",
              "       [0., 0., 0., ..., 0., 0., 0.],\n",
              "       ...,\n",
              "       [0., 0., 0., ..., 0., 0., 0.],\n",
              "       [0., 0., 1., ..., 0., 0., 0.],\n",
              "       [0., 0., 1., ..., 0., 0., 0.]])"
            ]
          },
          "metadata": {},
          "execution_count": 18
        }
      ]
    },
    {
      "cell_type": "markdown",
      "metadata": {
        "id": "FQIbDb1eYHeN"
      },
      "source": [
        "\n",
        "* the \"labels\", referred to as `y`. This is the desired output from the model. During training, it tries to make the model's output for each sample as close as possible to `y`."
      ]
    },
    {
      "cell_type": "code",
      "metadata": {
        "colab": {
          "base_uri": "https://localhost:8080/"
        },
        "id": "F6GGDFa8YKwp",
        "outputId": "0ed78e52-779f-4e09-f1c0-d91646a4cf26"
      },
      "source": [
        "train_dataset.y[:10]"
      ],
      "execution_count": 20,
      "outputs": [
        {
          "output_type": "execute_result",
          "data": {
            "text/plain": [
              "array([[ 0.39041294],\n",
              "       [ 0.09042128],\n",
              "       [-2.46434643],\n",
              "       [ 0.70492033],\n",
              "       [ 1.15974639],\n",
              "       [-0.03538168],\n",
              "       [-0.60149498],\n",
              "       [ 0.51137732],\n",
              "       [-0.14666891],\n",
              "       [-0.91358308]])"
            ]
          },
          "metadata": {},
          "execution_count": 20
        }
      ]
    },
    {
      "cell_type": "markdown",
      "metadata": {
        "id": "JqfBK8m9YK9d"
      },
      "source": [
        "\n",
        "* optionally, the weights, referred to as `w`. This can be used to indicate that some data values are more important than others. "
      ]
    },
    {
      "cell_type": "code",
      "metadata": {
        "colab": {
          "base_uri": "https://localhost:8080/"
        },
        "id": "AorQSjXyYNpw",
        "outputId": "7bf71dbc-ba31-4098-a877-713b5f19d433"
      },
      "source": [
        "train_dataset.w[:10]"
      ],
      "execution_count": 21,
      "outputs": [
        {
          "output_type": "execute_result",
          "data": {
            "text/plain": [
              "array([[1.],\n",
              "       [1.],\n",
              "       [1.],\n",
              "       [1.],\n",
              "       [1.],\n",
              "       [1.],\n",
              "       [1.],\n",
              "       [1.],\n",
              "       [1.],\n",
              "       [1.]])"
            ]
          },
          "metadata": {},
          "execution_count": 21
        }
      ]
    },
    {
      "cell_type": "markdown",
      "metadata": {
        "id": "OPaKD4OBYN0K"
      },
      "source": [
        "\n",
        "* optionally, an ID, which is a unique identifier for the sample. This can be anything as long as it is unique. Sometimes it is just an integer index, or the SMILES string describing the molecule.\n"
      ]
    },
    {
      "cell_type": "code",
      "metadata": {
        "colab": {
          "base_uri": "https://localhost:8080/"
        },
        "id": "RJGCPAUtYQgl",
        "outputId": "e2935f22-24ca-4e9d-f045-c01fef287e0c"
      },
      "source": [
        "train_dataset.ids[:10]"
      ],
      "execution_count": 22,
      "outputs": [
        {
          "output_type": "execute_result",
          "data": {
            "text/plain": [
              "array(['CC(C)=CCCC(C)=CC(=O)', 'CCCC=C', 'CCCCCCCCCCCCCC', 'CC(C)Cl',\n",
              "       'CCC(C)CO', 'CCCCCCCCCC(C)O', 'CCOP(=S)(OCC)SCSCC', 'CCCCCCCO',\n",
              "       'CCCCCCCC(=O)OC', 'CCOP(=S)(OCC)SCSC(C)(C)C'], dtype=object)"
            ]
          },
          "metadata": {},
          "execution_count": 22
        }
      ]
    },
    {
      "cell_type": "markdown",
      "metadata": {
        "id": "elrIizlZYQpN"
      },
      "source": [
        "The final piece of information listed in the output is `task_names`. Some datasets contain multiple pieces of information for each sample. For example, if a sample represents a molecule, the dataset might record the results of several different experiments on that molecule. This dataset has only a single task: \"measured log solubility in mols per litre\"."
      ]
    },
    {
      "cell_type": "code",
      "metadata": {
        "colab": {
          "base_uri": "https://localhost:8080/"
        },
        "id": "ua-kLZ2jYdJM",
        "outputId": "5f26d236-baa3-4a78-fbd4-b46a7e82786e"
      },
      "source": [
        "tasks"
      ],
      "execution_count": 23,
      "outputs": [
        {
          "output_type": "execute_result",
          "data": {
            "text/plain": [
              "['measured log solubility in mols per litre']"
            ]
          },
          "metadata": {},
          "execution_count": 23
        }
      ]
    },
    {
      "cell_type": "markdown",
      "metadata": {
        "id": "agOpt3EBBzVy"
      },
      "source": [
        "### Creating a dataset from scratch using your data"
      ]
    },
    {
      "cell_type": "markdown",
      "metadata": {
        "id": "_AywWNeiYfR8"
      },
      "source": [
        "When working with your own data, the information must be prepared to work with the modeling tools in `deepchem`. Let us see how to proceed. We will use as an example the `opk.csv` file that contains 100 ligands that are either active (`kor_activity`=1) or inactive (`kor_activity`=0) at the kappa-opoid receptor. \n",
        "\n",
        "First we need to read the file from the local machine. If you're running this tutorial on Google Colab, you will need the `files` function from the `google.colab` library. Click on \"Browse\" and navigate to the file to upload it to the remote colab resource."
      ]
    },
    {
      "cell_type": "code",
      "metadata": {
        "id": "bsgSveweBpE_",
        "colab": {
          "resources": {
            "http://localhost:8080/nbextensions/google.colab/files.js": {
              "data": "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",
              "ok": true,
              "headers": [
                [
                  "content-type",
                  "application/javascript"
                ]
              ],
              "status": 200,
              "status_text": "OK"
            }
          },
          "base_uri": "https://localhost:8080/",
          "height": 45
        },
        "outputId": "f68318fc-b6d8-49e3-ef7a-ebe13a27c4d5"
      },
      "source": [
        "# upload file to remote Colab machine: do this only if you're running on a cloud resource\n",
        "# skip to the next cell if you're running locally in a Jupyter notebook\n",
        "\n",
        "from google.colab import files\n",
        "uploaded = files.upload()\n"
      ],
      "execution_count": 26,
      "outputs": [
        {
          "output_type": "display_data",
          "data": {
            "text/html": [
              "\n",
              "     <input type=\"file\" id=\"files-066f8bc8-8069-4724-8464-d6644c1228b0\" name=\"files[]\" multiple disabled\n",
              "        style=\"border:none\" />\n",
              "     <output id=\"result-066f8bc8-8069-4724-8464-d6644c1228b0\">\n",
              "      Upload widget is only available when the cell has been executed in the\n",
              "      current browser session. Please rerun this cell to enable.\n",
              "      </output>\n",
              "      <script src=\"/nbextensions/google.colab/files.js\"></script> "
            ],
            "text/plain": [
              "<IPython.core.display.HTML object>"
            ]
          },
          "metadata": {}
        }
      ]
    },
    {
      "cell_type": "markdown",
      "metadata": {
        "id": "Mvvz0izQbFIs"
      },
      "source": [
        "Read the data from the `opk.csv` file. We use the `pandas` library for this.\n"
      ]
    },
    {
      "cell_type": "code",
      "metadata": {
        "id": "hQtjhQfiHJaG",
        "colab": {
          "base_uri": "https://localhost:8080/",
          "height": 206
        },
        "outputId": "dc3de1a7-c6e8-4744-8667-00ad85de5a78"
      },
      "source": [
        "data = pd.read_csv('opk.csv')\n",
        "data.head()"
      ],
      "execution_count": 25,
      "outputs": [
        {
          "output_type": "execute_result",
          "data": {
            "text/html": [
              "<div>\n",
              "<style scoped>\n",
              "    .dataframe tbody tr th:only-of-type {\n",
              "        vertical-align: middle;\n",
              "    }\n",
              "\n",
              "    .dataframe tbody tr th {\n",
              "        vertical-align: top;\n",
              "    }\n",
              "\n",
              "    .dataframe thead th {\n",
              "        text-align: right;\n",
              "    }\n",
              "</style>\n",
              "<table border=\"1\" class=\"dataframe\">\n",
              "  <thead>\n",
              "    <tr style=\"text-align: right;\">\n",
              "      <th></th>\n",
              "      <th>smiles</th>\n",
              "      <th>kor_activity</th>\n",
              "    </tr>\n",
              "  </thead>\n",
              "  <tbody>\n",
              "    <tr>\n",
              "      <th>0</th>\n",
              "      <td>Clc1cccc(CSc2nnc(c3ccccn3)n2Cc4occc4)c1</td>\n",
              "      <td>1</td>\n",
              "    </tr>\n",
              "    <tr>\n",
              "      <th>1</th>\n",
              "      <td>Brc1ccc(CSc2nnc(c3ccccn3)n2Cc4occc4)cc1</td>\n",
              "      <td>1</td>\n",
              "    </tr>\n",
              "    <tr>\n",
              "      <th>2</th>\n",
              "      <td>CC[C@@](C)(N(Cc1occc1)C(=O)c2ccccn2)C(=O)NC3CCCC3</td>\n",
              "      <td>1</td>\n",
              "    </tr>\n",
              "    <tr>\n",
              "      <th>3</th>\n",
              "      <td>CC[C@@](C)(N(Cc1occc1)C(=O)c2cnccn2)C(=O)NC3CC...</td>\n",
              "      <td>1</td>\n",
              "    </tr>\n",
              "    <tr>\n",
              "      <th>4</th>\n",
              "      <td>C(Sc1nnc(c2ccccn2)n1Cc3occc3)\\C=C\\c4ccccc4</td>\n",
              "      <td>1</td>\n",
              "    </tr>\n",
              "  </tbody>\n",
              "</table>\n",
              "</div>"
            ],
            "text/plain": [
              "                                              smiles  kor_activity\n",
              "0            Clc1cccc(CSc2nnc(c3ccccn3)n2Cc4occc4)c1             1\n",
              "1            Brc1ccc(CSc2nnc(c3ccccn3)n2Cc4occc4)cc1             1\n",
              "2  CC[C@@](C)(N(Cc1occc1)C(=O)c2ccccn2)C(=O)NC3CCCC3             1\n",
              "3  CC[C@@](C)(N(Cc1occc1)C(=O)c2cnccn2)C(=O)NC3CC...             1\n",
              "4         C(Sc1nnc(c2ccccn2)n1Cc3occc3)\\C=C\\c4ccccc4             1"
            ]
          },
          "metadata": {},
          "execution_count": 25
        }
      ]
    },
    {
      "cell_type": "markdown",
      "metadata": {
        "id": "lhpJnwkAbNmZ"
      },
      "source": [
        "Since we read the fingerprints, we now need to specify a featurization scheme for our molecules, and create the features. Depending on the problem, we might make different choices. Here we use the classical ECFP fingerprints, using the default parameters."
      ]
    },
    {
      "cell_type": "code",
      "metadata": {
        "id": "P_B-6vd9G79s"
      },
      "source": [
        "## we extract the smiles and the activity label (1/0) \n",
        "smiles_list2 = data.smiles.to_list()\n",
        "activity = data.kor_activity\n",
        "\n",
        "## calculate features for all the smiles in the list\n",
        "featurizer = dc.feat.CircularFingerprint()\n",
        "fingerprints = featurizer(smiles_list2)\n",
        "\n"
      ],
      "execution_count": 49,
      "outputs": []
    },
    {
      "cell_type": "markdown",
      "metadata": {
        "id": "kOBrxf64b0r2"
      },
      "source": [
        "we can now create the `deepchem` dataset that combines the features, activity labels, and IDs"
      ]
    },
    {
      "cell_type": "code",
      "metadata": {
        "colab": {
          "base_uri": "https://localhost:8080/"
        },
        "id": "3MfV-hkRb01f",
        "outputId": "f489e072-c431-4522-ef70-b6a5725ab30f"
      },
      "source": [
        "## and create the `deepchem` dataset \n",
        "dataset = dc.data.NumpyDataset(X=fingerprints, y=activity, ids=smiles_list)\n",
        "dataset"
      ],
      "execution_count": 50,
      "outputs": [
        {
          "output_type": "execute_result",
          "data": {
            "text/plain": [
              "<NumpyDataset X.shape: (100, 2048), y.shape: (100,), w.shape: (100,), ids: ['Clc1cccc(CSc2nnc(c3ccccn3)n2Cc4occc4)c1'\n",
              " 'Brc1ccc(CSc2nnc(c3ccccn3)n2Cc4occc4)cc1'\n",
              " 'CC[C@@](C)(N(Cc1occc1)C(=O)c2ccccn2)C(=O)NC3CCCC3' ...\n",
              " 'CCN(Cc1ccccc1)S(=O)(=O)c2ccc(cc2)C(=O)N(CCC[NH+](C)C)c3nc4cc5OCOc5cc4s3'\n",
              " 'CN1C(=O)N(C)c2nc(nc(SCC(=O)Nc3cc(C)on3)c2C1=O)c4ccc(C)cc4'\n",
              " 'CCOc1ccc(NC(=O)CSc2nccn2Cc3occc3)cc1'], task_names: [0]>"
            ]
          },
          "metadata": {},
          "execution_count": 50
        }
      ]
    },
    {
      "cell_type": "markdown",
      "metadata": {
        "id": "WfDHP2hIcBrm"
      },
      "source": [
        "Finally, we want to split this dataset into the train/validation/test sets. We can use the `deepchem` function `RandomSplitter` to split randomly. Other splitters are available that divide the dataset in terms of the molecular scaffolds, or clustering, or values of the molecular properties. See a full list [here](https://deepchem.readthedocs.io/en/latest/api_reference/splitters.html).\n"
      ]
    },
    {
      "cell_type": "code",
      "metadata": {
        "id": "ztgcHrLFHueK",
        "colab": {
          "base_uri": "https://localhost:8080/"
        },
        "outputId": "daa7886b-2355-464e-9731-4016db03b3f6"
      },
      "source": [
        "splitter = dc.splits.RandomSplitter()\n",
        "train_dataset, valid_dataset, test_dataset = splitter.train_valid_test_split(dataset)\n",
        "\n",
        "print(f'total {len(dataset)}')\n",
        "\n",
        "print(f'train {len(train_dataset)}')\n",
        "print(f'valid {len(valid_dataset)}')\n",
        "print(f'test {len(test_dataset)}')"
      ],
      "execution_count": 39,
      "outputs": [
        {
          "output_type": "stream",
          "name": "stdout",
          "text": [
            "total 100\n",
            "train 80\n",
            "valid 10\n",
            "test 10\n"
          ]
        }
      ]
    },
    {
      "cell_type": "markdown",
      "metadata": {
        "id": "nx58BPsgAgaO"
      },
      "source": [
        "## 4. Analyzing molecules in `rdkit`"
      ]
    },
    {
      "cell_type": "markdown",
      "metadata": {
        "id": "AGJjCBjzdhAW"
      },
      "source": [
        "Sometimes it's useful to directly ue `rdKit` (instead of `deepchem`) to manipulate molecules. Here we leave some references for basic tasks."
      ]
    },
    {
      "cell_type": "markdown",
      "metadata": {
        "id": "oMNkI1W0oFnf"
      },
      "source": [
        "### 4.1 Calculate molecular properties with `rdkit`"
      ]
    },
    {
      "cell_type": "markdown",
      "metadata": {
        "id": "8p3-j76ddeYW"
      },
      "source": [
        "`RDKit` provides an extensive list of functions to calculate molecular properties. The full list is reported [here](https://www.rdkit.org/docs/source/rdkit.Chem.rdMolDescriptors.html). Properties can be calculated individually (if only a few are needed):"
      ]
    },
    {
      "cell_type": "code",
      "metadata": {
        "id": "nzN5tON3oaMh"
      },
      "source": [
        "from rdkit.Chem import rdMolDescriptors, Crippen\n",
        "\n",
        "pd.DataFrame(\n",
        "    {'smiles': smiles_list,\n",
        "     'RB': [rdMolDescriptors.CalcNumRotatableBonds(molecule) for molecule in molecule_list],\n",
        "     'HBD': [rdMolDescriptors.CalcNumHBD(molecule) for molecule in molecule_list],\n",
        "     'HBA': [rdMolDescriptors.CalcNumHBA(molecule) for molecule in molecule_list],\n",
        "     'MW': [rdMolDescriptors.CalcExactMolWt(molecule) for molecule in molecule_list],\n",
        "     'logP': [Crippen.MolLogP(mol) for mol in molecule_list]})\n",
        "\n"
      ],
      "execution_count": null,
      "outputs": []
    },
    {
      "cell_type": "markdown",
      "metadata": {
        "id": "pVwj7VVIeCDp"
      },
      "source": [
        "A wrapper function to calculate a set of commonly used properties is also available. Here we also create a `pandas` table to display the results."
      ]
    },
    {
      "cell_type": "code",
      "metadata": {
        "id": "Wbbg7ssxqECt",
        "colab": {
          "base_uri": "https://localhost:8080/",
          "height": 195
        },
        "outputId": "1de9c9be-c38c-4db1-fa61-1d0951f2d5de"
      },
      "source": [
        "from rdkit.Chem import rdMolDescriptors as rdMD, Descriptors\n",
        "\n",
        "props = rdMD.Properties()\n",
        "names = list(props.GetAvailableProperties())\n",
        "results = [props.ComputeProperties(mol) for mol in molecule_list]\n",
        "pd.DataFrame(results, columns = names)"
      ],
      "execution_count": 40,
      "outputs": [
        {
          "output_type": "execute_result",
          "data": {
            "text/html": [
              "<div>\n",
              "<style scoped>\n",
              "    .dataframe tbody tr th:only-of-type {\n",
              "        vertical-align: middle;\n",
              "    }\n",
              "\n",
              "    .dataframe tbody tr th {\n",
              "        vertical-align: top;\n",
              "    }\n",
              "\n",
              "    .dataframe thead th {\n",
              "        text-align: right;\n",
              "    }\n",
              "</style>\n",
              "<table border=\"1\" class=\"dataframe\">\n",
              "  <thead>\n",
              "    <tr style=\"text-align: right;\">\n",
              "      <th></th>\n",
              "      <th>exactmw</th>\n",
              "      <th>amw</th>\n",
              "      <th>lipinskiHBA</th>\n",
              "      <th>lipinskiHBD</th>\n",
              "      <th>NumRotatableBonds</th>\n",
              "      <th>NumHBD</th>\n",
              "      <th>NumHBA</th>\n",
              "      <th>NumHeavyAtoms</th>\n",
              "      <th>NumAtoms</th>\n",
              "      <th>NumHeteroatoms</th>\n",
              "      <th>NumAmideBonds</th>\n",
              "      <th>FractionCSP3</th>\n",
              "      <th>NumRings</th>\n",
              "      <th>NumAromaticRings</th>\n",
              "      <th>NumAliphaticRings</th>\n",
              "      <th>NumSaturatedRings</th>\n",
              "      <th>NumHeterocycles</th>\n",
              "      <th>NumAromaticHeterocycles</th>\n",
              "      <th>NumSaturatedHeterocycles</th>\n",
              "      <th>NumAliphaticHeterocycles</th>\n",
              "      <th>NumSpiroAtoms</th>\n",
              "      <th>NumBridgeheadAtoms</th>\n",
              "      <th>NumAtomStereoCenters</th>\n",
              "      <th>NumUnspecifiedAtomStereoCenters</th>\n",
              "      <th>labuteASA</th>\n",
              "      <th>tpsa</th>\n",
              "      <th>CrippenClogP</th>\n",
              "      <th>CrippenMR</th>\n",
              "      <th>chi0v</th>\n",
              "      <th>chi1v</th>\n",
              "      <th>chi2v</th>\n",
              "      <th>chi3v</th>\n",
              "      <th>chi4v</th>\n",
              "      <th>chi0n</th>\n",
              "      <th>chi1n</th>\n",
              "      <th>chi2n</th>\n",
              "      <th>chi3n</th>\n",
              "      <th>chi4n</th>\n",
              "      <th>hallKierAlpha</th>\n",
              "      <th>kappa1</th>\n",
              "      <th>kappa2</th>\n",
              "      <th>kappa3</th>\n",
              "      <th>Phi</th>\n",
              "    </tr>\n",
              "  </thead>\n",
              "  <tbody>\n",
              "    <tr>\n",
              "      <th>0</th>\n",
              "      <td>92.062600</td>\n",
              "      <td>92.141</td>\n",
              "      <td>0.0</td>\n",
              "      <td>0.0</td>\n",
              "      <td>0.0</td>\n",
              "      <td>0.0</td>\n",
              "      <td>0.0</td>\n",
              "      <td>7.0</td>\n",
              "      <td>15.0</td>\n",
              "      <td>0.0</td>\n",
              "      <td>0.0</td>\n",
              "      <td>0.142857</td>\n",
              "      <td>1.0</td>\n",
              "      <td>1.0</td>\n",
              "      <td>0.0</td>\n",
              "      <td>0.0</td>\n",
              "      <td>0.0</td>\n",
              "      <td>0.0</td>\n",
              "      <td>0.0</td>\n",
              "      <td>0.0</td>\n",
              "      <td>0.0</td>\n",
              "      <td>0.0</td>\n",
              "      <td>0.0</td>\n",
              "      <td>0.0</td>\n",
              "      <td>43.796345</td>\n",
              "      <td>0.00</td>\n",
              "      <td>1.99502</td>\n",
              "      <td>31.1790</td>\n",
              "      <td>4.386751</td>\n",
              "      <td>2.410684</td>\n",
              "      <td>0.940456</td>\n",
              "      <td>0.940456</td>\n",
              "      <td>0.534378</td>\n",
              "      <td>4.386751</td>\n",
              "      <td>2.410684</td>\n",
              "      <td>0.940456</td>\n",
              "      <td>0.940456</td>\n",
              "      <td>0.534378</td>\n",
              "      <td>-0.78</td>\n",
              "      <td>4.380772</td>\n",
              "      <td>1.783286</td>\n",
              "      <td>1.038264</td>\n",
              "      <td>1.116024</td>\n",
              "    </tr>\n",
              "    <tr>\n",
              "      <th>1</th>\n",
              "      <td>46.041865</td>\n",
              "      <td>46.069</td>\n",
              "      <td>1.0</td>\n",
              "      <td>1.0</td>\n",
              "      <td>0.0</td>\n",
              "      <td>1.0</td>\n",
              "      <td>1.0</td>\n",
              "      <td>3.0</td>\n",
              "      <td>9.0</td>\n",
              "      <td>1.0</td>\n",
              "      <td>0.0</td>\n",
              "      <td>1.000000</td>\n",
              "      <td>0.0</td>\n",
              "      <td>0.0</td>\n",
              "      <td>0.0</td>\n",
              "      <td>0.0</td>\n",
              "      <td>0.0</td>\n",
              "      <td>0.0</td>\n",
              "      <td>0.0</td>\n",
              "      <td>0.0</td>\n",
              "      <td>0.0</td>\n",
              "      <td>0.0</td>\n",
              "      <td>0.0</td>\n",
              "      <td>0.0</td>\n",
              "      <td>19.898427</td>\n",
              "      <td>20.23</td>\n",
              "      <td>-0.00140</td>\n",
              "      <td>12.7598</td>\n",
              "      <td>2.154320</td>\n",
              "      <td>1.023335</td>\n",
              "      <td>0.000000</td>\n",
              "      <td>0.000000</td>\n",
              "      <td>0.000000</td>\n",
              "      <td>2.154320</td>\n",
              "      <td>1.023335</td>\n",
              "      <td>0.000000</td>\n",
              "      <td>0.000000</td>\n",
              "      <td>0.000000</td>\n",
              "      <td>-0.04</td>\n",
              "      <td>2.960000</td>\n",
              "      <td>1.960000</td>\n",
              "      <td>1.960000</td>\n",
              "      <td>1.933867</td>\n",
              "    </tr>\n",
              "    <tr>\n",
              "      <th>2</th>\n",
              "      <td>176.094963</td>\n",
              "      <td>176.219</td>\n",
              "      <td>3.0</td>\n",
              "      <td>4.0</td>\n",
              "      <td>2.0</td>\n",
              "      <td>3.0</td>\n",
              "      <td>2.0</td>\n",
              "      <td>13.0</td>\n",
              "      <td>25.0</td>\n",
              "      <td>3.0</td>\n",
              "      <td>0.0</td>\n",
              "      <td>0.200000</td>\n",
              "      <td>2.0</td>\n",
              "      <td>2.0</td>\n",
              "      <td>0.0</td>\n",
              "      <td>0.0</td>\n",
              "      <td>1.0</td>\n",
              "      <td>1.0</td>\n",
              "      <td>0.0</td>\n",
              "      <td>0.0</td>\n",
              "      <td>0.0</td>\n",
              "      <td>0.0</td>\n",
              "      <td>0.0</td>\n",
              "      <td>0.0</td>\n",
              "      <td>76.186237</td>\n",
              "      <td>62.04</td>\n",
              "      <td>1.37470</td>\n",
              "      <td>52.7219</td>\n",
              "      <td>7.248179</td>\n",
              "      <td>4.300793</td>\n",
              "      <td>2.164682</td>\n",
              "      <td>2.164682</td>\n",
              "      <td>1.528734</td>\n",
              "      <td>7.248179</td>\n",
              "      <td>4.300793</td>\n",
              "      <td>2.164682</td>\n",
              "      <td>2.164682</td>\n",
              "      <td>1.528734</td>\n",
              "      <td>-1.48</td>\n",
              "      <td>8.133459</td>\n",
              "      <td>3.106143</td>\n",
              "      <td>1.380449</td>\n",
              "      <td>1.943361</td>\n",
              "    </tr>\n",
              "    <tr>\n",
              "      <th>3</th>\n",
              "      <td>151.063329</td>\n",
              "      <td>151.165</td>\n",
              "      <td>3.0</td>\n",
              "      <td>2.0</td>\n",
              "      <td>1.0</td>\n",
              "      <td>2.0</td>\n",
              "      <td>2.0</td>\n",
              "      <td>11.0</td>\n",
              "      <td>20.0</td>\n",
              "      <td>3.0</td>\n",
              "      <td>1.0</td>\n",
              "      <td>0.125000</td>\n",
              "      <td>1.0</td>\n",
              "      <td>1.0</td>\n",
              "      <td>0.0</td>\n",
              "      <td>0.0</td>\n",
              "      <td>0.0</td>\n",
              "      <td>0.0</td>\n",
              "      <td>0.0</td>\n",
              "      <td>0.0</td>\n",
              "      <td>0.0</td>\n",
              "      <td>0.0</td>\n",
              "      <td>0.0</td>\n",
              "      <td>0.0</td>\n",
              "      <td>64.666905</td>\n",
              "      <td>49.33</td>\n",
              "      <td>1.35060</td>\n",
              "      <td>42.4105</td>\n",
              "      <td>6.164863</td>\n",
              "      <td>3.249098</td>\n",
              "      <td>1.187673</td>\n",
              "      <td>1.187673</td>\n",
              "      <td>0.748027</td>\n",
              "      <td>6.164863</td>\n",
              "      <td>3.249098</td>\n",
              "      <td>1.187673</td>\n",
              "      <td>1.187673</td>\n",
              "      <td>0.748027</td>\n",
              "      <td>-1.51</td>\n",
              "      <td>7.595374</td>\n",
              "      <td>3.053138</td>\n",
              "      <td>2.292304</td>\n",
              "      <td>2.108157</td>\n",
              "    </tr>\n",
              "  </tbody>\n",
              "</table>\n",
              "</div>"
            ],
            "text/plain": [
              "      exactmw      amw  lipinskiHBA  ...    kappa2    kappa3       Phi\n",
              "0   92.062600   92.141          0.0  ...  1.783286  1.038264  1.116024\n",
              "1   46.041865   46.069          1.0  ...  1.960000  1.960000  1.933867\n",
              "2  176.094963  176.219          3.0  ...  3.106143  1.380449  1.943361\n",
              "3  151.063329  151.165          3.0  ...  3.053138  2.292304  2.108157\n",
              "\n",
              "[4 rows x 43 columns]"
            ]
          },
          "metadata": {},
          "execution_count": 40
        }
      ]
    },
    {
      "cell_type": "markdown",
      "metadata": {
        "id": "rFWbydSbIwSk"
      },
      "source": [
        "### 4.2. Calculating fingerprints in `rdkit`"
      ]
    },
    {
      "cell_type": "markdown",
      "metadata": {
        "id": "BEX73ll1JgeS"
      },
      "source": [
        "`rdkit` makes it easy to calculate several types of fingerprints starting from the `molecule` objects generated from the SMILES strings.\n"
      ]
    },
    {
      "cell_type": "code",
      "metadata": {
        "id": "W7zi-oNpIy03"
      },
      "source": [
        "## import the `rdkit` functions needed for this task\n",
        "from rdkit.Chem import AllChem\n",
        "from rdkit import DataStructs\n",
        "\n",
        "## calculated the linear fingerprints for all the molecules in the `molecule_list`\n",
        "fps = [AllChem.GetMorganFingerprintAsBitVect(mol,4,1024) for mol in molecule_list]\n"
      ],
      "execution_count": 41,
      "outputs": []
    },
    {
      "cell_type": "markdown",
      "metadata": {
        "id": "il8WRx9QeVxK"
      },
      "source": [
        "using the `GetOnBits()` method we can easily inspect which bits are non-zero in one fingerprint array"
      ]
    },
    {
      "cell_type": "code",
      "metadata": {
        "id": "NOV4W-klJcT4",
        "colab": {
          "base_uri": "https://localhost:8080/"
        },
        "outputId": "6f3aeec4-0876-451b-8173-684012d6b554"
      },
      "source": [
        "fps_mol0 = fps[0]\n",
        "list(fps_mol0.GetOnBits())\n"
      ],
      "execution_count": 43,
      "outputs": [
        {
          "output_type": "execute_result",
          "data": {
            "text/plain": [
              "[31, 33, 64, 175, 356, 389, 698, 726, 799, 821, 849, 896, 923]"
            ]
          },
          "metadata": {},
          "execution_count": 43
        }
      ]
    },
    {
      "cell_type": "markdown",
      "metadata": {
        "id": "iaSOk8H7ef1Z"
      },
      "source": [
        "The `BulkTanimotoSimilarity` is useful to calculate the Tanimoto Similarity of one reference ligand to a set of ligands:"
      ]
    },
    {
      "cell_type": "code",
      "metadata": {
        "id": "ZG2a0wYbHcof"
      },
      "source": [
        "\n"
      ],
      "execution_count": 48,
      "outputs": []
    },
    {
      "cell_type": "code",
      "metadata": {
        "id": "nKZLwXyVJdoy"
      },
      "source": [
        "ref_fingerprint = fps[0]\n",
        "bulk_fps = DataStructs.BulkTanimotoSimilarity(ref_fingerprint,fps)"
      ],
      "execution_count": 46,
      "outputs": []
    },
    {
      "cell_type": "code",
      "metadata": {
        "colab": {
          "base_uri": "https://localhost:8080/",
          "height": 175
        },
        "id": "RhM1wsXTesk1",
        "outputId": "f8ec9f2b-4933-4a38-a8bc-1218a99926cc"
      },
      "source": [
        "pd.DataFrame({\n",
        "    'smiles':smiles_list,\n",
        "    'TC_toluene': bulk_fps\n",
        "})"
      ],
      "execution_count": 52,
      "outputs": [
        {
          "output_type": "execute_result",
          "data": {
            "text/html": [
              "<div>\n",
              "<style scoped>\n",
              "    .dataframe tbody tr th:only-of-type {\n",
              "        vertical-align: middle;\n",
              "    }\n",
              "\n",
              "    .dataframe tbody tr th {\n",
              "        vertical-align: top;\n",
              "    }\n",
              "\n",
              "    .dataframe thead th {\n",
              "        text-align: right;\n",
              "    }\n",
              "</style>\n",
              "<table border=\"1\" class=\"dataframe\">\n",
              "  <thead>\n",
              "    <tr style=\"text-align: right;\">\n",
              "      <th></th>\n",
              "      <th>smiles</th>\n",
              "      <th>TC_toluene</th>\n",
              "    </tr>\n",
              "  </thead>\n",
              "  <tbody>\n",
              "    <tr>\n",
              "      <th>0</th>\n",
              "      <td>Cc1ccccc1</td>\n",
              "      <td>1.000000</td>\n",
              "    </tr>\n",
              "    <tr>\n",
              "      <th>1</th>\n",
              "      <td>CCO</td>\n",
              "      <td>0.055556</td>\n",
              "    </tr>\n",
              "    <tr>\n",
              "      <th>2</th>\n",
              "      <td>C1=CC2=C(C=C1O)C(=CN2)CCN</td>\n",
              "      <td>0.076923</td>\n",
              "    </tr>\n",
              "    <tr>\n",
              "      <th>3</th>\n",
              "      <td>CC(=O)NC1=CC=C(C=C1)O</td>\n",
              "      <td>0.121212</td>\n",
              "    </tr>\n",
              "  </tbody>\n",
              "</table>\n",
              "</div>"
            ],
            "text/plain": [
              "                      smiles  TC_toluene\n",
              "0                  Cc1ccccc1    1.000000\n",
              "1                        CCO    0.055556\n",
              "2  C1=CC2=C(C=C1O)C(=CN2)CCN    0.076923\n",
              "3      CC(=O)NC1=CC=C(C=C1)O    0.121212"
            ]
          },
          "metadata": {},
          "execution_count": 52
        }
      ]
    },
    {
      "cell_type": "markdown",
      "metadata": {
        "id": "2erb51XjfOJH"
      },
      "source": [
        "to use the tanimoto similarities as lables we must convert them from numbers to formatted strings (her we show two decimals)."
      ]
    },
    {
      "cell_type": "code",
      "metadata": {
        "colab": {
          "base_uri": "https://localhost:8080/",
          "height": 417
        },
        "id": "jqYmNUFCe4Mm",
        "outputId": "4927de5c-8f74-459a-d2e6-c45de0579cd5"
      },
      "source": [
        "molecule_tc_label = [f'{tc:.2f}' for tc in bulk_fps]\n",
        "Draw.MolsToGridImage(molecule_list, legends=molecule_tc_label)"
      ],
      "execution_count": 55,
      "outputs": [
        {
          "output_type": "execute_result",
          "data": {
            "image/png": "[encoded data removed]",
            "text/plain": [
              "<IPython.core.display.Image object>"
            ]
          },
          "metadata": {},
          "execution_count": 55
        }
      ]
    },
    {
      "cell_type": "code",
      "metadata": {
        "id": "5rLx3v5kfc-D"
      },
      "source": [
        ""
      ],
      "execution_count": null,
      "outputs": []
    }
  ]
}
