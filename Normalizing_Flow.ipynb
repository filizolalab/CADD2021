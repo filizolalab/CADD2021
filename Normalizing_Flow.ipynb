{
  "nbformat": 4,
  "nbformat_minor": 0,
  "metadata": {
    "colab": {
      "name": "Normalizing Flow",
      "provenance": [],
      "authorship_tag": "ABX9TyOk8KGHlMZjjiUmB2O8mF/b",
      "include_colab_link": true
    },
    "kernelspec": {
      "name": "python3",
      "display_name": "Python 3"
    },
    "language_info": {
      "name": "python"
    },
    "accelerator": "GPU"
  },
  "cells": [
    {
      "cell_type": "markdown",
      "metadata": {
        "id": "view-in-github",
        "colab_type": "text"
      },
      "source": [
        "<a href=\"https://colab.research.google.com/github/filizolalab/CADD2021/blob/main/Normalizing_Flow.ipynb\" target=\"_parent\"><img src=\"https://colab.research.google.com/assets/colab-badge.svg\" alt=\"Open In Colab\"/></a>"
      ]
    },
    {
      "cell_type": "code",
      "metadata": {
        "colab": {
          "base_uri": "https://localhost:8080/"
        },
        "id": "uipDMBuMCBZo",
        "outputId": "1bf13da0-ed74-41a0-ab53-6b891429c142"
      },
      "source": [
        "!pip install --pre deepchem\n",
        "!pip install --pre rdkit-pypi \n",
        "!pip install --pre PubChemPy"
      ],
      "execution_count": 1,
      "outputs": [
        {
          "output_type": "stream",
          "name": "stdout",
          "text": [
            "Collecting deepchem\n",
            "  Downloading deepchem-2.6.0.dev20211018190358-py3-none-any.whl (609 kB)\n",
            "\u001b[?25l\r\u001b[K     |▌                               | 10 kB 27.7 MB/s eta 0:00:01\r\u001b[K     |█                               | 20 kB 32.7 MB/s eta 0:00:01\r\u001b[K     |█▋                              | 30 kB 34.1 MB/s eta 0:00:01\r\u001b[K     |██▏                             | 40 kB 34.2 MB/s eta 0:00:01\r\u001b[K     |██▊                             | 51 kB 16.6 MB/s eta 0:00:01\r\u001b[K     |███▎                            | 61 kB 12.5 MB/s eta 0:00:01\r\u001b[K     |███▊                            | 71 kB 12.8 MB/s eta 0:00:01\r\u001b[K     |████▎                           | 81 kB 13.9 MB/s eta 0:00:01\r\u001b[K     |████▉                           | 92 kB 13.9 MB/s eta 0:00:01\r\u001b[K     |█████▍                          | 102 kB 11.2 MB/s eta 0:00:01\r\u001b[K     |██████                          | 112 kB 11.2 MB/s eta 0:00:01\r\u001b[K     |██████▌                         | 122 kB 11.2 MB/s eta 0:00:01\r\u001b[K     |███████                         | 133 kB 11.2 MB/s eta 0:00:01\r\u001b[K     |███████▌                        | 143 kB 11.2 MB/s eta 0:00:01\r\u001b[K     |████████                        | 153 kB 11.2 MB/s eta 0:00:01\r\u001b[K     |████████▋                       | 163 kB 11.2 MB/s eta 0:00:01\r\u001b[K     |█████████▏                      | 174 kB 11.2 MB/s eta 0:00:01\r\u001b[K     |█████████▊                      | 184 kB 11.2 MB/s eta 0:00:01\r\u001b[K     |██████████▏                     | 194 kB 11.2 MB/s eta 0:00:01\r\u001b[K     |██████████▊                     | 204 kB 11.2 MB/s eta 0:00:01\r\u001b[K     |███████████▎                    | 215 kB 11.2 MB/s eta 0:00:01\r\u001b[K     |███████████▉                    | 225 kB 11.2 MB/s eta 0:00:01\r\u001b[K     |████████████▍                   | 235 kB 11.2 MB/s eta 0:00:01\r\u001b[K     |█████████████                   | 245 kB 11.2 MB/s eta 0:00:01\r\u001b[K     |█████████████▍                  | 256 kB 11.2 MB/s eta 0:00:01\r\u001b[K     |██████████████                  | 266 kB 11.2 MB/s eta 0:00:01\r\u001b[K     |██████████████▌                 | 276 kB 11.2 MB/s eta 0:00:01\r\u001b[K     |███████████████                 | 286 kB 11.2 MB/s eta 0:00:01\r\u001b[K     |███████████████▋                | 296 kB 11.2 MB/s eta 0:00:01\r\u001b[K     |████████████████▏               | 307 kB 11.2 MB/s eta 0:00:01\r\u001b[K     |████████████████▋               | 317 kB 11.2 MB/s eta 0:00:01\r\u001b[K     |█████████████████▏              | 327 kB 11.2 MB/s eta 0:00:01\r\u001b[K     |█████████████████▊              | 337 kB 11.2 MB/s eta 0:00:01\r\u001b[K     |██████████████████▎             | 348 kB 11.2 MB/s eta 0:00:01\r\u001b[K     |██████████████████▉             | 358 kB 11.2 MB/s eta 0:00:01\r\u001b[K     |███████████████████▍            | 368 kB 11.2 MB/s eta 0:00:01\r\u001b[K     |███████████████████▉            | 378 kB 11.2 MB/s eta 0:00:01\r\u001b[K     |████████████████████▍           | 389 kB 11.2 MB/s eta 0:00:01\r\u001b[K     |█████████████████████           | 399 kB 11.2 MB/s eta 0:00:01\r\u001b[K     |█████████████████████▌          | 409 kB 11.2 MB/s eta 0:00:01\r\u001b[K     |██████████████████████          | 419 kB 11.2 MB/s eta 0:00:01\r\u001b[K     |██████████████████████▋         | 430 kB 11.2 MB/s eta 0:00:01\r\u001b[K     |███████████████████████         | 440 kB 11.2 MB/s eta 0:00:01\r\u001b[K     |███████████████████████▋        | 450 kB 11.2 MB/s eta 0:00:01\r\u001b[K     |████████████████████████▏       | 460 kB 11.2 MB/s eta 0:00:01\r\u001b[K     |████████████████████████▊       | 471 kB 11.2 MB/s eta 0:00:01\r\u001b[K     |█████████████████████████▎      | 481 kB 11.2 MB/s eta 0:00:01\r\u001b[K     |█████████████████████████▉      | 491 kB 11.2 MB/s eta 0:00:01\r\u001b[K     |██████████████████████████▍     | 501 kB 11.2 MB/s eta 0:00:01\r\u001b[K     |██████████████████████████▉     | 512 kB 11.2 MB/s eta 0:00:01\r\u001b[K     |███████████████████████████▍    | 522 kB 11.2 MB/s eta 0:00:01\r\u001b[K     |████████████████████████████    | 532 kB 11.2 MB/s eta 0:00:01\r\u001b[K     |████████████████████████████▌   | 542 kB 11.2 MB/s eta 0:00:01\r\u001b[K     |█████████████████████████████   | 552 kB 11.2 MB/s eta 0:00:01\r\u001b[K     |█████████████████████████████▋  | 563 kB 11.2 MB/s eta 0:00:01\r\u001b[K     |██████████████████████████████  | 573 kB 11.2 MB/s eta 0:00:01\r\u001b[K     |██████████████████████████████▋ | 583 kB 11.2 MB/s eta 0:00:01\r\u001b[K     |███████████████████████████████▏| 593 kB 11.2 MB/s eta 0:00:01\r\u001b[K     |███████████████████████████████▊| 604 kB 11.2 MB/s eta 0:00:01\r\u001b[K     |████████████████████████████████| 609 kB 11.2 MB/s \n",
            "\u001b[?25hRequirement already satisfied: joblib in /usr/local/lib/python3.7/dist-packages (from deepchem) (1.0.1)\n",
            "Requirement already satisfied: numpy in /usr/local/lib/python3.7/dist-packages (from deepchem) (1.19.5)\n",
            "Requirement already satisfied: scipy in /usr/local/lib/python3.7/dist-packages (from deepchem) (1.4.1)\n",
            "Requirement already satisfied: scikit-learn in /usr/local/lib/python3.7/dist-packages (from deepchem) (0.22.2.post1)\n",
            "Requirement already satisfied: pandas in /usr/local/lib/python3.7/dist-packages (from deepchem) (1.1.5)\n",
            "Requirement already satisfied: pytz>=2017.2 in /usr/local/lib/python3.7/dist-packages (from pandas->deepchem) (2018.9)\n",
            "Requirement already satisfied: python-dateutil>=2.7.3 in /usr/local/lib/python3.7/dist-packages (from pandas->deepchem) (2.8.2)\n",
            "Requirement already satisfied: six>=1.5 in /usr/local/lib/python3.7/dist-packages (from python-dateutil>=2.7.3->pandas->deepchem) (1.15.0)\n",
            "Installing collected packages: deepchem\n",
            "Successfully installed deepchem-2.6.0.dev20211018190358\n",
            "Collecting rdkit-pypi\n",
            "  Downloading rdkit_pypi-2021.9.1b1-cp37-cp37m-manylinux_2_17_x86_64.manylinux2014_x86_64.whl (20.4 MB)\n",
            "\u001b[K     |████████████████████████████████| 20.4 MB 1.5 MB/s \n",
            "\u001b[?25hRequirement already satisfied: numpy>=1.19 in /usr/local/lib/python3.7/dist-packages (from rdkit-pypi) (1.19.5)\n",
            "Installing collected packages: rdkit-pypi\n",
            "Successfully installed rdkit-pypi-2021.9.1b1\n",
            "Collecting PubChemPy\n",
            "  Downloading PubChemPy-1.0.4.tar.gz (29 kB)\n",
            "Building wheels for collected packages: PubChemPy\n",
            "  Building wheel for PubChemPy (setup.py) ... \u001b[?25l\u001b[?25hdone\n",
            "  Created wheel for PubChemPy: filename=PubChemPy-1.0.4-py3-none-any.whl size=13835 sha256=16fb37d35e861d44a6b61ff075014f5e5643bca228ce7ea65c447318f5306773\n",
            "  Stored in directory: /root/.cache/pip/wheels/7c/3d/8c/8192697412e9899dc55bbbb08bbc1197bef333caaa2a71c448\n",
            "Successfully built PubChemPy\n",
            "Installing collected packages: PubChemPy\n",
            "Successfully installed PubChemPy-1.0.4\n"
          ]
        }
      ]
    },
    {
      "cell_type": "code",
      "metadata": {
        "colab": {
          "base_uri": "https://localhost:8080/"
        },
        "id": "ZsiHHVMLCOdO",
        "outputId": "6e0f9ac1-e204-4da7-b746-4fe33074132d"
      },
      "source": [
        "# install SELFIES\n",
        "!git clone https://github.com/aspuru-guzik-group/selfies.git\n",
        "%cd selfies\n",
        "!pip install .\n",
        "%cd .."
      ],
      "execution_count": 2,
      "outputs": [
        {
          "output_type": "stream",
          "name": "stdout",
          "text": [
            "Cloning into 'selfies'...\n",
            "remote: Enumerating objects: 2745, done.\u001b[K\n",
            "remote: Counting objects: 100% (590/590), done.\u001b[K\n",
            "remote: Compressing objects: 100% (443/443), done.\u001b[K\n",
            "remote: Total 2745 (delta 377), reused 282 (delta 146), pack-reused 2155\u001b[K\n",
            "Receiving objects: 100% (2745/2745), 16.03 MiB | 8.70 MiB/s, done.\n",
            "Resolving deltas: 100% (1770/1770), done.\n",
            "/content/selfies\n",
            "Processing /content/selfies\n",
            "\u001b[33m  DEPRECATION: A future pip version will change local packages to be built in-place without first copying to a temporary directory. We recommend you use --use-feature=in-tree-build to test your packages with this new behavior before it becomes the default.\n",
            "   pip 21.3 will remove support for this functionality. You can find discussion regarding this at https://github.com/pypa/pip/issues/7555.\u001b[0m\n",
            "Building wheels for collected packages: selfies\n",
            "  Building wheel for selfies (setup.py) ... \u001b[?25l\u001b[?25hdone\n",
            "  Created wheel for selfies: filename=selfies-2.0.0-py3-none-any.whl size=33231 sha256=37880963a5ce89b6449ee8e0b592ab98c097d6b55cabfa8418e741d53c85c339\n",
            "  Stored in directory: /tmp/pip-ephem-wheel-cache-o7ez_61j/wheels/c9/3a/6d/ca5070dbd4207fd7e48292275b8eb2a513fa71cebaa937fd1e\n",
            "Successfully built selfies\n",
            "Installing collected packages: selfies\n",
            "Successfully installed selfies-2.0.0\n",
            "/content\n"
          ]
        }
      ]
    },
    {
      "cell_type": "code",
      "metadata": {
        "id": "D_hbGDsGCY4N"
      },
      "source": [
        "import numpy as np\n",
        "import matplotlib.pyplot as plt\n",
        "import seaborn as sns\n",
        "import pandas as pd\n",
        "import os\n",
        "\n",
        "import deepchem as dc\n",
        "from deepchem.models.normalizing_flows import NormalizingFlow, NormalizingFlowModel\n",
        "from deepchem.models.optimizers import Adam\n",
        "from deepchem.data import NumpyDataset\n",
        "from deepchem.splits import RandomSplitter\n",
        "from deepchem.molnet import load_tox21\n",
        "\n",
        "import rdkit\n",
        "from rdkit.Chem import Draw"
      ],
      "execution_count": 3,
      "outputs": []
    },
    {
      "cell_type": "code",
      "metadata": {
        "id": "nHbXXTQLCdpT"
      },
      "source": [
        "from IPython.display import Image, display\n",
        "\n",
        "import selfies as sf\n",
        "import tensorflow as tf\n",
        "import tensorflow_probability as tfp"
      ],
      "execution_count": 4,
      "outputs": []
    },
    {
      "cell_type": "code",
      "metadata": {
        "id": "4K2O9AAKCkYV"
      },
      "source": [
        "tfd = tfp.distributions\n",
        "tfb = tfp.bijectors\n",
        "tfk = tf.keras\n",
        "tfk.backend.set_floatx('float64')"
      ],
      "execution_count": 5,
      "outputs": []
    },
    {
      "cell_type": "code",
      "metadata": {
        "id": "yZMlV1HfCo02"
      },
      "source": [
        "# Download from MolNet\n",
        "tasks, datasets, transformers = dc.molnet.load_qm9(featurizer='ECFP')\n",
        "df = pd.DataFrame(data={'smiles': datasets[0].ids})\n",
        "\n"
      ],
      "execution_count": 6,
      "outputs": []
    },
    {
      "cell_type": "code",
      "metadata": {
        "id": "jB8agjdFCsmf"
      },
      "source": [
        "len(df)\n",
        "data = df[['smiles']].sample(2500, random_state=42)"
      ],
      "execution_count": 7,
      "outputs": []
    },
    {
      "cell_type": "code",
      "metadata": {
        "colab": {
          "base_uri": "https://localhost:8080/"
        },
        "id": "z2yN6eiMEleD",
        "outputId": "7a60bce4-b2fd-4c5f-b2af-ce31a765dbca"
      },
      "source": [
        "\n",
        "\n",
        "sf.set_semantic_constraints()  # reset constraints\n",
        "constraints = sf.get_semantic_constraints()\n",
        "constraints['?'] = 3\n",
        "\n",
        "sf.set_semantic_constraints(constraints)\n",
        "constraints\n",
        "\n"
      ],
      "execution_count": 8,
      "outputs": [
        {
          "output_type": "execute_result",
          "data": {
            "text/plain": [
              "{'?': 3,\n",
              " 'B': 3,\n",
              " 'B+1': 2,\n",
              " 'B-1': 4,\n",
              " 'Br': 1,\n",
              " 'C': 4,\n",
              " 'C+1': 5,\n",
              " 'C-1': 3,\n",
              " 'Cl': 1,\n",
              " 'F': 1,\n",
              " 'H': 1,\n",
              " 'I': 1,\n",
              " 'N': 3,\n",
              " 'N+1': 4,\n",
              " 'N-1': 2,\n",
              " 'O': 2,\n",
              " 'O+1': 3,\n",
              " 'O-1': 1,\n",
              " 'P': 5,\n",
              " 'P+1': 6,\n",
              " 'P-1': 4,\n",
              " 'S': 6,\n",
              " 'S+1': 7,\n",
              " 'S-1': 5}"
            ]
          },
          "metadata": {},
          "execution_count": 8
        }
      ]
    },
    {
      "cell_type": "code",
      "metadata": {
        "id": "IifRUNhFEnqm"
      },
      "source": [
        "def preprocess_smiles(smiles):\n",
        "  return sf.encoder(smiles)  \n",
        "\n",
        "data['selfies'] = data['smiles'].apply(preprocess_smiles)"
      ],
      "execution_count": 9,
      "outputs": []
    },
    {
      "cell_type": "code",
      "metadata": {
        "colab": {
          "base_uri": "https://localhost:8080/",
          "height": 206
        },
        "id": "OFI1cfO7Ex3x",
        "outputId": "af6a5959-fcd4-4c95-b61a-e57450025323"
      },
      "source": [
        "data['len'] = data['smiles'].apply(lambda x: len(x))\n",
        "data.sort_values(by='len').head()"
      ],
      "execution_count": 10,
      "outputs": [
        {
          "output_type": "execute_result",
          "data": {
            "text/html": [
              "<div>\n",
              "<style scoped>\n",
              "    .dataframe tbody tr th:only-of-type {\n",
              "        vertical-align: middle;\n",
              "    }\n",
              "\n",
              "    .dataframe tbody tr th {\n",
              "        vertical-align: top;\n",
              "    }\n",
              "\n",
              "    .dataframe thead th {\n",
              "        text-align: right;\n",
              "    }\n",
              "</style>\n",
              "<table border=\"1\" class=\"dataframe\">\n",
              "  <thead>\n",
              "    <tr style=\"text-align: right;\">\n",
              "      <th></th>\n",
              "      <th>smiles</th>\n",
              "      <th>selfies</th>\n",
              "      <th>len</th>\n",
              "    </tr>\n",
              "  </thead>\n",
              "  <tbody>\n",
              "    <tr>\n",
              "      <th>14460</th>\n",
              "      <td>N#CC(=O)C#N</td>\n",
              "      <td>[N][#C][C][=Branch1][C][=O][C][#N]</td>\n",
              "      <td>11</td>\n",
              "    </tr>\n",
              "    <tr>\n",
              "      <th>22082</th>\n",
              "      <td>[H]C(=O)c1nnon1</td>\n",
              "      <td>[H][C][=Branch1][C][=O][C][N][=N][O][N][=Ring1...</td>\n",
              "      <td>15</td>\n",
              "    </tr>\n",
              "    <tr>\n",
              "      <th>15217</th>\n",
              "      <td>[H]c1nn([H])nc1[H]</td>\n",
              "      <td>[H][C][=N][N][Branch1][C][H][N][=C][Ring1][=Br...</td>\n",
              "      <td>18</td>\n",
              "    </tr>\n",
              "    <tr>\n",
              "      <th>57634</th>\n",
              "      <td>[H]c1nnc(C#N)nc1[H]</td>\n",
              "      <td>[H][C][=N][N][=C][Branch1][Ring1][C][#N][N][=C...</td>\n",
              "      <td>19</td>\n",
              "    </tr>\n",
              "    <tr>\n",
              "      <th>53275</th>\n",
              "      <td>[H]C#CC(=O)C(F)(F)F</td>\n",
              "      <td>[H][C][#C][C][=Branch1][C][=O][C][Branch1][C][...</td>\n",
              "      <td>19</td>\n",
              "    </tr>\n",
              "  </tbody>\n",
              "</table>\n",
              "</div>"
            ],
            "text/plain": [
              "                    smiles  ... len\n",
              "14460          N#CC(=O)C#N  ...  11\n",
              "22082      [H]C(=O)c1nnon1  ...  15\n",
              "15217   [H]c1nn([H])nc1[H]  ...  18\n",
              "57634  [H]c1nnc(C#N)nc1[H]  ...  19\n",
              "53275  [H]C#CC(=O)C(F)(F)F  ...  19\n",
              "\n",
              "[5 rows x 3 columns]"
            ]
          },
          "metadata": {},
          "execution_count": 10
        }
      ]
    },
    {
      "cell_type": "code",
      "metadata": {
        "id": "VqNa1QbNEzbV"
      },
      "source": [
        "selfies_list = np.asanyarray(data.selfies)\n",
        "selfies_alphabet = sf.get_alphabet_from_selfies(selfies_list)\n",
        "selfies_alphabet.add('[nop]')  # Add the \"no operation\" symbol as a padding character\n",
        "selfies_alphabet = list(sorted(selfies_alphabet))\n",
        "\n",
        "pad_to_len = max(sf.len_selfies(s) for s in selfies_list)  # was largest_selfie_len\n",
        "symbol_to_idx = {s: i for i, s in enumerate(selfies_alphabet)}\n"
      ],
      "execution_count": 11,
      "outputs": []
    },
    {
      "cell_type": "code",
      "metadata": {
        "colab": {
          "base_uri": "https://localhost:8080/"
        },
        "id": "W6GX_D5DHvHm",
        "outputId": "4b952993-7eed-48c9-ff42-cfbd466ddb22"
      },
      "source": [
        "selfies_alphabet"
      ],
      "execution_count": 12,
      "outputs": [
        {
          "output_type": "execute_result",
          "data": {
            "text/plain": [
              "['[#Branch1]',\n",
              " '[#Branch2]',\n",
              " '[#C]',\n",
              " '[#N]',\n",
              " '[/C]',\n",
              " '[/H]',\n",
              " '[/N+1]',\n",
              " '[/N]',\n",
              " '[/O]',\n",
              " '[=Branch1]',\n",
              " '[=Branch2]',\n",
              " '[=C]',\n",
              " '[=N+1]',\n",
              " '[=N]',\n",
              " '[=O]',\n",
              " '[=Ring1]',\n",
              " '[=Ring2]',\n",
              " '[Branch1]',\n",
              " '[Branch2]',\n",
              " '[C+1]',\n",
              " '[C-1]',\n",
              " '[CH1+1]',\n",
              " '[C]',\n",
              " '[F]',\n",
              " '[H]',\n",
              " '[N+1]',\n",
              " '[N-1]',\n",
              " '[NH1+1]',\n",
              " '[NH1]',\n",
              " '[NH2+1]',\n",
              " '[N]',\n",
              " '[O-1]',\n",
              " '[O]',\n",
              " '[P]',\n",
              " '[Ring1]',\n",
              " '[Ring2]',\n",
              " '[S]',\n",
              " '[\\\\C]',\n",
              " '[\\\\H]',\n",
              " '[\\\\N]',\n",
              " '[nop]']"
            ]
          },
          "metadata": {},
          "execution_count": 12
        }
      ]
    },
    {
      "cell_type": "code",
      "metadata": {
        "id": "6EaZKm-WE7gh"
      },
      "source": [
        "#onehots = [sf.selfies_to_encoding(\n",
        "#    selfie,\n",
        "#    vocab_stoi=symbol_to_idx,\n",
        "#    pad_to_len=pad_to_len, \n",
        "#    enc_type='one_hot') for selfie in selfies_list[0:1000]]\n",
        "\n",
        "\n",
        "clean_selfies_list=[]\n",
        "for i,selfie in enumerate(selfies_list):\n",
        "   try:\n",
        "     sf.selfies_to_encoding(selfie,vocab_stoi=symbol_to_idx,pad_to_len=pad_to_len, enc_type='one_hot')\n",
        "     clean_selfies_list.append(selfie)\n",
        "   except:\n",
        "     print(i)  \n"
      ],
      "execution_count": 13,
      "outputs": []
    },
    {
      "cell_type": "code",
      "metadata": {
        "id": "EDqcfXMZE8rn"
      },
      "source": [
        ""
      ],
      "execution_count": 13,
      "outputs": []
    },
    {
      "cell_type": "code",
      "metadata": {
        "id": "nb_EGtGCGTGs"
      },
      "source": [
        "onehots = sf.batch_selfies_to_flat_hot(clean_selfies_list, symbol_to_idx, pad_to_len)"
      ],
      "execution_count": 14,
      "outputs": []
    },
    {
      "cell_type": "code",
      "metadata": {
        "id": "-qa706YiIgqt"
      },
      "source": [
        "input_tensor = tf.convert_to_tensor(onehots, dtype='float64')\n",
        "noise_tensor = tf.random.uniform(shape=input_tensor.shape, minval=0, maxval=1, dtype='float64')\n",
        "dequantized_data = tf.add(input_tensor, noise_tensor)"
      ],
      "execution_count": 15,
      "outputs": []
    },
    {
      "cell_type": "code",
      "metadata": {
        "colab": {
          "base_uri": "https://localhost:8080/"
        },
        "id": "koxSTZseJDMA",
        "outputId": "e367416c-19cb-407b-926c-c35477473703"
      },
      "source": [
        "ds = NumpyDataset(dequantized_data)  # Create a DeepChem dataset\n",
        "splitter = RandomSplitter()\n",
        "train, val, test = splitter.train_valid_test_split(dataset=ds, seed=42)\n",
        "train_idx, val_idx, test_idx = splitter.split(dataset=ds, seed=42)\n",
        "\n",
        "dim = len(train.X[0])  # length of one-hot encoded vectors\n",
        "train.X.shape  # 2000 samples, N-dimensional one-hot vectors that represent molecules"
      ],
      "execution_count": 16,
      "outputs": [
        {
          "output_type": "execute_result",
          "data": {
            "text/plain": [
              "(2000, 2542)"
            ]
          },
          "metadata": {},
          "execution_count": 16
        }
      ]
    },
    {
      "cell_type": "code",
      "metadata": {
        "id": "DPhFuSS6KD_E"
      },
      "source": [
        "base_dist = tfd.MultivariateNormalDiag(loc=np.zeros(dim), scale_diag=np.ones(dim))\n",
        "\n",
        "if dim % 2 == 0:\n",
        "    permutation = tf.cast(np.concatenate((np.arange(dim / 2, dim), np.arange(0, dim / 2))), tf.int32)\n",
        "else:\n",
        "    permutation = tf.cast(np.concatenate((np.arange(dim / 2 + 1, dim), np.arange(0, dim / 2))), tf.int32)"
      ],
      "execution_count": 17,
      "outputs": []
    },
    {
      "cell_type": "code",
      "metadata": {
        "id": "YRVwBU_mKG9M"
      },
      "source": [
        "num_layers = 8\n",
        "flow_layers = []\n",
        "\n",
        "Made = tfb.AutoregressiveNetwork(\n",
        "    params=2,\n",
        "    hidden_units=[512, 512], \n",
        "    activation='relu')\n",
        "\n",
        "for i in range(num_layers):\n",
        "    flow_layers.append((tfb.MaskedAutoregressiveFlow(shift_and_log_scale_fn=Made)))\n",
        "    permutation = tf.cast(np.random.permutation(np.arange(0, dim)), tf.int32)\n",
        "    flow_layers.append(tfb.Permute(permutation=permutation))"
      ],
      "execution_count": 18,
      "outputs": []
    },
    {
      "cell_type": "code",
      "metadata": {
        "colab": {
          "base_uri": "https://localhost:8080/"
        },
        "id": "1AXa5ocDKXbm",
        "outputId": "95b29084-6fdb-44db-c794-34b32710bfb0"
      },
      "source": [
        "%%time\n",
        "nf = NormalizingFlow(base_distribution=base_dist,flow_layers=flow_layers)\n",
        "samples = nf.flow.sample(5)"
      ],
      "execution_count": 19,
      "outputs": [
        {
          "output_type": "stream",
          "name": "stdout",
          "text": [
            "CPU times: user 2min 12s, sys: 3.07 s, total: 2min 15s\n",
            "Wall time: 2min 16s\n"
          ]
        }
      ]
    },
    {
      "cell_type": "code",
      "metadata": {
        "colab": {
          "base_uri": "https://localhost:8080/"
        },
        "id": "Pu8VvNhRL_hI",
        "outputId": "d9cadc51-e441-432b-f66e-5540aa64afbe"
      },
      "source": [
        "samples"
      ],
      "execution_count": 20,
      "outputs": [
        {
          "output_type": "execute_result",
          "data": {
            "text/plain": [
              "<tf.Tensor: shape=(5, 2542), dtype=float64, numpy=\n",
              "array([[ 0.23947747, -0.77054045, -0.2945698 , ..., -1.12321262,\n",
              "         1.60271483,  0.67242643],\n",
              "       [-1.22297218, -1.36349732,  0.33800797, ..., -0.91107809,\n",
              "         0.80395918,  0.63537228],\n",
              "       [ 0.65199923, -0.74336413,  0.63342884, ..., -1.28128012,\n",
              "        -0.20205953, -0.983117  ],\n",
              "       [ 1.05778981, -0.84099039,  0.9227753 , ...,  1.06544803,\n",
              "         0.20374991, -1.72946362],\n",
              "       [-0.21205345, -1.06567554, -0.44268397, ..., -0.77471161,\n",
              "         1.92013885,  0.77058349]])>"
            ]
          },
          "metadata": {},
          "execution_count": 20
        }
      ]
    },
    {
      "cell_type": "code",
      "metadata": {
        "id": "fSo1f_hoKbtz"
      },
      "source": [
        "nfm = NormalizingFlowModel(nf, learning_rate=1e-4, batch_size=128)"
      ],
      "execution_count": 21,
      "outputs": []
    },
    {
      "cell_type": "code",
      "metadata": {
        "id": "0PSZA3GeKsuQ"
      },
      "source": [
        "losses = []\n",
        "val_losses = []\n"
      ],
      "execution_count": 22,
      "outputs": []
    },
    {
      "cell_type": "code",
      "metadata": {
        "colab": {
          "base_uri": "https://localhost:8080/"
        },
        "id": "-T_uESO7MVJ1",
        "outputId": "7633d383-10e3-46e6-c502-71d12eaeef22"
      },
      "source": [
        "%%time\n",
        "max_epochs = 20 # maximum number of epochs of the training\n",
        "\n",
        "for epoch in range(max_epochs):\n",
        "  loss = nfm.fit(train, nb_epoch=1, all_losses=losses)\n",
        "  val_loss = nfm.create_nll(val.X)\n",
        "  val_losses.append(val_loss.numpy())"
      ],
      "execution_count": 23,
      "outputs": [
        {
          "output_type": "stream",
          "name": "stdout",
          "text": [
            "WARNING:tensorflow:Model was constructed with shape (None, 2542) for input KerasTensor(type_spec=TensorSpec(shape=(None, 2542), dtype=tf.float64, name='input_1'), name='input_1', description=\"created by layer 'input_1'\"), but it was called on an input with incompatible shape (1, 128, 2542).\n",
            "WARNING:tensorflow:Model was constructed with shape (None, 2542) for input KerasTensor(type_spec=TensorSpec(shape=(None, 2542), dtype=tf.float64, name='input_1'), name='input_1', description=\"created by layer 'input_1'\"), but it was called on an input with incompatible shape (1, 128, 2542).\n",
            "WARNING:tensorflow:Model was constructed with shape (None, 2542) for input KerasTensor(type_spec=TensorSpec(shape=(None, 2542), dtype=tf.float64, name='input_1'), name='input_1', description=\"created by layer 'input_1'\"), but it was called on an input with incompatible shape (1, 128, 2542).\n",
            "WARNING:tensorflow:Model was constructed with shape (None, 2542) for input KerasTensor(type_spec=TensorSpec(shape=(None, 2542), dtype=tf.float64, name='input_1'), name='input_1', description=\"created by layer 'input_1'\"), but it was called on an input with incompatible shape (1, 128, 2542).\n",
            "WARNING:tensorflow:Model was constructed with shape (None, 2542) for input KerasTensor(type_spec=TensorSpec(shape=(None, 2542), dtype=tf.float64, name='input_1'), name='input_1', description=\"created by layer 'input_1'\"), but it was called on an input with incompatible shape (1, 128, 2542).\n",
            "WARNING:tensorflow:Model was constructed with shape (None, 2542) for input KerasTensor(type_spec=TensorSpec(shape=(None, 2542), dtype=tf.float64, name='input_1'), name='input_1', description=\"created by layer 'input_1'\"), but it was called on an input with incompatible shape (1, 128, 2542).\n",
            "WARNING:tensorflow:Model was constructed with shape (None, 2542) for input KerasTensor(type_spec=TensorSpec(shape=(None, 2542), dtype=tf.float64, name='input_1'), name='input_1', description=\"created by layer 'input_1'\"), but it was called on an input with incompatible shape (1, 128, 2542).\n",
            "WARNING:tensorflow:Model was constructed with shape (None, 2542) for input KerasTensor(type_spec=TensorSpec(shape=(None, 2542), dtype=tf.float64, name='input_1'), name='input_1', description=\"created by layer 'input_1'\"), but it was called on an input with incompatible shape (1, 128, 2542).\n",
            "WARNING:tensorflow:Model was constructed with shape (None, 2542) for input KerasTensor(type_spec=TensorSpec(shape=(None, 2542), dtype=tf.float64, name='input_1'), name='input_1', description=\"created by layer 'input_1'\"), but it was called on an input with incompatible shape (1, 128, 2542).\n",
            "WARNING:tensorflow:Model was constructed with shape (None, 2542) for input KerasTensor(type_spec=TensorSpec(shape=(None, 2542), dtype=tf.float64, name='input_1'), name='input_1', description=\"created by layer 'input_1'\"), but it was called on an input with incompatible shape (1, 128, 2542).\n",
            "WARNING:tensorflow:Model was constructed with shape (None, 2542) for input KerasTensor(type_spec=TensorSpec(shape=(None, 2542), dtype=tf.float64, name='input_1'), name='input_1', description=\"created by layer 'input_1'\"), but it was called on an input with incompatible shape (1, 128, 2542).\n",
            "WARNING:tensorflow:Model was constructed with shape (None, 2542) for input KerasTensor(type_spec=TensorSpec(shape=(None, 2542), dtype=tf.float64, name='input_1'), name='input_1', description=\"created by layer 'input_1'\"), but it was called on an input with incompatible shape (1, 128, 2542).\n",
            "WARNING:tensorflow:Model was constructed with shape (None, 2542) for input KerasTensor(type_spec=TensorSpec(shape=(None, 2542), dtype=tf.float64, name='input_1'), name='input_1', description=\"created by layer 'input_1'\"), but it was called on an input with incompatible shape (1, 128, 2542).\n",
            "WARNING:tensorflow:Model was constructed with shape (None, 2542) for input KerasTensor(type_spec=TensorSpec(shape=(None, 2542), dtype=tf.float64, name='input_1'), name='input_1', description=\"created by layer 'input_1'\"), but it was called on an input with incompatible shape (1, 128, 2542).\n",
            "WARNING:tensorflow:Model was constructed with shape (None, 2542) for input KerasTensor(type_spec=TensorSpec(shape=(None, 2542), dtype=tf.float64, name='input_1'), name='input_1', description=\"created by layer 'input_1'\"), but it was called on an input with incompatible shape (1, 128, 2542).\n",
            "WARNING:tensorflow:Model was constructed with shape (None, 2542) for input KerasTensor(type_spec=TensorSpec(shape=(None, 2542), dtype=tf.float64, name='input_1'), name='input_1', description=\"created by layer 'input_1'\"), but it was called on an input with incompatible shape (1, 128, 2542).\n",
            "WARNING:tensorflow:Model was constructed with shape (None, 2542) for input KerasTensor(type_spec=TensorSpec(shape=(None, 2542), dtype=tf.float64, name='input_1'), name='input_1', description=\"created by layer 'input_1'\"), but it was called on an input with incompatible shape (1, 128, 2542).\n",
            "WARNING:tensorflow:Model was constructed with shape (None, 2542) for input KerasTensor(type_spec=TensorSpec(shape=(None, 2542), dtype=tf.float64, name='input_1'), name='input_1', description=\"created by layer 'input_1'\"), but it was called on an input with incompatible shape (1, 128, 2542).\n",
            "WARNING:tensorflow:Model was constructed with shape (None, 2542) for input KerasTensor(type_spec=TensorSpec(shape=(None, 2542), dtype=tf.float64, name='input_1'), name='input_1', description=\"created by layer 'input_1'\"), but it was called on an input with incompatible shape (1, 128, 2542).\n",
            "WARNING:tensorflow:Model was constructed with shape (None, 2542) for input KerasTensor(type_spec=TensorSpec(shape=(None, 2542), dtype=tf.float64, name='input_1'), name='input_1', description=\"created by layer 'input_1'\"), but it was called on an input with incompatible shape (1, 128, 2542).\n",
            "WARNING:tensorflow:Model was constructed with shape (None, 2542) for input KerasTensor(type_spec=TensorSpec(shape=(None, 2542), dtype=tf.float64, name='input_1'), name='input_1', description=\"created by layer 'input_1'\"), but it was called on an input with incompatible shape (1, 128, 2542).\n",
            "WARNING:tensorflow:Model was constructed with shape (None, 2542) for input KerasTensor(type_spec=TensorSpec(shape=(None, 2542), dtype=tf.float64, name='input_1'), name='input_1', description=\"created by layer 'input_1'\"), but it was called on an input with incompatible shape (1, 128, 2542).\n",
            "WARNING:tensorflow:Model was constructed with shape (None, 2542) for input KerasTensor(type_spec=TensorSpec(shape=(None, 2542), dtype=tf.float64, name='input_1'), name='input_1', description=\"created by layer 'input_1'\"), but it was called on an input with incompatible shape (1, 128, 2542).\n",
            "WARNING:tensorflow:Model was constructed with shape (None, 2542) for input KerasTensor(type_spec=TensorSpec(shape=(None, 2542), dtype=tf.float64, name='input_1'), name='input_1', description=\"created by layer 'input_1'\"), but it was called on an input with incompatible shape (1, 128, 2542).\n",
            "WARNING:tensorflow:Model was constructed with shape (None, 2542) for input KerasTensor(type_spec=TensorSpec(shape=(None, 2542), dtype=tf.float64, name='input_1'), name='input_1', description=\"created by layer 'input_1'\"), but it was called on an input with incompatible shape (1, 128, 2542).\n",
            "WARNING:tensorflow:Model was constructed with shape (None, 2542) for input KerasTensor(type_spec=TensorSpec(shape=(None, 2542), dtype=tf.float64, name='input_1'), name='input_1', description=\"created by layer 'input_1'\"), but it was called on an input with incompatible shape (1, 128, 2542).\n",
            "WARNING:tensorflow:Model was constructed with shape (None, 2542) for input KerasTensor(type_spec=TensorSpec(shape=(None, 2542), dtype=tf.float64, name='input_1'), name='input_1', description=\"created by layer 'input_1'\"), but it was called on an input with incompatible shape (1, 128, 2542).\n",
            "WARNING:tensorflow:Model was constructed with shape (None, 2542) for input KerasTensor(type_spec=TensorSpec(shape=(None, 2542), dtype=tf.float64, name='input_1'), name='input_1', description=\"created by layer 'input_1'\"), but it was called on an input with incompatible shape (1, 128, 2542).\n",
            "WARNING:tensorflow:Model was constructed with shape (None, 2542) for input KerasTensor(type_spec=TensorSpec(shape=(None, 2542), dtype=tf.float64, name='input_1'), name='input_1', description=\"created by layer 'input_1'\"), but it was called on an input with incompatible shape (1, 128, 2542).\n",
            "WARNING:tensorflow:Model was constructed with shape (None, 2542) for input KerasTensor(type_spec=TensorSpec(shape=(None, 2542), dtype=tf.float64, name='input_1'), name='input_1', description=\"created by layer 'input_1'\"), but it was called on an input with incompatible shape (1, 128, 2542).\n",
            "WARNING:tensorflow:Model was constructed with shape (None, 2542) for input KerasTensor(type_spec=TensorSpec(shape=(None, 2542), dtype=tf.float64, name='input_1'), name='input_1', description=\"created by layer 'input_1'\"), but it was called on an input with incompatible shape (1, 128, 2542).\n",
            "WARNING:tensorflow:Model was constructed with shape (None, 2542) for input KerasTensor(type_spec=TensorSpec(shape=(None, 2542), dtype=tf.float64, name='input_1'), name='input_1', description=\"created by layer 'input_1'\"), but it was called on an input with incompatible shape (1, 128, 2542).\n",
            "CPU times: user 22.7 s, sys: 3.47 s, total: 26.2 s\n",
            "Wall time: 50.4 s\n"
          ]
        }
      ]
    },
    {
      "cell_type": "code",
      "metadata": {
        "colab": {
          "base_uri": "https://localhost:8080/",
          "height": 265
        },
        "id": "V_THQy-1MlB7",
        "outputId": "51709b81-170e-4c24-e3da-1f6ba0e6b835"
      },
      "source": [
        "f, ax = plt.subplots()\n",
        "ax.scatter(range(len(losses)), losses, label='train loss')\n",
        "ax.scatter(range(len(val_losses)), val_losses, label='val loss')\n",
        "plt.legend(loc='upper right');"
      ],
      "execution_count": 24,
      "outputs": [
        {
          "output_type": "display_data",
          "data": {
            "image/png": "[encoded data removed]",
            "text/plain": [
              "<Figure size 432x288 with 1 Axes>"
            ]
          },
          "metadata": {
            "needs_background": "light"
          }
        }
      ]
    },
    {
      "cell_type": "code",
      "metadata": {
        "id": "iQXwuJzHPoBH"
      },
      "source": [
        "generated_samples = nfm.flow.sample(2)  # generative modeling\n",
        "#log_probs = nfm.flow.log_prob(generated_samples)  # probability density estimation"
      ],
      "execution_count": 25,
      "outputs": []
    },
    {
      "cell_type": "code",
      "metadata": {
        "id": "PhkShauhPpbW"
      },
      "source": [
        "mols = tf.math.floor(generated_samples)  # quantize data\n",
        "mols = tf.clip_by_value(mols, 0, 1)  # Set negative values to 0 and values > 1 to 1\n",
        "mols_list = mols.numpy().tolist()\n",
        "\n",
        "# Add padding characters if needed\n",
        "for mol in mols_list:\n",
        "  for i in range(pad_to_len):\n",
        "    row = mol[len(selfies_alphabet) * i: len(selfies_alphabet) * (i + 1)]\n",
        "    if all(elem == 0 for elem in row):\n",
        "      mol[len(selfies_alphabet) * (i+1) - 1] = 1"
      ],
      "execution_count": 27,
      "outputs": []
    },
    {
      "cell_type": "code",
      "metadata": {
        "colab": {
          "base_uri": "https://localhost:8080/"
        },
        "id": "vNLmbvwRazNM",
        "outputId": "5510cf60-f03a-4a4f-c274-406e1f5f236e"
      },
      "source": [
        "idx_to_symbol = {v: k for k, v in symbol_to_idx.items()}\n",
        "mols2 = sf.batch_flat_hot_to_selfies(mols_list, idx_to_symbol)\n",
        "mols2"
      ],
      "execution_count": 35,
      "outputs": [
        {
          "output_type": "execute_result",
          "data": {
            "text/plain": [
              "['[=N][=Branch2][/C][#N][=O][=Ring1][=Ring2][P][/N+1][/H][\\\\C][=Ring2][C][C][#Branch2][C][Branch1][Branch1][/N+1][/H][/C][#C][Branch1][nop][/O][Branch1][=Branch2][#Branch1][nop][Branch1][O][=C][/H][C-1][=O][C-1][NH1][/O][#Branch1][S][H][/H][=C][/N+1][=Ring2][Branch1][#Branch2][N][nop][P][#Branch1][#C][nop][#Branch1][=Ring1][=Ring1][=Ring2][/C][=C][=C][#Branch2][#N]',\n",
              " '[/N+1][/C][#C][nop][=N][C][/H][/C][H][C][Branch1][=Branch2][Ring2][Branch1][=Branch1][=Branch2][Ring1][=Branch1][\\\\C][H][/O][#Branch1][C][C][C][C][#C][/N][nop][Branch2][nop][nop][#Branch1][=Ring1][Ring2][C][#N][/N][C+1][=O][Ring1][=N][=Branch1][nop][C-1][#C][=N][N][=N+1][=O][=Branch1][#Branch2][#Branch2][/C][Branch2][/O][=Branch2][N][/N][\\\\C][nop][/H]']"
            ]
          },
          "metadata": {},
          "execution_count": 35
        }
      ]
    },
    {
      "cell_type": "code",
      "metadata": {
        "colab": {
          "base_uri": "https://localhost:8080/"
        },
        "id": "OGa_yp5kazg9",
        "outputId": "e76abc80-0576-40e1-b285-5f7db3b1ef9c"
      },
      "source": [
        "from rdkit import RDLogger  \n",
        "from rdkit import Chem\n",
        "RDLogger.DisableLog('rdApp.*')  # suppress error messages\n",
        "\n",
        "valid_count = 0\n",
        "valid_selfies, invalid_selfies = [], []\n",
        "for idx, selfies in enumerate(mols2):\n",
        "  try:\n",
        "    if Chem.MolFromSmiles(sf.decoder(mols2[idx]), sanitize=True) is not None:\n",
        "        valid_count += 1\n",
        "        valid_selfies.append(selfies)\n",
        "    else:\n",
        "      invalid_selfies.append(selfies)\n",
        "  except Exception:\n",
        "    pass\n",
        "print('%.2f' % (valid_count / len(mols)),  ' fraction of generated samples are valid molecules.')\n",
        "\n"
      ],
      "execution_count": 29,
      "outputs": [
        {
          "output_type": "stream",
          "name": "stdout",
          "text": [
            "1.00  fraction of generated samples are valid molecules.\n"
          ]
        }
      ]
    },
    {
      "cell_type": "code",
      "metadata": {
        "id": "DlQoAS0Vb0i2"
      },
      "source": [
        "gen_mols = [Chem.MolFromSmiles(sf.decoder(vs)) for vs in valid_selfies]"
      ],
      "execution_count": 30,
      "outputs": []
    },
    {
      "cell_type": "code",
      "metadata": {
        "id": "phdSCIngc-gH"
      },
      "source": [
        "def display_images(filenames):\n",
        "    \"\"\"Helper to pretty-print images.\"\"\"\n",
        "    for file in filenames:\n",
        "      display(Image(file))\n",
        "\n",
        "def mols_to_pngs(mols, basename=\"generated_mol\"):\n",
        "    \"\"\"Helper to write RDKit mols to png files.\"\"\"\n",
        "    filenames = []\n",
        "    for i, mol in enumerate(mols):\n",
        "        filename = \"%s%d.png\" % (basename, i)\n",
        "        Draw.MolToFile(mol, filename)\n",
        "        filenames.append(filename)\n",
        "    return filenames"
      ],
      "execution_count": 31,
      "outputs": []
    },
    {
      "cell_type": "code",
      "metadata": {
        "colab": {
          "base_uri": "https://localhost:8080/"
        },
        "id": "eybFfFPCdHCN",
        "outputId": "03e21ddf-dbf8-4b6f-9dbc-bfb10007abab"
      },
      "source": [
        "gen_mols\n"
      ],
      "execution_count": 32,
      "outputs": [
        {
          "output_type": "execute_result",
          "data": {
            "text/plain": [
              "[<rdkit.Chem.rdchem.Mol at 0x7f106fc1a490>,\n",
              " <rdkit.Chem.rdchem.Mol at 0x7f0fe4d81cb0>]"
            ]
          },
          "metadata": {},
          "execution_count": 32
        }
      ]
    },
    {
      "cell_type": "code",
      "metadata": {
        "colab": {
          "base_uri": "https://localhost:8080/",
          "height": 617
        },
        "id": "4Po5Q0rvdBY9",
        "outputId": "a917a474-dc53-48be-e945-3c45da66dabd"
      },
      "source": [
        "display_mols = []\n",
        "for molc in gen_mols:\n",
        "  display_mols.append(molc)\n",
        "\n",
        "display_images(mols_to_pngs(display_mols))"
      ],
      "execution_count": 34,
      "outputs": [
        {
          "output_type": "display_data",
          "data": {
            "image/png": "[encoded data removed]",
            "text/plain": [
              "<IPython.core.display.Image object>"
            ]
          },
          "metadata": {}
        },
        {
          "output_type": "display_data",
          "data": {
            "image/png": "[encoded data removed]",
            "text/plain": [
              "<IPython.core.display.Image object>"
            ]
          },
          "metadata": {}
        }
      ]
    },
    {
      "cell_type": "code",
      "metadata": {
        "colab": {
          "base_uri": "https://localhost:8080/",
          "height": 70
        },
        "id": "QQB7dfO4j8RD",
        "outputId": "d7bed980-270d-43cf-a973-525dadd668dc"
      },
      "source": [
        "smiles1 = 'CN1CCC23C4C1CC5=C2C(=C(C=C5)O)OC3C(C=C4)O'\n",
        "selfies1 = sf.encoder(smiles1)\n",
        "selfies1"
      ],
      "execution_count": 49,
      "outputs": [
        {
          "output_type": "execute_result",
          "data": {
            "application/vnd.google.colaboratory.intrinsic+json": {
              "type": "string"
            },
            "text/plain": [
              "'[C][N][C][C][C][C][C][Ring1][=Branch1][C][C][=C][Ring1][=Branch1][C][=Branch1][=Branch2][=C][Branch1][Branch1][C][=C][Ring1][=Branch1][O][O][C][Ring1][=N][C][Branch1][Branch1][C][=C][Ring1][#C][O]'"
            ]
          },
          "metadata": {},
          "execution_count": 49
        }
      ]
    },
    {
      "cell_type": "code",
      "metadata": {
        "colab": {
          "base_uri": "https://localhost:8080/",
          "height": 35
        },
        "id": "9jPNzoIndDad",
        "outputId": "2e30bc27-2a7a-411b-9c9b-d9d026b3804a"
      },
      "source": [
        "#selfies1='[=N][=Branch2][/C][#N][=O][=Ring1][=Ring2][P][/N+1][/H][\\\\C][=Ring2][C][C][#Branch2][C][Branch1][Branch1][/N+1][/H][/C][#C][Branch1][nop][/O][Branch1][=Branch2][#Branch1][nop][Branch1][O][=C][/H][C-1][=O][C-1][NH1][/O][#Branch1][S][H][/H][=C][/N+1][=Ring2][Branch1][#Branch2][N][nop][P][#Branch1][#C][nop][#Branch1][=Ring1][=Ring1][=Ring2][/C][=C][=C][#Branch2][#N]'\n",
        "molc1 = Chem.MolFromSmiles(sf.decoder(selfies1), sanitize=True)\n",
        "sf.decoder(selfies1)"
      ],
      "execution_count": 50,
      "outputs": [
        {
          "output_type": "execute_result",
          "data": {
            "application/vnd.google.colaboratory.intrinsic+json": {
              "type": "string"
            },
            "text/plain": [
              "'CN1CCC23C4C1CC5=C2C(=C(C=C5)O)OC3C(C=C4)O'"
            ]
          },
          "metadata": {},
          "execution_count": 50
        }
      ]
    },
    {
      "cell_type": "code",
      "metadata": {
        "colab": {
          "base_uri": "https://localhost:8080/",
          "height": 35
        },
        "id": "2nRU11cHifs6",
        "outputId": "e73c324d-3d10-4faa-ff14-a4f6a1bec2ff"
      },
      "source": [
        "selfies2='[C][N][C][C][C][C][C][Ring1][C][C][=C][=Branch1][C][=Branch1][=Branch2][=C][Branch1][Branch1][C][=C][Ring1][=Branch1][O][O][C][Ring1][=N][C][Branch1][Branch1][C][=C][Ring1][#C][O]'\n",
        "molc2 = Chem.MolFromSmiles(sf.decoder(selfies2), sanitize=True)\n",
        "sf.decoder(selfies2)"
      ],
      "execution_count": 53,
      "outputs": [
        {
          "output_type": "execute_result",
          "data": {
            "application/vnd.google.colaboratory.intrinsic+json": {
              "type": "string"
            },
            "text/plain": [
              "'CNC1C2CC=C3C=CC(C=C3)OOC1C(C=C2)O'"
            ]
          },
          "metadata": {},
          "execution_count": 53
        }
      ]
    },
    {
      "cell_type": "code",
      "metadata": {
        "colab": {
          "base_uri": "https://localhost:8080/",
          "height": 217
        },
        "id": "jvBUSpVnij88",
        "outputId": "c3efc311-297b-47ab-f4e2-21c6dd910b09"
      },
      "source": [
        "Draw.MolsToGridImage([molc1,molc2])"
      ],
      "execution_count": 54,
      "outputs": [
        {
          "output_type": "execute_result",
          "data": {
            "image/png": "[encoded data removed]",
            "text/plain": [
              "<PIL.PngImagePlugin.PngImageFile image mode=RGB size=600x200 at 0x7F0FD14DC410>"
            ]
          },
          "metadata": {},
          "execution_count": 54
        }
      ]
    },
    {
      "cell_type": "code",
      "metadata": {
        "id": "lRQIxq8aixyN"
      },
      "source": [
        ""
      ],
      "execution_count": null,
      "outputs": []
    }
  ]
}