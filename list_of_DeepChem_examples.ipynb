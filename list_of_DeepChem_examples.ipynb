{
  "nbformat": 4,
  "nbformat_minor": 0,
  "metadata": {
    "colab": {
      "name": "list of DeepChem examples",
      "provenance": [],
      "collapsed_sections": [],
      "authorship_tag": "ABX9TyP7UC+hhYblmLOjeR96vtBC",
      "include_colab_link": true
    },
    "kernelspec": {
      "name": "python3",
      "display_name": "Python 3"
    },
    "language_info": {
      "name": "python"
    }
  },
  "cells": [
    {
      "cell_type": "markdown",
      "metadata": {
        "id": "view-in-github",
        "colab_type": "text"
      },
      "source": [
        "<a href=\"https://colab.research.google.com/github/filizolalab/CADD2021/blob/main/list_of_DeepChem_examples.ipynb\" target=\"_parent\"><img src=\"https://colab.research.google.com/assets/colab-badge.svg\" alt=\"Open In Colab\"/></a>"
      ]
    },
    {
      "cell_type": "markdown",
      "metadata": {
        "id": "QHYAlp4dv5oY"
      },
      "source": [
        "\n",
        "* [exploration of some molecular featurizers](https://github.com/deepchem/deepchem/blob/master/examples/tutorials/Going_Deeper_on_Molecular_Featurizations.ipynb) has examples of molecular featurization for the early tutorial\n",
        "\n",
        "* [classifier on molecular fingerprints](https://github.com/deepchem/deepchem/blob/master/examples/tutorials/Molecular_Fingerprints.ipynb) has a simple model on tox21 using molecular fingerprints\n",
        "\n",
        "\n",
        "* [about training procedure](https://github.com/deepchem/deepchem/blob/master/examples/tutorials/Advanced_Model_Training.ipynb) shows how to implement a hyper-parameter search for a simple ECFP-based classifier\n",
        "\n",
        "* [uncertainty estimation](https://github.com/deepchem/deepchem/blob/master/examples/tutorials/Uncertainty_In_Deep_Learning.ipynb) uses a EPCF model for the solubility data -- and estimates the uncertainty\n",
        "\n",
        "\n",
        "* [model interpretability 1](https://github.com/deepchem/deepchem/blob/master/examples/tutorials/Introduction_to_Model_Interpretability.ipynb) uses LIME to set up a moldel interpretability analysis for HIV toxicity based on a ECFP-based classifier. [model interpretability 2](https://github.com/deepchem/deepchem/blob/master/examples/tutorials/Atomic_Contributions_for_Molecules.ipynb) uses molconv models to interpret the atomic contribution to the results of a classifier or regression task; \n",
        "\n",
        "* [large chemical screens](https://github.com/deepchem/deepchem/blob/master/examples/tutorials/Large_Scale_Chemical_Screens.ipynb) set up a ZINC VS based on a graph molecule HIV classifier\n",
        "\n",
        "\n"
      ]
    },
    {
      "cell_type": "code",
      "metadata": {
        "id": "XT_PaP9xv24d"
      },
      "source": [
        ""
      ],
      "execution_count": null,
      "outputs": []
    }
  ]
}