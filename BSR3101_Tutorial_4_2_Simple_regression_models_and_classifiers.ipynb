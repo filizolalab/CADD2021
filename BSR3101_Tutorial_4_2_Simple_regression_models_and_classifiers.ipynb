{
  "nbformat": 4,
  "nbformat_minor": 0,
  "metadata": {
    "colab": {
      "name": "BSR3101 Tutorial 4.2 - Simple regression models and classifiers",
      "provenance": [],
      "collapsed_sections": [],
      "authorship_tag": "ABX9TyNjBWrcWlRT37vSMd7v3ohE",
      "include_colab_link": true
    },
    "kernelspec": {
      "name": "python3",
      "display_name": "Python 3"
    },
    "language_info": {
      "name": "python"
    }
  },
  "cells": [
    {
      "cell_type": "markdown",
      "metadata": {
        "id": "view-in-github",
        "colab_type": "text"
      },
      "source": [
        "<a href=\"https://colab.research.google.com/github/filizolalab/CADD2021/blob/main/BSR3101_Tutorial_4_2_Simple_regression_models_and_classifiers.ipynb\" target=\"_parent\"><img src=\"https://colab.research.google.com/assets/colab-badge.svg\" alt=\"Open In Colab\"/></a>"
      ]
    },
    {
      "cell_type": "markdown",
      "metadata": {
        "id": "5_ZkYM2fIeFL"
      },
      "source": [
        "## Regression and classification models based on fingerprints"
      ]
    },
    {
      "cell_type": "markdown",
      "metadata": {
        "id": "EJ2Dery1CZN5"
      },
      "source": [
        "*This tutorial is part of the BSR3101 Computer Aided Drug Design, and is based on the [DeepChem tutorials](https://github.com/deepchem/deepchem/tree/master/examples/tutorials). Also check the [DeepChem website](https://deepchem.io/) for other tutorials and documentation.*"
      ]
    },
    {
      "cell_type": "markdown",
      "metadata": {
        "id": "oP34GyQlCgx8"
      },
      "source": [
        "### Install and import `deepchem`"
      ]
    },
    {
      "cell_type": "markdown",
      "metadata": {
        "id": "5V0CZTawCayZ"
      },
      "source": [
        "To run this tutorial the machine where the calculations are executed must have a copy of the `deepchem` libarary installed. If you're running this on a machine where this is not the case, the library can be installed with the following `pip` command You can of course run this tutorial *locally* if you prefer. In this case, don't run the `pip install` cell since it will download and install Anaconda on your local machine. \n"
      ]
    },
    {
      "cell_type": "code",
      "metadata": {
        "colab": {
          "base_uri": "https://localhost:8080/",
          "height": 330
        },
        "id": "nDQ6yNebIdWG",
        "outputId": "0f47e1dd-0299-4860-bfeb-746c1b8fa5f6"
      },
      "source": [
        "!pip install --pre deepchem\n",
        "import deepchem as dc\n",
        "dc.__version__"
      ],
      "execution_count": 1,
      "outputs": [
        {
          "output_type": "stream",
          "name": "stdout",
          "text": [
            "Collecting deepchem\n",
            "  Downloading deepchem-2.6.0.dev20211119161201-py3-none-any.whl (609 kB)\n",
            "\u001b[K     |████████████████████████████████| 609 kB 8.1 MB/s \n",
            "\u001b[?25hRequirement already satisfied: numpy in /usr/local/lib/python3.7/dist-packages (from deepchem) (1.19.5)\n",
            "Requirement already satisfied: scikit-learn in /usr/local/lib/python3.7/dist-packages (from deepchem) (1.0.1)\n",
            "Requirement already satisfied: joblib in /usr/local/lib/python3.7/dist-packages (from deepchem) (1.1.0)\n",
            "Requirement already satisfied: pandas in /usr/local/lib/python3.7/dist-packages (from deepchem) (1.1.5)\n",
            "Requirement already satisfied: scipy in /usr/local/lib/python3.7/dist-packages (from deepchem) (1.4.1)\n",
            "Collecting rdkit-pypi\n",
            "  Downloading rdkit_pypi-2021.9.2.1-cp37-cp37m-manylinux_2_17_x86_64.manylinux2014_x86_64.whl (20.6 MB)\n",
            "\u001b[K     |████████████████████████████████| 20.6 MB 109.2 MB/s \n",
            "\u001b[?25hRequirement already satisfied: pytz>=2017.2 in /usr/local/lib/python3.7/dist-packages (from pandas->deepchem) (2018.9)\n",
            "Requirement already satisfied: python-dateutil>=2.7.3 in /usr/local/lib/python3.7/dist-packages (from pandas->deepchem) (2.8.2)\n",
            "Requirement already satisfied: six>=1.5 in /usr/local/lib/python3.7/dist-packages (from python-dateutil>=2.7.3->pandas->deepchem) (1.15.0)\n",
            "Requirement already satisfied: threadpoolctl>=2.0.0 in /usr/local/lib/python3.7/dist-packages (from scikit-learn->deepchem) (3.0.0)\n",
            "Installing collected packages: rdkit-pypi, deepchem\n",
            "Successfully installed deepchem-2.6.0.dev20211119161201 rdkit-pypi-2021.9.2.1\n"
          ]
        },
        {
          "output_type": "execute_result",
          "data": {
            "application/vnd.google.colaboratory.intrinsic+json": {
              "type": "string"
            },
            "text/plain": [
              "'2.6.0.dev'"
            ]
          },
          "metadata": {},
          "execution_count": 1
        }
      ]
    },
    {
      "cell_type": "markdown",
      "metadata": {
        "id": "T1x_Bfk8Cswc"
      },
      "source": [
        "We also import `numpy` (for maths), `pandas` (for tables), and `matplotlib` for plotting graphs in the notebook"
      ]
    },
    {
      "cell_type": "code",
      "metadata": {
        "id": "1R3sFT7hJXa0"
      },
      "source": [
        "import numpy as np\n",
        "import pandas as pd\n",
        "import matplotlib.pyplot as plt\n"
      ],
      "execution_count": 2,
      "outputs": []
    },
    {
      "cell_type": "markdown",
      "metadata": {
        "id": "QKwNs0uQJFhv"
      },
      "source": [
        "### Regression on solubility data using ECFP features"
      ]
    },
    {
      "cell_type": "markdown",
      "metadata": {
        "id": "DYy3kA-2C5br"
      },
      "source": [
        "A regression problem is a supervised learning problem in which we want to be able to predict continuous quantities based on a featurization of the molecules (e.g. affinity, efficacy, molecular properties, etc.). \n",
        "\n",
        "Here, we will see how to predict the *solubility* of small molecules given their 2D chemical structures. Classical approaches to this problem would use semi-empirical calculations to estimate the solubility from physico-chemical principles, but here we want to use a fully knowledge-based approach, starting from a dataset of measured solubilities for real molecules.  \n",
        "\n",
        "#### Background\n",
        "Poor drug solubility is one of the main obstacles in the drug discovery and development process and was recently identified to be strongly related to the choice of target explored. ([Bergstrom et al., 2016](https://pubmed.ncbi.nlm.nih.gov/26928657/)) Solubility is the driving force for absorption and acceptable solubility in the intestinal fluid is a prerequisite for achieving sufficiently high drug blood concentrations to obtain a therapeutic effect when systemic effects are warranted. The solubility of a compound affects its absorption, distribution, metabolism, excretion and toxicity (ADMET) profile ([Bergstrom et al., 2018](https://www.ncbi.nlm.nih.gov/pmc/articles/PMC5861307/)).\n",
        "\n",
        "\n",
        "#### Training data\n",
        "One of the components of DeepChem is [MoleculeNet](https://moleculenet.org/), a diverse collection of chemical and molecular data sets.  For this tutorial, we can use the [Delaney solubility data set](https://pubs.acs.org/doi/10.1021/ci034243x). The property of solubility in this data set is reported in log(solubility) where solubility is measured in moles/liter.\n"
      ]
    },
    {
      "cell_type": "markdown",
      "metadata": {
        "id": "XDSQFcvBDzeM"
      },
      "source": [
        "## Load the dataset, featurized with ECFP and split into training, validation, and test sets"
      ]
    },
    {
      "cell_type": "code",
      "metadata": {
        "id": "FlS_dEM9JEkj"
      },
      "source": [
        "tasks, datasets, transformers = dc.molnet.load_delaney(featurizer='ECFP',splitter='scaffold')\n",
        "train_dataset, valid_dataset, test_dataset = datasets"
      ],
      "execution_count": 3,
      "outputs": []
    },
    {
      "cell_type": "markdown",
      "metadata": {
        "id": "AkgAwqPbD9rG"
      },
      "source": [
        "This dataset contains one single \"task\", the experimental solubility of the molecules in the dataset. We can check the size of the datasets using the `len` function, that returns the length of an object."
      ]
    },
    {
      "cell_type": "code",
      "metadata": {
        "colab": {
          "base_uri": "https://localhost:8080/"
        },
        "id": "I0tByvDYJeT5",
        "outputId": "7c1bdd3f-ac74-49ab-cb2d-4c03e98634f7"
      },
      "source": [
        "print(tasks)"
      ],
      "execution_count": 4,
      "outputs": [
        {
          "output_type": "stream",
          "name": "stdout",
          "text": [
            "['measured log solubility in mols per litre']\n"
          ]
        }
      ]
    },
    {
      "cell_type": "code",
      "metadata": {
        "colab": {
          "base_uri": "https://localhost:8080/"
        },
        "id": "tpa7bSgHJkP-",
        "outputId": "ca9cfcfe-b224-48f9-b17a-13b764a94abd"
      },
      "source": [
        "print(f'training dataset contains {len(train_dataset)} molecules')\n",
        "print(f'validation dataset contains {len(valid_dataset)} molecules')\n",
        "print(f'test dataset contains {len(test_dataset)} molecules')"
      ],
      "execution_count": 5,
      "outputs": [
        {
          "output_type": "stream",
          "name": "stdout",
          "text": [
            "training dataset contains 902 molecules\n",
            "validation dataset contains 113 molecules\n",
            "test dataset contains 113 molecules\n"
          ]
        }
      ]
    },
    {
      "cell_type": "markdown",
      "metadata": {
        "id": "WjLUccGZERf-"
      },
      "source": [
        "The `shape` method allows us to inspect the number of rows (i.e. samples, or molecules in our case) and columns (i.e. feature dimension, or fingerpring bits) in the input dataset:"
      ]
    },
    {
      "cell_type": "code",
      "metadata": {
        "colab": {
          "base_uri": "https://localhost:8080/"
        },
        "id": "BZE4oLfAJn0h",
        "outputId": "2372636c-2887-4ee4-a41d-0aec30d00539"
      },
      "source": [
        "train_dataset.X.shape"
      ],
      "execution_count": null,
      "outputs": [
        {
          "output_type": "execute_result",
          "data": {
            "text/plain": [
              "(902, 1024)"
            ]
          },
          "metadata": {},
          "execution_count": 52
        }
      ]
    },
    {
      "cell_type": "markdown",
      "metadata": {
        "id": "yzTg4mrmEhtR"
      },
      "source": [
        "We can use the `pandas` library, that we imported with the shortcut name `pd` to visualize the data in a table:"
      ]
    },
    {
      "cell_type": "code",
      "metadata": {
        "colab": {
          "base_uri": "https://localhost:8080/",
          "height": 424
        },
        "id": "nnpS8z2BM_7-",
        "outputId": "ef1a2f5d-4986-44e8-e6e4-7a2886923b30"
      },
      "source": [
        "#show a table with the molecule's SMILES and experimental solubility\n",
        "pd.DataFrame({'id':train_dataset.ids, \n",
        "              'solubility':train_dataset.y.flatten()})"
      ],
      "execution_count": 6,
      "outputs": [
        {
          "output_type": "execute_result",
          "data": {
            "text/html": [
              "<div>\n",
              "<style scoped>\n",
              "    .dataframe tbody tr th:only-of-type {\n",
              "        vertical-align: middle;\n",
              "    }\n",
              "\n",
              "    .dataframe tbody tr th {\n",
              "        vertical-align: top;\n",
              "    }\n",
              "\n",
              "    .dataframe thead th {\n",
              "        text-align: right;\n",
              "    }\n",
              "</style>\n",
              "<table border=\"1\" class=\"dataframe\">\n",
              "  <thead>\n",
              "    <tr style=\"text-align: right;\">\n",
              "      <th></th>\n",
              "      <th>id</th>\n",
              "      <th>solubility</th>\n",
              "    </tr>\n",
              "  </thead>\n",
              "  <tbody>\n",
              "    <tr>\n",
              "      <th>0</th>\n",
              "      <td>CC(C)=CCCC(C)=CC(=O)</td>\n",
              "      <td>0.390413</td>\n",
              "    </tr>\n",
              "    <tr>\n",
              "      <th>1</th>\n",
              "      <td>CCCC=C</td>\n",
              "      <td>0.090421</td>\n",
              "    </tr>\n",
              "    <tr>\n",
              "      <th>2</th>\n",
              "      <td>CCCCCCCCCCCCCC</td>\n",
              "      <td>-2.464346</td>\n",
              "    </tr>\n",
              "    <tr>\n",
              "      <th>3</th>\n",
              "      <td>CC(C)Cl</td>\n",
              "      <td>0.704920</td>\n",
              "    </tr>\n",
              "    <tr>\n",
              "      <th>4</th>\n",
              "      <td>CCC(C)CO</td>\n",
              "      <td>1.159746</td>\n",
              "    </tr>\n",
              "    <tr>\n",
              "      <th>...</th>\n",
              "      <td>...</td>\n",
              "      <td>...</td>\n",
              "    </tr>\n",
              "    <tr>\n",
              "      <th>897</th>\n",
              "      <td>CC(=O)OCC(=O)C3(O)CCC4C2CCC1=CC(=O)CCC1(C)C2C(...</td>\n",
              "      <td>-0.649881</td>\n",
              "    </tr>\n",
              "    <tr>\n",
              "      <th>898</th>\n",
              "      <td>c3ccc2nc1ccccc1cc2c3</td>\n",
              "      <td>-0.388598</td>\n",
              "    </tr>\n",
              "    <tr>\n",
              "      <th>899</th>\n",
              "      <td>Nc2cccc3nc1ccccc1cc23</td>\n",
              "      <td>-0.654719</td>\n",
              "    </tr>\n",
              "    <tr>\n",
              "      <th>900</th>\n",
              "      <td>C1CCCCCC1</td>\n",
              "      <td>-0.311180</td>\n",
              "    </tr>\n",
              "    <tr>\n",
              "      <th>901</th>\n",
              "      <td>OC1CCCCCC1</td>\n",
              "      <td>0.961365</td>\n",
              "    </tr>\n",
              "  </tbody>\n",
              "</table>\n",
              "<p>902 rows × 2 columns</p>\n",
              "</div>"
            ],
            "text/plain": [
              "                                                    id  solubility\n",
              "0                                 CC(C)=CCCC(C)=CC(=O)    0.390413\n",
              "1                                               CCCC=C    0.090421\n",
              "2                                       CCCCCCCCCCCCCC   -2.464346\n",
              "3                                              CC(C)Cl    0.704920\n",
              "4                                             CCC(C)CO    1.159746\n",
              "..                                                 ...         ...\n",
              "897  CC(=O)OCC(=O)C3(O)CCC4C2CCC1=CC(=O)CCC1(C)C2C(...   -0.649881\n",
              "898                               c3ccc2nc1ccccc1cc2c3   -0.388598\n",
              "899                             Nc2cccc3nc1ccccc1cc23    -0.654719\n",
              "900                                          C1CCCCCC1   -0.311180\n",
              "901                                         OC1CCCCCC1    0.961365\n",
              "\n",
              "[902 rows x 2 columns]"
            ]
          },
          "metadata": {},
          "execution_count": 6
        }
      ]
    },
    {
      "cell_type": "markdown",
      "metadata": {
        "id": "5KqLn0JdEwL6"
      },
      "source": [
        "## Train the model on the train set"
      ]
    },
    {
      "cell_type": "markdown",
      "metadata": {
        "id": "wMNcIJvmEzrM"
      },
      "source": [
        "To train the model, we specify that we want to execute a regression by selecting the model type `MultitaskRegressor` this allows in principle to fit multiple outputs (multiple \"tasks\"), but here we only have one (the solubility). we also have to specify the dimension of the input (number of fingerprint bits).\n",
        "\n",
        "Then we can train the model for 100 epochs: the training will cycle through the training dataset 100 times and optimize the weights in the network."
      ]
    },
    {
      "cell_type": "code",
      "metadata": {
        "colab": {
          "base_uri": "https://localhost:8080/"
        },
        "id": "T_5A9-QjJRJE",
        "outputId": "b3879f23-76f2-4e76-b146-b52b0a9996dc"
      },
      "source": [
        "model = dc.models.MultitaskRegressor(len(tasks), 1024)\n",
        "model.fit(train_dataset, nb_epoch=100)\n",
        "#y_pred, y_std = model.predict_uncertainty(test_dataset)"
      ],
      "execution_count": 7,
      "outputs": [
        {
          "output_type": "execute_result",
          "data": {
            "text/plain": [
              "0.06701555728912353"
            ]
          },
          "metadata": {},
          "execution_count": 7
        }
      ]
    },
    {
      "cell_type": "markdown",
      "metadata": {
        "id": "H-_msPUYFXNw"
      },
      "source": [
        "To assess how good is the model we obtained, we calculate an accuracy metric (in this case the Pearson $R^2$ score on the training and the test set. \n",
        "To do this we define a metric object, specifying what metric we want to use (`pearson_r2_score`) and evaluate the two datasets. You see that the architecture was able to learn very well the train set, but is not very good in generalizing the results to the test set. This is an indication of overfitting.\n",
        "\n",
        "The reasons of overfitting could be:\n",
        "* too simple model, that is not able to capture the essential features of the data\n",
        "* too simple featurization\n",
        "* small training set\n"
      ]
    },
    {
      "cell_type": "code",
      "metadata": {
        "colab": {
          "base_uri": "https://localhost:8080/"
        },
        "id": "TqWFZAwNJzEf",
        "outputId": "3c95831c-e49e-4141-993d-18cd98ed301b"
      },
      "source": [
        "metric = dc.metrics.Metric(dc.metrics.pearson_r2_score)\n",
        "print(\"Training set score:\", model.evaluate(train_dataset, [metric], transformers))\n",
        "print(\"Test set score:\", model.evaluate(test_dataset, [metric], transformers))"
      ],
      "execution_count": null,
      "outputs": [
        {
          "output_type": "stream",
          "name": "stdout",
          "text": [
            "Training set score: {'pearson_r2_score': 0.9544542968454556}\n",
            "Test set score: {'pearson_r2_score': 0.2649016902156063}\n"
          ]
        }
      ]
    },
    {
      "cell_type": "markdown",
      "metadata": {
        "id": "eM-UYXsAQgoi"
      },
      "source": [
        "## Predict solubitliy on the test molecules"
      ]
    },
    {
      "cell_type": "markdown",
      "metadata": {
        "id": "CLP2wESPGVy7"
      },
      "source": [
        "Let us look explicitely at the predictions of our model on the test set. We first calculate the prediction in the `test_solubilities` array, and then print out the results in a table:\n"
      ]
    },
    {
      "cell_type": "code",
      "metadata": {
        "colab": {
          "base_uri": "https://localhost:8080/",
          "height": 424
        },
        "id": "8neVNDo6Qkrl",
        "outputId": "bf2af265-be3c-4bba-91bb-5422cb18f890"
      },
      "source": [
        "test_features = test_dataset.X\n",
        "test_values = test_dataset.y\n",
        "test_smiles = test_dataset.ids\n",
        "test_solubilities = model.predict_on_batch(test_features)\n",
        "\n",
        "pd.DataFrame({\n",
        "    'id': test_smiles,\n",
        "    'predicted logS': test_solubilities.flatten(),\n",
        "    'exp logS': test_values.flatten()\n",
        "})"
      ],
      "execution_count": 8,
      "outputs": [
        {
          "output_type": "execute_result",
          "data": {
            "text/html": [
              "<div>\n",
              "<style scoped>\n",
              "    .dataframe tbody tr th:only-of-type {\n",
              "        vertical-align: middle;\n",
              "    }\n",
              "\n",
              "    .dataframe tbody tr th {\n",
              "        vertical-align: top;\n",
              "    }\n",
              "\n",
              "    .dataframe thead th {\n",
              "        text-align: right;\n",
              "    }\n",
              "</style>\n",
              "<table border=\"1\" class=\"dataframe\">\n",
              "  <thead>\n",
              "    <tr style=\"text-align: right;\">\n",
              "      <th></th>\n",
              "      <th>id</th>\n",
              "      <th>predicted logS</th>\n",
              "      <th>exp logS</th>\n",
              "    </tr>\n",
              "  </thead>\n",
              "  <tbody>\n",
              "    <tr>\n",
              "      <th>0</th>\n",
              "      <td>c1cc2ccc3cccc4ccc(c1)c2c34</td>\n",
              "      <td>0.208480</td>\n",
              "      <td>-1.601145</td>\n",
              "    </tr>\n",
              "    <tr>\n",
              "      <th>1</th>\n",
              "      <td>Cc1cc(=O)[nH]c(=S)[nH]1</td>\n",
              "      <td>0.407878</td>\n",
              "      <td>0.208483</td>\n",
              "    </tr>\n",
              "    <tr>\n",
              "      <th>2</th>\n",
              "      <td>Oc1ccc(cc1)C2(OC(=O)c3ccccc23)c4ccc(O)cc4</td>\n",
              "      <td>-0.160346</td>\n",
              "      <td>-0.016027</td>\n",
              "    </tr>\n",
              "    <tr>\n",
              "      <th>3</th>\n",
              "      <td>c1ccc2c(c1)cc3ccc4cccc5ccc2c3c45</td>\n",
              "      <td>-1.317137</td>\n",
              "      <td>-2.821917</td>\n",
              "    </tr>\n",
              "    <tr>\n",
              "      <th>4</th>\n",
              "      <td>C1=Cc2cccc3cccc1c23</td>\n",
              "      <td>0.304102</td>\n",
              "      <td>-0.528916</td>\n",
              "    </tr>\n",
              "    <tr>\n",
              "      <th>...</th>\n",
              "      <td>...</td>\n",
              "      <td>...</td>\n",
              "      <td>...</td>\n",
              "    </tr>\n",
              "    <tr>\n",
              "      <th>108</th>\n",
              "      <td>ClC4=C(Cl)C5(Cl)C3C1CC(C2OC12)C3C4(Cl)C5(Cl)Cl</td>\n",
              "      <td>-0.634986</td>\n",
              "      <td>-1.656304</td>\n",
              "    </tr>\n",
              "    <tr>\n",
              "      <th>109</th>\n",
              "      <td>c1ccsc1</td>\n",
              "      <td>0.244367</td>\n",
              "      <td>0.743629</td>\n",
              "    </tr>\n",
              "    <tr>\n",
              "      <th>110</th>\n",
              "      <td>c1ccc2c(c1)ccc3c2ccc4c5ccccc5ccc43</td>\n",
              "      <td>-1.857517</td>\n",
              "      <td>-2.420799</td>\n",
              "    </tr>\n",
              "    <tr>\n",
              "      <th>111</th>\n",
              "      <td>Cc1occc1C(=O)Nc2ccccc2</td>\n",
              "      <td>-0.734155</td>\n",
              "      <td>-0.209570</td>\n",
              "    </tr>\n",
              "    <tr>\n",
              "      <th>112</th>\n",
              "      <td>OCC3OC(OCC2OC(OC(C#N)c1ccccc1)C(O)C(O)C2O)C(O)...</td>\n",
              "      <td>1.914127</td>\n",
              "      <td>1.014589</td>\n",
              "    </tr>\n",
              "  </tbody>\n",
              "</table>\n",
              "<p>113 rows × 3 columns</p>\n",
              "</div>"
            ],
            "text/plain": [
              "                                                    id  ...  exp logS\n",
              "0                           c1cc2ccc3cccc4ccc(c1)c2c34  ... -1.601145\n",
              "1                              Cc1cc(=O)[nH]c(=S)[nH]1  ...  0.208483\n",
              "2           Oc1ccc(cc1)C2(OC(=O)c3ccccc23)c4ccc(O)cc4   ... -0.016027\n",
              "3                     c1ccc2c(c1)cc3ccc4cccc5ccc2c3c45  ... -2.821917\n",
              "4                                  C1=Cc2cccc3cccc1c23  ... -0.528916\n",
              "..                                                 ...  ...       ...\n",
              "108     ClC4=C(Cl)C5(Cl)C3C1CC(C2OC12)C3C4(Cl)C5(Cl)Cl  ... -1.656304\n",
              "109                                            c1ccsc1  ...  0.743629\n",
              "110                 c1ccc2c(c1)ccc3c2ccc4c5ccccc5ccc43  ... -2.420799\n",
              "111                             Cc1occc1C(=O)Nc2ccccc2  ... -0.209570\n",
              "112  OCC3OC(OCC2OC(OC(C#N)c1ccccc1)C(O)C(O)C2O)C(O)...  ...  1.014589\n",
              "\n",
              "[113 rows x 3 columns]"
            ]
          },
          "metadata": {},
          "execution_count": 8
        }
      ]
    },
    {
      "cell_type": "markdown",
      "metadata": {
        "id": "HBccl5y0GuCI"
      },
      "source": [
        "We can use the `matplotlib` library, which we imported with the shortcut name `plt` to plot the predictions agains the actual values."
      ]
    },
    {
      "cell_type": "code",
      "metadata": {
        "colab": {
          "base_uri": "https://localhost:8080/",
          "height": 281
        },
        "id": "RXJou1iLQsLk",
        "outputId": "8573f8b9-292e-49d8-9032-2a56653f631f"
      },
      "source": [
        "## plot the \n",
        "f, ax = plt.subplots()\n",
        "ax.scatter(test_solubilities, test_values, label='test set')\n",
        "x = np.array([test_solubilities.min(), test_solubilities.max()])\n",
        "plt.xlabel('predicted logS', color='#1C2833')\n",
        "plt.ylabel('experimental logS', color='#1C2833')\n",
        "plt.plot(x, x, '-g')\n",
        "plt.legend(loc='upper right');"
      ],
      "execution_count": 9,
      "outputs": [
        {
          "output_type": "display_data",
          "data": {
            "image/png": "[encoded data removed]",
            "text/plain": [
              "<Figure size 432x288 with 1 Axes>"
            ]
          },
          "metadata": {
            "needs_background": "light"
          }
        }
      ]
    },
    {
      "cell_type": "markdown",
      "metadata": {
        "id": "XoF8AvBmRIRo"
      },
      "source": [
        "## Setup deeper model"
      ]
    },
    {
      "cell_type": "markdown",
      "metadata": {
        "id": "uziNzcmCG7rX"
      },
      "source": [
        "We used the default choices for the model (e.g. number of layers, and layer size). Most of the time, one needs to explore different options to see which choices give the best results (i.e. the network that is able to generalize better to unseen data).\n",
        "\n",
        "It's easy to specify different model sizes with the `layer_sizes` argument in the model creation step. Let us try a network with two hidden layers of 128 nodes each."
      ]
    },
    {
      "cell_type": "code",
      "metadata": {
        "colab": {
          "base_uri": "https://localhost:8080/"
        },
        "id": "HUtEKqyzRIqO",
        "outputId": "c3c7618e-5b8d-43dc-d218-7bb445ea6f90"
      },
      "source": [
        "model = dc.models.MultitaskRegressor(len(tasks), 1024, layer_sizes=[128,128])\n",
        "model.fit(train_dataset, nb_epoch=100)\n",
        "#y_pred, y_std = model.predict_uncertainty(test_dataset)"
      ],
      "execution_count": 10,
      "outputs": [
        {
          "output_type": "execute_result",
          "data": {
            "text/plain": [
              "0.07689337730407715"
            ]
          },
          "metadata": {},
          "execution_count": 10
        }
      ]
    },
    {
      "cell_type": "code",
      "metadata": {
        "colab": {
          "base_uri": "https://localhost:8080/"
        },
        "id": "srRIT9IURSXu",
        "outputId": "6890d914-7e44-4460-fdee-24efdc399129"
      },
      "source": [
        "metric = dc.metrics.Metric(dc.metrics.pearson_r2_score)\n",
        "print(\"Training set score:\", model.evaluate(train_dataset, [metric], transformers))\n",
        "print(\"Test set score:\", model.evaluate(test_dataset, [metric], transformers))"
      ],
      "execution_count": 11,
      "outputs": [
        {
          "output_type": "stream",
          "name": "stdout",
          "text": [
            "Training set score: {'pearson_r2_score': 0.9621514131425742}\n",
            "Test set score: {'pearson_r2_score': 0.4129457034667006}\n"
          ]
        }
      ]
    },
    {
      "cell_type": "code",
      "metadata": {
        "colab": {
          "base_uri": "https://localhost:8080/"
        },
        "id": "sqkPVGYZRW1l",
        "outputId": "ba405496-8a2b-48b0-c44e-78c84ffad4d3"
      },
      "source": [
        "model = dc.models.MultitaskRegressor(len(tasks), 1024, layer_sizes=[512,512])\n",
        "model.fit(train_dataset, nb_epoch=100)\n",
        "#y_pred, y_std = model.predict_uncertainty(test_dataset)"
      ],
      "execution_count": null,
      "outputs": [
        {
          "output_type": "execute_result",
          "data": {
            "text/plain": [
              "0.07719830989837646"
            ]
          },
          "metadata": {},
          "execution_count": 60
        }
      ]
    },
    {
      "cell_type": "code",
      "metadata": {
        "colab": {
          "base_uri": "https://localhost:8080/"
        },
        "id": "cnSVDvdvRkBc",
        "outputId": "5d7d8da2-7d3f-472b-8927-0e266f8a35ae"
      },
      "source": [
        "metric = dc.metrics.Metric(dc.metrics.pearson_r2_score)\n",
        "print(\"Training set score:\", model.evaluate(train_dataset, [metric], transformers))\n",
        "print(\"Test set score:\", model.evaluate(test_dataset, [metric], transformers))"
      ],
      "execution_count": null,
      "outputs": [
        {
          "output_type": "stream",
          "name": "stdout",
          "text": [
            "Training set score: {'pearson_r2_score': 0.954967992913526}\n",
            "Test set score: {'pearson_r2_score': 0.39769262694909985}\n"
          ]
        }
      ]
    },
    {
      "cell_type": "markdown",
      "metadata": {
        "id": "J5VteSRNHh9u"
      },
      "source": [
        "This is better than what we had with the default settings. Can we do a more thorough search of the optimal parameters?"
      ]
    },
    {
      "cell_type": "markdown",
      "metadata": {
        "id": "2KQMQMxDQU1M"
      },
      "source": [
        "## Hyper-parameter search"
      ]
    },
    {
      "cell_type": "markdown",
      "metadata": {
        "id": "LGjDQ0tpHsHy"
      },
      "source": [
        "It's easy to setup a search in parameter space. We can specify the options we want for the number of layers, their size, the dropout probability, the learning rate, etc. and train all the models, then we select the one that gives the best accuracy on hte test set.\n",
        "We use the `GridHyperparamOpt` optimizer for this:"
      ]
    },
    {
      "cell_type": "code",
      "metadata": {
        "id": "Ozgg-zfYQWnx"
      },
      "source": [
        "params_dict = {\n",
        "    'n_tasks': [len(tasks)],\n",
        "    'n_features': [1024],\n",
        "    'layer_sizes': [[500], [500,500], [1000]],\n",
        "    'dropouts': [0.2, 0.5],\n",
        "    'learning_rate': [0.001, 0.0002]\n",
        "}\n",
        "optimizer = dc.hyper.GridHyperparamOpt(dc.models.MultitaskRegressor)\n",
        "metric = dc.metrics.Metric(dc.metrics.pearson_r2_score)\n",
        "best_model, best_hyperparams, all_results = optimizer.hyperparam_search(\n",
        "        params_dict, train_dataset, valid_dataset, metric, transformers)"
      ],
      "execution_count": 20,
      "outputs": []
    },
    {
      "cell_type": "code",
      "metadata": {
        "colab": {
          "base_uri": "https://localhost:8080/"
        },
        "id": "9HJ0zSzXR-pX",
        "outputId": "a58eccc0-885e-46f6-b29e-88f7515004b0"
      },
      "source": [
        "all_results"
      ],
      "execution_count": 21,
      "outputs": [
        {
          "output_type": "execute_result",
          "data": {
            "text/plain": [
              "{'_dropouts_0.200000_layer_sizes[1000]_learning_rate_0.000200_n_features_1024_n_tasks_1': 0.40360147366334165,\n",
              " '_dropouts_0.200000_layer_sizes[1000]_learning_rate_0.001000_n_features_1024_n_tasks_1': 0.2652749916056386,\n",
              " '_dropouts_0.200000_layer_sizes[500, 500]_learning_rate_0.000200_n_features_1024_n_tasks_1': 0.337674332833493,\n",
              " '_dropouts_0.200000_layer_sizes[500, 500]_learning_rate_0.001000_n_features_1024_n_tasks_1': 0.3710468828157778,\n",
              " '_dropouts_0.200000_layer_sizes[500]_learning_rate_0.000200_n_features_1024_n_tasks_1': 0.3549405931337012,\n",
              " '_dropouts_0.200000_layer_sizes[500]_learning_rate_0.001000_n_features_1024_n_tasks_1': 0.33013076660140317,\n",
              " '_dropouts_0.500000_layer_sizes[1000]_learning_rate_0.000200_n_features_1024_n_tasks_1': 0.3872875507265269,\n",
              " '_dropouts_0.500000_layer_sizes[1000]_learning_rate_0.001000_n_features_1024_n_tasks_1': 0.34029643552442435,\n",
              " '_dropouts_0.500000_layer_sizes[500, 500]_learning_rate_0.000200_n_features_1024_n_tasks_1': 0.30787157138221016,\n",
              " '_dropouts_0.500000_layer_sizes[500, 500]_learning_rate_0.001000_n_features_1024_n_tasks_1': 0.38306211617057984,\n",
              " '_dropouts_0.500000_layer_sizes[500]_learning_rate_0.000200_n_features_1024_n_tasks_1': 0.35278352046748496,\n",
              " '_dropouts_0.500000_layer_sizes[500]_learning_rate_0.001000_n_features_1024_n_tasks_1': 0.36976093669166216}"
            ]
          },
          "metadata": {},
          "execution_count": 21
        }
      ]
    },
    {
      "cell_type": "markdown",
      "metadata": {
        "id": "6EFXTYaBITdS"
      },
      "source": [
        "It seems that `layer_sizes=[1000], dropouts=0.2, learning_rate=0.0002` gives the best $R^2_{test}$. But how long should we train the network for?"
      ]
    },
    {
      "cell_type": "code",
      "metadata": {
        "colab": {
          "base_uri": "https://localhost:8080/"
        },
        "id": "ZawHU7c6SbJ6",
        "outputId": "12783250-1507-4861-e933-42b196e19823"
      },
      "source": [
        "model = dc.models.MultitaskRegressor(len(tasks), 1024, layer_sizes=[1000], dropouts=0.2, learning_rate=0.0002)\n",
        "model.fit(train_dataset, nb_epoch=100)\n",
        "#y_pred, y_std = model.predict_uncertainty(test_dataset)"
      ],
      "execution_count": 22,
      "outputs": [
        {
          "output_type": "execute_result",
          "data": {
            "text/plain": [
              "0.13043015480041503"
            ]
          },
          "metadata": {},
          "execution_count": 22
        }
      ]
    },
    {
      "cell_type": "markdown",
      "metadata": {
        "id": "LrsPpl0SSbjs"
      },
      "source": [
        "## Early stopping"
      ]
    },
    {
      "cell_type": "markdown",
      "metadata": {
        "id": "v3nNkbOrI7dV"
      },
      "source": [
        "Training longer does not automatically result in better models: longer optimization on the training set can serult in overfitting. \n",
        "\n",
        "The standard procedure to determine at what point we should stop the training (i.e. how to decide how many epochs to train for) is to look at the value of the accuracy on the test validation set during the training. we can instruct the trainer to print out the value of the $R^2_{test}$ with the `ValidationCallback` function.\n",
        "\n",
        "Here we ask the $R^2_{test}$ to be printed every 10 steps. "
      ]
    },
    {
      "cell_type": "code",
      "metadata": {
        "colab": {
          "base_uri": "https://localhost:8080/"
        },
        "id": "36EVVY6WWNRZ",
        "outputId": "e66bda48-ff4e-4480-9760-16d3697cca09"
      },
      "source": [
        "model = dc.models.MultitaskRegressor(n_tasks=len(tasks),n_features=1024,layer_sizes=[1000], dropouts=0.2, learning_rate=0.0002)\n",
        "metric = dc.metrics.Metric(dc.metrics.pearson_r2_score)\n",
        "callback = dc.models.ValidationCallback(valid_dataset, 10, metric)\n",
        "vf=model.fit(train_dataset, nb_epoch=50, callbacks=callback)"
      ],
      "execution_count": 23,
      "outputs": [
        {
          "output_type": "stream",
          "name": "stdout",
          "text": [
            "Step 10 validation: pearson_r2_score=0.181829\n",
            "Step 20 validation: pearson_r2_score=0.237051\n",
            "Step 30 validation: pearson_r2_score=0.296834\n",
            "Step 40 validation: pearson_r2_score=0.328729\n",
            "Step 50 validation: pearson_r2_score=0.353702\n",
            "Step 60 validation: pearson_r2_score=0.350189\n",
            "Step 70 validation: pearson_r2_score=0.35708\n",
            "Step 80 validation: pearson_r2_score=0.360121\n",
            "Step 90 validation: pearson_r2_score=0.362771\n",
            "Step 100 validation: pearson_r2_score=0.377367\n",
            "Step 110 validation: pearson_r2_score=0.389945\n",
            "Step 120 validation: pearson_r2_score=0.388819\n",
            "Step 130 validation: pearson_r2_score=0.383078\n",
            "Step 140 validation: pearson_r2_score=0.381423\n",
            "Step 150 validation: pearson_r2_score=0.378966\n",
            "Step 160 validation: pearson_r2_score=0.369246\n",
            "Step 170 validation: pearson_r2_score=0.364459\n",
            "Step 180 validation: pearson_r2_score=0.361096\n",
            "Step 190 validation: pearson_r2_score=0.356119\n",
            "Step 200 validation: pearson_r2_score=0.352186\n",
            "Step 210 validation: pearson_r2_score=0.353111\n",
            "Step 220 validation: pearson_r2_score=0.348854\n",
            "Step 230 validation: pearson_r2_score=0.339559\n",
            "Step 240 validation: pearson_r2_score=0.332572\n",
            "Step 250 validation: pearson_r2_score=0.334209\n",
            "Step 260 validation: pearson_r2_score=0.331877\n",
            "Step 270 validation: pearson_r2_score=0.325665\n",
            "Step 280 validation: pearson_r2_score=0.318208\n",
            "Step 290 validation: pearson_r2_score=0.312543\n",
            "Step 300 validation: pearson_r2_score=0.309172\n",
            "Step 310 validation: pearson_r2_score=0.31022\n",
            "Step 320 validation: pearson_r2_score=0.312636\n",
            "Step 330 validation: pearson_r2_score=0.310015\n",
            "Step 340 validation: pearson_r2_score=0.307647\n",
            "Step 350 validation: pearson_r2_score=0.302088\n",
            "Step 360 validation: pearson_r2_score=0.301081\n",
            "Step 370 validation: pearson_r2_score=0.297032\n",
            "Step 380 validation: pearson_r2_score=0.293356\n",
            "Step 390 validation: pearson_r2_score=0.293499\n",
            "Step 400 validation: pearson_r2_score=0.294266\n",
            "Step 410 validation: pearson_r2_score=0.287161\n",
            "Step 420 validation: pearson_r2_score=0.285718\n",
            "Step 430 validation: pearson_r2_score=0.283111\n",
            "Step 440 validation: pearson_r2_score=0.277491\n",
            "Step 450 validation: pearson_r2_score=0.273166\n",
            "Step 460 validation: pearson_r2_score=0.267173\n",
            "Step 470 validation: pearson_r2_score=0.264138\n",
            "Step 480 validation: pearson_r2_score=0.261702\n",
            "Step 490 validation: pearson_r2_score=0.257106\n",
            "Step 500 validation: pearson_r2_score=0.259871\n"
          ]
        }
      ]
    },
    {
      "cell_type": "markdown",
      "metadata": {
        "id": "YWgy8S39Z0F5"
      },
      "source": [
        "Another option to reduce the risk of overfitting is to gradually reduce the learning rate. Instead of using a constant value for the `learning_rate` argument in the model definition, we can use the `ExponentialDecay` function: in this case we start with "
      ]
    },
    {
      "cell_type": "code",
      "metadata": {
        "colab": {
          "base_uri": "https://localhost:8080/"
        },
        "id": "KRMkogfLZ0Qc",
        "outputId": "3673fc73-4066-4168-84ba-b394c73e7aa4"
      },
      "source": [
        "learning_rate_sc = dc.models.optimizers.ExponentialDecay(0.0002, 0.9, 1000)\n",
        "model = dc.models.MultitaskRegressor(n_tasks=len(tasks),n_features=1024,layer_sizes=[1000],dropouts=0.2,learning_rate=learning_rate_sc)\n",
        "metric = dc.metrics.Metric(dc.metrics.pearson_r2_score)\n",
        "callback = dc.models.ValidationCallback(valid_dataset, 20, metric)\n",
        "vf=model.fit(train_dataset, nb_epoch=50, callbacks=callback)"
      ],
      "execution_count": 25,
      "outputs": [
        {
          "output_type": "stream",
          "name": "stdout",
          "text": [
            "Step 20 validation: pearson_r2_score=0.230349\n",
            "Step 40 validation: pearson_r2_score=0.342484\n",
            "Step 60 validation: pearson_r2_score=0.368868\n",
            "Step 80 validation: pearson_r2_score=0.383355\n",
            "Step 100 validation: pearson_r2_score=0.378193\n",
            "Step 120 validation: pearson_r2_score=0.384679\n",
            "Step 140 validation: pearson_r2_score=0.384569\n",
            "Step 160 validation: pearson_r2_score=0.375793\n",
            "Step 180 validation: pearson_r2_score=0.377034\n",
            "Step 200 validation: pearson_r2_score=0.365436\n",
            "Step 220 validation: pearson_r2_score=0.358681\n",
            "Step 240 validation: pearson_r2_score=0.336782\n",
            "Step 260 validation: pearson_r2_score=0.339283\n",
            "Step 280 validation: pearson_r2_score=0.327344\n",
            "Step 300 validation: pearson_r2_score=0.319278\n",
            "Step 320 validation: pearson_r2_score=0.314849\n",
            "Step 340 validation: pearson_r2_score=0.306088\n",
            "Step 360 validation: pearson_r2_score=0.292598\n",
            "Step 380 validation: pearson_r2_score=0.297604\n",
            "Step 400 validation: pearson_r2_score=0.28994\n",
            "Step 420 validation: pearson_r2_score=0.283161\n",
            "Step 440 validation: pearson_r2_score=0.270936\n",
            "Step 460 validation: pearson_r2_score=0.264677\n",
            "Step 480 validation: pearson_r2_score=0.265526\n",
            "Step 500 validation: pearson_r2_score=0.263905\n"
          ]
        }
      ]
    },
    {
      "cell_type": "markdown",
      "metadata": {
        "id": "FlMsca6VMWFG"
      },
      "source": [
        "\n",
        "A shorter training gives better generalization\n"
      ]
    },
    {
      "cell_type": "code",
      "metadata": {
        "colab": {
          "base_uri": "https://localhost:8080/"
        },
        "id": "Fqirw07RaD6r",
        "outputId": "a58f543d-589e-48d2-a100-21d077084595"
      },
      "source": [
        "model = dc.models.MultitaskRegressor(n_tasks=len(tasks),n_features=1024,layer_sizes=[1000],dropouts=0.2,learning_rate=learning_rate_sc)\n",
        "vf=model.fit(train_dataset, nb_epoch=20)\n",
        "metric = dc.metrics.Metric(dc.metrics.pearson_r2_score)\n",
        "print(\"Training set score:\", model.evaluate(train_dataset, [metric], transformers))\n",
        "print(\"Test set score:\", model.evaluate(test_dataset, [metric], transformers))"
      ],
      "execution_count": 33,
      "outputs": [
        {
          "output_type": "stream",
          "name": "stdout",
          "text": [
            "Training set score: {'pearson_r2_score': 0.824471998102623}\n",
            "Test set score: {'pearson_r2_score': 0.4472464555554748}\n"
          ]
        }
      ]
    },
    {
      "cell_type": "markdown",
      "metadata": {
        "id": "wa2py8V-Zm1M"
      },
      "source": [
        "\n",
        "\n",
        "## Estimating uncertainty\n"
      ]
    },
    {
      "cell_type": "markdown",
      "metadata": {
        "id": "Q5wJHLzbMiM4"
      },
      "source": [
        "How can we estimate uncertainty in our predictions? \n",
        "A nice approach is to "
      ]
    },
    {
      "cell_type": "code",
      "metadata": {
        "id": "wvxSSfTnZl7k"
      },
      "source": [
        "model = dc.models.MultitaskRegressor(\n",
        "    n_tasks=len(tasks),\n",
        "    n_features=1024,\n",
        "    layer_sizes=[1000],\n",
        "    dropouts=0.2,\n",
        "    learning_rate=learning_rate_sc,\n",
        "    uncertainty=True)\n",
        "\n",
        "model.fit(train_dataset, nb_epoch=10)\n",
        "y_pred, y_std = model.predict_uncertainty(test_dataset)"
      ],
      "execution_count": 65,
      "outputs": []
    },
    {
      "cell_type": "markdown",
      "metadata": {
        "id": "RZ2X8ZmgM0sk"
      },
      "source": [
        "The returned objects `y_pred` and `y_std` contain the predictions of the solubility and of its standard deviation. We canprint them in a table together with the actual observed value:"
      ]
    },
    {
      "cell_type": "code",
      "metadata": {
        "colab": {
          "base_uri": "https://localhost:8080/",
          "height": 206
        },
        "id": "REb2uy13aZPE",
        "outputId": "9a5079f8-4c9b-4afa-f756-6779e83206da"
      },
      "source": [
        "\n",
        "results_uncertainty = pd.DataFrame({\n",
        "    'id': test_dataset.ids.tolist(),\n",
        "    'predicted_logS': y_pred.flatten(),\n",
        "    'predicted_std': y_std.flatten(),\n",
        "    'exp_logS': test_dataset.y.flatten(),\n",
        "    'abs_error': np.abs(y_pred.flatten()-test_dataset.y.flatten())\n",
        "})\n",
        "\n",
        "results_uncertainty.head()"
      ],
      "execution_count": 66,
      "outputs": [
        {
          "output_type": "execute_result",
          "data": {
            "text/html": [
              "<div>\n",
              "<style scoped>\n",
              "    .dataframe tbody tr th:only-of-type {\n",
              "        vertical-align: middle;\n",
              "    }\n",
              "\n",
              "    .dataframe tbody tr th {\n",
              "        vertical-align: top;\n",
              "    }\n",
              "\n",
              "    .dataframe thead th {\n",
              "        text-align: right;\n",
              "    }\n",
              "</style>\n",
              "<table border=\"1\" class=\"dataframe\">\n",
              "  <thead>\n",
              "    <tr style=\"text-align: right;\">\n",
              "      <th></th>\n",
              "      <th>id</th>\n",
              "      <th>predicted_logS</th>\n",
              "      <th>predicted_std</th>\n",
              "      <th>exp_logS</th>\n",
              "      <th>abs_error</th>\n",
              "    </tr>\n",
              "  </thead>\n",
              "  <tbody>\n",
              "    <tr>\n",
              "      <th>0</th>\n",
              "      <td>c1cc2ccc3cccc4ccc(c1)c2c34</td>\n",
              "      <td>-0.209119</td>\n",
              "      <td>0.820495</td>\n",
              "      <td>-1.601145</td>\n",
              "      <td>1.392026</td>\n",
              "    </tr>\n",
              "    <tr>\n",
              "      <th>1</th>\n",
              "      <td>Cc1cc(=O)[nH]c(=S)[nH]1</td>\n",
              "      <td>0.095314</td>\n",
              "      <td>0.690065</td>\n",
              "      <td>0.208483</td>\n",
              "      <td>0.113168</td>\n",
              "    </tr>\n",
              "    <tr>\n",
              "      <th>2</th>\n",
              "      <td>Oc1ccc(cc1)C2(OC(=O)c3ccccc23)c4ccc(O)cc4</td>\n",
              "      <td>-0.026607</td>\n",
              "      <td>0.654205</td>\n",
              "      <td>-0.016027</td>\n",
              "      <td>0.010579</td>\n",
              "    </tr>\n",
              "    <tr>\n",
              "      <th>3</th>\n",
              "      <td>c1ccc2c(c1)cc3ccc4cccc5ccc2c3c45</td>\n",
              "      <td>-1.473659</td>\n",
              "      <td>0.836357</td>\n",
              "      <td>-2.821917</td>\n",
              "      <td>1.348258</td>\n",
              "    </tr>\n",
              "    <tr>\n",
              "      <th>4</th>\n",
              "      <td>C1=Cc2cccc3cccc1c23</td>\n",
              "      <td>-0.318074</td>\n",
              "      <td>0.720315</td>\n",
              "      <td>-0.528916</td>\n",
              "      <td>0.210842</td>\n",
              "    </tr>\n",
              "  </tbody>\n",
              "</table>\n",
              "</div>"
            ],
            "text/plain": [
              "                                           id  ...  abs_error\n",
              "0                  c1cc2ccc3cccc4ccc(c1)c2c34  ...   1.392026\n",
              "1                     Cc1cc(=O)[nH]c(=S)[nH]1  ...   0.113168\n",
              "2  Oc1ccc(cc1)C2(OC(=O)c3ccccc23)c4ccc(O)cc4   ...   0.010579\n",
              "3            c1ccc2c(c1)cc3ccc4cccc5ccc2c3c45  ...   1.348258\n",
              "4                         C1=Cc2cccc3cccc1c23  ...   0.210842\n",
              "\n",
              "[5 rows x 5 columns]"
            ]
          },
          "metadata": {},
          "execution_count": 66
        }
      ]
    },
    {
      "cell_type": "code",
      "metadata": {
        "colab": {
          "base_uri": "https://localhost:8080/",
          "height": 280
        },
        "id": "50HLS2bHbiVg",
        "outputId": "59f581c2-5984-47e5-b8c5-b6f52d449df9"
      },
      "source": [
        "\n",
        "f, ax = plt.subplots()\n",
        "ax.scatter(results_uncertainty.abs_error,results_uncertainty.predicted_std, label='test set')\n",
        "plt.xlabel('abs_error logS', color='#1C2833')\n",
        "plt.ylabel('predicted_std logS', color='#1C2833')\n",
        "#plt.plot(x, x, '-g')\n",
        "plt.legend(loc='upper right');\n"
      ],
      "execution_count": 67,
      "outputs": [
        {
          "output_type": "display_data",
          "data": {
            "image/png": "[encoded data removed]",
            "text/plain": [
              "<Figure size 432x288 with 1 Axes>"
            ]
          },
          "metadata": {
            "needs_background": "light"
          }
        }
      ]
    },
    {
      "cell_type": "markdown",
      "metadata": {
        "id": "CGArY05UO85O"
      },
      "source": [
        "The overall size of the predicted error is slightly smaller than the observed one, but "
      ]
    },
    {
      "cell_type": "markdown",
      "metadata": {
        "id": "60QCqQ6VckR-"
      },
      "source": [
        "Now let's see how well the values satisfy the expected distribution. If the standard deviations are correct, and if the errors are normally distributed (which is certainly not guaranteed to be true!), we expect 95% of the values to be within two standard deviations, and 99% to be within three standard deviations. Here is a histogram of errors as measured in standard deviations.\n"
      ]
    },
    {
      "cell_type": "code",
      "metadata": {
        "colab": {
          "base_uri": "https://localhost:8080/",
          "height": 265
        },
        "id": "xBRcz51VcMHI",
        "outputId": "adb0e7dd-9e90-4dbb-80ac-84fee9f83b2c"
      },
      "source": [
        "plt.hist(results_uncertainty.abs_error/results_uncertainty.predicted_std, 30)\n",
        "plt.show()"
      ],
      "execution_count": 68,
      "outputs": [
        {
          "output_type": "display_data",
          "data": {
            "image/png": "[encoded data removed]",
            "text/plain": [
              "<Figure size 432x288 with 1 Axes>"
            ]
          },
          "metadata": {
            "needs_background": "light"
          }
        }
      ]
    },
    {
      "cell_type": "code",
      "metadata": {
        "colab": {
          "base_uri": "https://localhost:8080/"
        },
        "id": "AxwV8JKDcs_x",
        "outputId": "8caced0c-3e7d-4b07-b88e-d8c92497b613"
      },
      "source": [
        "total_points = len(results_uncertainty.predicted_std)\n",
        "sum(results_uncertainty.abs_error/results_uncertainty.predicted_std<2)/total_points"
      ],
      "execution_count": 69,
      "outputs": [
        {
          "output_type": "execute_result",
          "data": {
            "text/plain": [
              "0.8495575221238938"
            ]
          },
          "metadata": {},
          "execution_count": 69
        }
      ]
    },
    {
      "cell_type": "code",
      "metadata": {
        "colab": {
          "base_uri": "https://localhost:8080/"
        },
        "id": "QpDrS-EmbTmf",
        "outputId": "ca4099ed-1a68-4a57-fdd4-c17a80a84afe"
      },
      "source": [
        "sum(results_uncertainty.abs_error/results_uncertainty.predicted_std<3)/total_points"
      ],
      "execution_count": 70,
      "outputs": [
        {
          "output_type": "execute_result",
          "data": {
            "text/plain": [
              "0.9557522123893806"
            ]
          },
          "metadata": {},
          "execution_count": 70
        }
      ]
    },
    {
      "cell_type": "markdown",
      "metadata": {
        "id": "sjufUUP3S2Fz"
      },
      "source": [
        "## Classifier on Tox21 data using ECFP fingerprints"
      ]
    },
    {
      "cell_type": "markdown",
      "metadata": {
        "id": "yT0pGh4zQMHZ"
      },
      "source": [
        "Let us see how what we've seen so far can be appliet to classification tasks. We will use the `tox21` dataset. \n",
        "\n",
        "#### Training data\n",
        "The NIH “[Toxicology in the 21st Century](https://ncats.nih.gov/tox21)” (Tox21) initiative created a public database measuring toxicity of compounds, which has been used in the 2014 Tox21 Data Challenge. This dataset contains qualitative toxicity measurements for 8k compounds on 12 different targets. The raw data csv file contains columns below:\n",
        "\n",
        "* `smiles` - SMILES representation of the molecular structure\n",
        "* `NR-XXX` - Nuclear receptor signaling bioassays results\n",
        "* `SR-XXX` - Stress response bioassays results\n",
        "\n",
        "\n",
        "\n"
      ]
    },
    {
      "cell_type": "code",
      "metadata": {
        "id": "XdLcI81EPdG7"
      },
      "source": [
        "tasks, datasets, transformers = dc.molnet.load_tox21(featurizer='ECFP')\n",
        "train_dataset, valid_dataset, test_dataset = datasets"
      ],
      "execution_count": 80,
      "outputs": []
    },
    {
      "cell_type": "code",
      "metadata": {
        "colab": {
          "base_uri": "https://localhost:8080/"
        },
        "id": "Vn6erF8XU5UR",
        "outputId": "7f8ec929-11ea-48bb-a3f9-d16d7c871fae"
      },
      "source": [
        "print(f'training dataset contains {len(train_dataset)} molecules')\n",
        "print(f'validation dataset contains {len(valid_dataset)} molecules')\n",
        "print(f'test dataset contains {len(test_dataset)} molecules')"
      ],
      "execution_count": 81,
      "outputs": [
        {
          "output_type": "stream",
          "name": "stdout",
          "text": [
            "training dataset contains 6264 molecules\n",
            "validation dataset contains 783 molecules\n",
            "test dataset contains 784 molecules\n"
          ]
        }
      ]
    },
    {
      "cell_type": "code",
      "metadata": {
        "colab": {
          "base_uri": "https://localhost:8080/",
          "height": 424
        },
        "id": "IlvZcGwUQt4P",
        "outputId": "a9781e06-2a4e-4e49-9db4-c251707bd943"
      },
      "source": [
        "pd.DataFrame(train_dataset.y, columns=tasks)"
      ],
      "execution_count": 75,
      "outputs": [
        {
          "output_type": "execute_result",
          "data": {
            "text/html": [
              "<div>\n",
              "<style scoped>\n",
              "    .dataframe tbody tr th:only-of-type {\n",
              "        vertical-align: middle;\n",
              "    }\n",
              "\n",
              "    .dataframe tbody tr th {\n",
              "        vertical-align: top;\n",
              "    }\n",
              "\n",
              "    .dataframe thead th {\n",
              "        text-align: right;\n",
              "    }\n",
              "</style>\n",
              "<table border=\"1\" class=\"dataframe\">\n",
              "  <thead>\n",
              "    <tr style=\"text-align: right;\">\n",
              "      <th></th>\n",
              "      <th>NR-AR</th>\n",
              "      <th>NR-AR-LBD</th>\n",
              "      <th>NR-AhR</th>\n",
              "      <th>NR-Aromatase</th>\n",
              "      <th>NR-ER</th>\n",
              "      <th>NR-ER-LBD</th>\n",
              "      <th>NR-PPAR-gamma</th>\n",
              "      <th>SR-ARE</th>\n",
              "      <th>SR-ATAD5</th>\n",
              "      <th>SR-HSE</th>\n",
              "      <th>SR-MMP</th>\n",
              "      <th>SR-p53</th>\n",
              "    </tr>\n",
              "  </thead>\n",
              "  <tbody>\n",
              "    <tr>\n",
              "      <th>0</th>\n",
              "      <td>0.0</td>\n",
              "      <td>0.0</td>\n",
              "      <td>0.0</td>\n",
              "      <td>0.0</td>\n",
              "      <td>0.0</td>\n",
              "      <td>0.0</td>\n",
              "      <td>0.0</td>\n",
              "      <td>0.0</td>\n",
              "      <td>0.0</td>\n",
              "      <td>0.0</td>\n",
              "      <td>0.0</td>\n",
              "      <td>0.0</td>\n",
              "    </tr>\n",
              "    <tr>\n",
              "      <th>1</th>\n",
              "      <td>0.0</td>\n",
              "      <td>0.0</td>\n",
              "      <td>0.0</td>\n",
              "      <td>0.0</td>\n",
              "      <td>0.0</td>\n",
              "      <td>0.0</td>\n",
              "      <td>0.0</td>\n",
              "      <td>0.0</td>\n",
              "      <td>0.0</td>\n",
              "      <td>0.0</td>\n",
              "      <td>0.0</td>\n",
              "      <td>0.0</td>\n",
              "    </tr>\n",
              "    <tr>\n",
              "      <th>2</th>\n",
              "      <td>0.0</td>\n",
              "      <td>0.0</td>\n",
              "      <td>0.0</td>\n",
              "      <td>0.0</td>\n",
              "      <td>0.0</td>\n",
              "      <td>0.0</td>\n",
              "      <td>0.0</td>\n",
              "      <td>0.0</td>\n",
              "      <td>0.0</td>\n",
              "      <td>0.0</td>\n",
              "      <td>0.0</td>\n",
              "      <td>0.0</td>\n",
              "    </tr>\n",
              "    <tr>\n",
              "      <th>3</th>\n",
              "      <td>0.0</td>\n",
              "      <td>0.0</td>\n",
              "      <td>0.0</td>\n",
              "      <td>0.0</td>\n",
              "      <td>0.0</td>\n",
              "      <td>0.0</td>\n",
              "      <td>0.0</td>\n",
              "      <td>0.0</td>\n",
              "      <td>0.0</td>\n",
              "      <td>0.0</td>\n",
              "      <td>0.0</td>\n",
              "      <td>0.0</td>\n",
              "    </tr>\n",
              "    <tr>\n",
              "      <th>4</th>\n",
              "      <td>0.0</td>\n",
              "      <td>0.0</td>\n",
              "      <td>0.0</td>\n",
              "      <td>0.0</td>\n",
              "      <td>0.0</td>\n",
              "      <td>0.0</td>\n",
              "      <td>0.0</td>\n",
              "      <td>0.0</td>\n",
              "      <td>0.0</td>\n",
              "      <td>0.0</td>\n",
              "      <td>0.0</td>\n",
              "      <td>0.0</td>\n",
              "    </tr>\n",
              "    <tr>\n",
              "      <th>...</th>\n",
              "      <td>...</td>\n",
              "      <td>...</td>\n",
              "      <td>...</td>\n",
              "      <td>...</td>\n",
              "      <td>...</td>\n",
              "      <td>...</td>\n",
              "      <td>...</td>\n",
              "      <td>...</td>\n",
              "      <td>...</td>\n",
              "      <td>...</td>\n",
              "      <td>...</td>\n",
              "      <td>...</td>\n",
              "    </tr>\n",
              "    <tr>\n",
              "      <th>6259</th>\n",
              "      <td>0.0</td>\n",
              "      <td>0.0</td>\n",
              "      <td>0.0</td>\n",
              "      <td>0.0</td>\n",
              "      <td>0.0</td>\n",
              "      <td>0.0</td>\n",
              "      <td>0.0</td>\n",
              "      <td>0.0</td>\n",
              "      <td>0.0</td>\n",
              "      <td>0.0</td>\n",
              "      <td>0.0</td>\n",
              "      <td>0.0</td>\n",
              "    </tr>\n",
              "    <tr>\n",
              "      <th>6260</th>\n",
              "      <td>0.0</td>\n",
              "      <td>0.0</td>\n",
              "      <td>0.0</td>\n",
              "      <td>0.0</td>\n",
              "      <td>0.0</td>\n",
              "      <td>0.0</td>\n",
              "      <td>0.0</td>\n",
              "      <td>0.0</td>\n",
              "      <td>0.0</td>\n",
              "      <td>0.0</td>\n",
              "      <td>0.0</td>\n",
              "      <td>0.0</td>\n",
              "    </tr>\n",
              "    <tr>\n",
              "      <th>6261</th>\n",
              "      <td>0.0</td>\n",
              "      <td>0.0</td>\n",
              "      <td>0.0</td>\n",
              "      <td>0.0</td>\n",
              "      <td>0.0</td>\n",
              "      <td>0.0</td>\n",
              "      <td>0.0</td>\n",
              "      <td>0.0</td>\n",
              "      <td>0.0</td>\n",
              "      <td>0.0</td>\n",
              "      <td>1.0</td>\n",
              "      <td>0.0</td>\n",
              "    </tr>\n",
              "    <tr>\n",
              "      <th>6262</th>\n",
              "      <td>0.0</td>\n",
              "      <td>0.0</td>\n",
              "      <td>0.0</td>\n",
              "      <td>0.0</td>\n",
              "      <td>0.0</td>\n",
              "      <td>0.0</td>\n",
              "      <td>0.0</td>\n",
              "      <td>0.0</td>\n",
              "      <td>0.0</td>\n",
              "      <td>0.0</td>\n",
              "      <td>1.0</td>\n",
              "      <td>0.0</td>\n",
              "    </tr>\n",
              "    <tr>\n",
              "      <th>6263</th>\n",
              "      <td>0.0</td>\n",
              "      <td>0.0</td>\n",
              "      <td>0.0</td>\n",
              "      <td>0.0</td>\n",
              "      <td>0.0</td>\n",
              "      <td>0.0</td>\n",
              "      <td>0.0</td>\n",
              "      <td>0.0</td>\n",
              "      <td>0.0</td>\n",
              "      <td>0.0</td>\n",
              "      <td>0.0</td>\n",
              "      <td>0.0</td>\n",
              "    </tr>\n",
              "  </tbody>\n",
              "</table>\n",
              "<p>6264 rows × 12 columns</p>\n",
              "</div>"
            ],
            "text/plain": [
              "      NR-AR  NR-AR-LBD  NR-AhR  NR-Aromatase  ...  SR-ATAD5  SR-HSE  SR-MMP  SR-p53\n",
              "0       0.0        0.0     0.0           0.0  ...       0.0     0.0     0.0     0.0\n",
              "1       0.0        0.0     0.0           0.0  ...       0.0     0.0     0.0     0.0\n",
              "2       0.0        0.0     0.0           0.0  ...       0.0     0.0     0.0     0.0\n",
              "3       0.0        0.0     0.0           0.0  ...       0.0     0.0     0.0     0.0\n",
              "4       0.0        0.0     0.0           0.0  ...       0.0     0.0     0.0     0.0\n",
              "...     ...        ...     ...           ...  ...       ...     ...     ...     ...\n",
              "6259    0.0        0.0     0.0           0.0  ...       0.0     0.0     0.0     0.0\n",
              "6260    0.0        0.0     0.0           0.0  ...       0.0     0.0     0.0     0.0\n",
              "6261    0.0        0.0     0.0           0.0  ...       0.0     0.0     1.0     0.0\n",
              "6262    0.0        0.0     0.0           0.0  ...       0.0     0.0     1.0     0.0\n",
              "6263    0.0        0.0     0.0           0.0  ...       0.0     0.0     0.0     0.0\n",
              "\n",
              "[6264 rows x 12 columns]"
            ]
          },
          "metadata": {},
          "execution_count": 75
        }
      ]
    },
    {
      "cell_type": "markdown",
      "metadata": {
        "id": "2p_kc7XDQiu-"
      },
      "source": [
        "`MultitaskClassifier` is a simple stack of fully connected layers (similar to the `MultitaskRegressor` we used above). In this example we tell it to use a single hidden layer of width 1000. We also tell it that each input will have 1024 features, and that it should produce predictions for 12 different tasks."
      ]
    },
    {
      "cell_type": "code",
      "metadata": {
        "colab": {
          "base_uri": "https://localhost:8080/"
        },
        "id": "_qTNPqijQ9rY",
        "outputId": "7f9d1963-463f-4e91-b4de-703f5a85de79"
      },
      "source": [
        "model = dc.models.MultitaskClassifier(n_tasks=12, n_features=1024, layer_sizes=[1000])\n",
        "model.fit(train_dataset, nb_epoch=20)\n",
        "metric = dc.metrics.Metric(dc.metrics.roc_auc_score)\n",
        "print('training set score:', model.evaluate(train_dataset, [metric], transformers))\n",
        "print('test set score:', model.evaluate(test_dataset, [metric], transformers))"
      ],
      "execution_count": 84,
      "outputs": [
        {
          "output_type": "stream",
          "name": "stdout",
          "text": [
            "training set score: {'roc_auc_score': 0.9753624674979134}\n",
            "test set score: {'roc_auc_score': 0.6728614515289147}\n"
          ]
        }
      ]
    }
  ]
}