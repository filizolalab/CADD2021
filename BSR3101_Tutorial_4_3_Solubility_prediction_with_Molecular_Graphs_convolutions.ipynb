{
  "nbformat": 4,
  "nbformat_minor": 0,
  "metadata": {
    "colab": {
      "name": "BSR3101 Tutorial - Solubility prediction with Molecular Graphs convolutions",
      "provenance": [],
      "collapsed_sections": [
        "MhZxVoVs5zMa"
      ],
      "include_colab_link": true
    },
    "kernelspec": {
      "display_name": "Python 3 (ipykernel)",
      "language": "python",
      "name": "python3"
    },
    "language_info": {
      "codemirror_mode": {
        "name": "ipython",
        "version": 3
      },
      "file_extension": ".py",
      "mimetype": "text/x-python",
      "name": "python",
      "nbconvert_exporter": "python",
      "pygments_lexer": "ipython3",
      "version": "3.7.10"
    }
  },
  "cells": [
    {
      "cell_type": "markdown",
      "metadata": {
        "id": "view-in-github",
        "colab_type": "text"
      },
      "source": [
        "<a href=\"https://colab.research.google.com/github/filizolalab/CADD2021/blob/main/BSR3101_Tutorial%20-%20Solubility_prediction_with_Molecular_Graphs_convolutions.ipynb\" target=\"_parent\"><img src=\"https://colab.research.google.com/assets/colab-badge.svg\" alt=\"Open In Colab\"/></a>"
      ]
    },
    {
      "cell_type": "markdown",
      "metadata": {
        "id": "2hBvYtmBZfW1"
      },
      "source": [
        "\n",
        "# Solubility prediction with molecular Graph convolutions"
      ]
    },
    {
      "cell_type": "markdown",
      "metadata": {
        "id": "K4h2tr2gbP29"
      },
      "source": [
        "*This tutorial is part of the BSR3101 Computer Aided Drug Design, and is based on the [DeepChem tutorials](https://github.com/deepchem/deepchem/tree/master/examples/tutorials). Also check the [DeepChem website](https://deepchem.io/) for other tutorials and documentation.*"
      ]
    },
    {
      "cell_type": "markdown",
      "metadata": {
        "id": "socSJe925zFv"
      },
      "source": [
        "\n",
        "#### Background\n",
        "\n",
        "Poor drug solubility is one of the main obstacles in the drug discovery and development process and was recently identified to be strongly related to the choice of target explored. ([Bergstrom et al., 2016](https://pubmed.ncbi.nlm.nih.gov/26928657/)) Solubility is the driving force for absorption and acceptable solubility in the intestinal fluid is a prerequisite for achieving sufficiently high drug blood concentrations to obtain a therapeutic effect when systemic effects are warranted. The solubility of a compound affects its absorption, distribution, metabolism, excretion and toxicity (ADMET) profile ([Bergstrom et al., 2018](https://www.ncbi.nlm.nih.gov/pmc/articles/PMC5861307/)).\n",
        "\n",
        "We will see how to predict the solubility of small molecules given their 2D chemical structures. \n",
        "Classical approaches to this problem use semi-empirical calculations to estimate the solubility from physico-chemical principles, but here we want to use a fully knowledge-based approach, starting from a dataset of measured solubilities for real molecules.  \n",
        "\n",
        "#### Training data\n",
        "One of the components of DeepChem is [MoleculeNet](https://moleculenet.org/), a diverse collection of chemical and molecular data sets.  For this tutorial, we can use the [Delaney solubility data set](https://pubs.acs.org/doi/10.1021/ci034243x). The property of solubility in this data set is reported in log(solubility) where solubility is measured in moles/liter.\n"
      ]
    },
    {
      "cell_type": "markdown",
      "metadata": {
        "id": "wrEzltLsaC9-"
      },
      "source": [
        "\n",
        "\n",
        "\n",
        "### Workflow\n",
        "The basic workflow of model building (not just for deep-learning strategies) is:\n",
        "\n",
        "1. Prepare the training dataset \n",
        "2. Create the model (i.e. make choices about the modeling strategy, functional forms, architecture, etc.)\n",
        "3. Train the model on the training data: determine the parameters of the model such that it can reproduce the desired output\n",
        "4. Evaluate the model on an independent test and assess how well the model is able to generalize to new datapoints.\n",
        "5. Use the model to make predictions about new data.\n",
        "\n"
      ]
    },
    {
      "cell_type": "markdown",
      "metadata": {
        "id": "5yKQqyx5K3Ly"
      },
      "source": [
        "## Install and import `deepchem`"
      ]
    },
    {
      "cell_type": "markdown",
      "metadata": {
        "id": "Z7gSW1M2G6S2"
      },
      "source": [
        "To run this tutorial the machine where the calculations are executed must have a copy of the deepchem libarary installed. If you're running this on a machine where this is not the case, the library can be installed with the following `pip` command You can of course run this tutorial *locally* if you prefer. In \n",
        "this case, don't run the `pip install` cell since it will download and install Anaconda on your local machine. \n",
        "\n"
      ]
    },
    {
      "cell_type": "code",
      "metadata": {
        "id": "CMWAv-Z46nCc",
        "colab": {
          "base_uri": "https://localhost:8080/"
        },
        "outputId": "e4f85438-78ba-4a2a-eb9c-7e4e7b2785e3"
      },
      "source": [
        "!pip install --pre deepchem"
      ],
      "execution_count": 1,
      "outputs": [
        {
          "output_type": "stream",
          "name": "stdout",
          "text": [
            "Collecting deepchem\n",
            "  Downloading deepchem-2.6.0.dev20211117164926-py3-none-any.whl (609 kB)\n",
            "\u001b[?25l\r\u001b[K     |▌                               | 10 kB 4.7 MB/s eta 0:00:01\r\u001b[K     |█                               | 20 kB 5.2 MB/s eta 0:00:01\r\u001b[K     |█▋                              | 30 kB 5.0 MB/s eta 0:00:01\r\u001b[K     |██▏                             | 40 kB 3.6 MB/s eta 0:00:01\r\u001b[K     |██▊                             | 51 kB 3.6 MB/s eta 0:00:01\r\u001b[K     |███▎                            | 61 kB 3.9 MB/s eta 0:00:01\r\u001b[K     |███▊                            | 71 kB 4.0 MB/s eta 0:00:01\r\u001b[K     |████▎                           | 81 kB 4.5 MB/s eta 0:00:01\r\u001b[K     |████▉                           | 92 kB 4.6 MB/s eta 0:00:01\r\u001b[K     |█████▍                          | 102 kB 3.8 MB/s eta 0:00:01\r\u001b[K     |██████                          | 112 kB 3.8 MB/s eta 0:00:01\r\u001b[K     |██████▌                         | 122 kB 3.8 MB/s eta 0:00:01\r\u001b[K     |███████                         | 133 kB 3.8 MB/s eta 0:00:01\r\u001b[K     |███████▌                        | 143 kB 3.8 MB/s eta 0:00:01\r\u001b[K     |████████                        | 153 kB 3.8 MB/s eta 0:00:01\r\u001b[K     |████████▋                       | 163 kB 3.8 MB/s eta 0:00:01\r\u001b[K     |█████████▏                      | 174 kB 3.8 MB/s eta 0:00:01\r\u001b[K     |█████████▊                      | 184 kB 3.8 MB/s eta 0:00:01\r\u001b[K     |██████████▏                     | 194 kB 3.8 MB/s eta 0:00:01\r\u001b[K     |██████████▊                     | 204 kB 3.8 MB/s eta 0:00:01\r\u001b[K     |███████████▎                    | 215 kB 3.8 MB/s eta 0:00:01\r\u001b[K     |███████████▉                    | 225 kB 3.8 MB/s eta 0:00:01\r\u001b[K     |████████████▍                   | 235 kB 3.8 MB/s eta 0:00:01\r\u001b[K     |█████████████                   | 245 kB 3.8 MB/s eta 0:00:01\r\u001b[K     |█████████████▍                  | 256 kB 3.8 MB/s eta 0:00:01\r\u001b[K     |██████████████                  | 266 kB 3.8 MB/s eta 0:00:01\r\u001b[K     |██████████████▌                 | 276 kB 3.8 MB/s eta 0:00:01\r\u001b[K     |███████████████                 | 286 kB 3.8 MB/s eta 0:00:01\r\u001b[K     |███████████████▋                | 296 kB 3.8 MB/s eta 0:00:01\r\u001b[K     |████████████████▏               | 307 kB 3.8 MB/s eta 0:00:01\r\u001b[K     |████████████████▋               | 317 kB 3.8 MB/s eta 0:00:01\r\u001b[K     |█████████████████▏              | 327 kB 3.8 MB/s eta 0:00:01\r\u001b[K     |█████████████████▊              | 337 kB 3.8 MB/s eta 0:00:01\r\u001b[K     |██████████████████▎             | 348 kB 3.8 MB/s eta 0:00:01\r\u001b[K     |██████████████████▉             | 358 kB 3.8 MB/s eta 0:00:01\r\u001b[K     |███████████████████▍            | 368 kB 3.8 MB/s eta 0:00:01\r\u001b[K     |███████████████████▉            | 378 kB 3.8 MB/s eta 0:00:01\r\u001b[K     |████████████████████▍           | 389 kB 3.8 MB/s eta 0:00:01\r\u001b[K     |█████████████████████           | 399 kB 3.8 MB/s eta 0:00:01\r\u001b[K     |█████████████████████▌          | 409 kB 3.8 MB/s eta 0:00:01\r\u001b[K     |██████████████████████          | 419 kB 3.8 MB/s eta 0:00:01\r\u001b[K     |██████████████████████▋         | 430 kB 3.8 MB/s eta 0:00:01\r\u001b[K     |███████████████████████         | 440 kB 3.8 MB/s eta 0:00:01\r\u001b[K     |███████████████████████▋        | 450 kB 3.8 MB/s eta 0:00:01\r\u001b[K     |████████████████████████▏       | 460 kB 3.8 MB/s eta 0:00:01\r\u001b[K     |████████████████████████▊       | 471 kB 3.8 MB/s eta 0:00:01\r\u001b[K     |█████████████████████████▎      | 481 kB 3.8 MB/s eta 0:00:01\r\u001b[K     |█████████████████████████▉      | 491 kB 3.8 MB/s eta 0:00:01\r\u001b[K     |██████████████████████████▎     | 501 kB 3.8 MB/s eta 0:00:01\r\u001b[K     |██████████████████████████▉     | 512 kB 3.8 MB/s eta 0:00:01\r\u001b[K     |███████████████████████████▍    | 522 kB 3.8 MB/s eta 0:00:01\r\u001b[K     |████████████████████████████    | 532 kB 3.8 MB/s eta 0:00:01\r\u001b[K     |████████████████████████████▌   | 542 kB 3.8 MB/s eta 0:00:01\r\u001b[K     |█████████████████████████████   | 552 kB 3.8 MB/s eta 0:00:01\r\u001b[K     |█████████████████████████████▌  | 563 kB 3.8 MB/s eta 0:00:01\r\u001b[K     |██████████████████████████████  | 573 kB 3.8 MB/s eta 0:00:01\r\u001b[K     |██████████████████████████████▋ | 583 kB 3.8 MB/s eta 0:00:01\r\u001b[K     |███████████████████████████████▏| 593 kB 3.8 MB/s eta 0:00:01\r\u001b[K     |███████████████████████████████▊| 604 kB 3.8 MB/s eta 0:00:01\r\u001b[K     |████████████████████████████████| 609 kB 3.8 MB/s \n",
            "\u001b[?25hRequirement already satisfied: scikit-learn in /usr/local/lib/python3.7/dist-packages (from deepchem) (1.0.1)\n",
            "Requirement already satisfied: joblib in /usr/local/lib/python3.7/dist-packages (from deepchem) (1.1.0)\n",
            "Collecting rdkit-pypi\n",
            "  Downloading rdkit_pypi-2021.9.2.1-cp37-cp37m-manylinux_2_17_x86_64.manylinux2014_x86_64.whl (20.6 MB)\n",
            "\u001b[K     |████████████████████████████████| 20.6 MB 1.3 MB/s \n",
            "\u001b[?25hRequirement already satisfied: scipy in /usr/local/lib/python3.7/dist-packages (from deepchem) (1.4.1)\n",
            "Requirement already satisfied: numpy in /usr/local/lib/python3.7/dist-packages (from deepchem) (1.19.5)\n",
            "Requirement already satisfied: pandas in /usr/local/lib/python3.7/dist-packages (from deepchem) (1.1.5)\n",
            "Requirement already satisfied: pytz>=2017.2 in /usr/local/lib/python3.7/dist-packages (from pandas->deepchem) (2018.9)\n",
            "Requirement already satisfied: python-dateutil>=2.7.3 in /usr/local/lib/python3.7/dist-packages (from pandas->deepchem) (2.8.2)\n",
            "Requirement already satisfied: six>=1.5 in /usr/local/lib/python3.7/dist-packages (from python-dateutil>=2.7.3->pandas->deepchem) (1.15.0)\n",
            "Requirement already satisfied: threadpoolctl>=2.0.0 in /usr/local/lib/python3.7/dist-packages (from scikit-learn->deepchem) (3.0.0)\n",
            "Installing collected packages: rdkit-pypi, deepchem\n",
            "Successfully installed deepchem-2.6.0.dev20211117164926 rdkit-pypi-2021.9.2.1\n"
          ]
        }
      ]
    },
    {
      "cell_type": "markdown",
      "metadata": {
        "id": "Jk47QTZ95zF-"
      },
      "source": [
        "Now that the `deepchem` library is installed on the machine, we can \"import\" the `deepchem` package into this notebook, so that the objects and algorithms impelemented in that library can be used.\n",
        "We can also print the version of `deepchem` that we're using\n"
      ]
    },
    {
      "cell_type": "code",
      "metadata": {
        "colab": {
          "base_uri": "https://localhost:8080/"
        },
        "id": "PDiY03h35zF_",
        "outputId": "69ea99dd-b093-4647-8706-c7df41759705"
      },
      "source": [
        "#import deepchem and print version number\n",
        "import deepchem as dc\n",
        "print(dc.__version__)\n",
        "\n",
        "#import pandas and numpy as well for maths, table management and visualization\n",
        "import pandas as pd\n",
        "import numpy as np\n",
        "\n",
        "#we import the warnings module to fine tune (i.e. suppress) some warnings printed during the training of the neural network\n",
        "import warnings\n"
      ],
      "execution_count": 102,
      "outputs": [
        {
          "output_type": "stream",
          "name": "stdout",
          "text": [
            "2.6.0.dev\n"
          ]
        }
      ]
    },
    {
      "cell_type": "markdown",
      "metadata": {
        "id": "B0u7qIZd5zGG"
      },
      "source": [
        "## Loading the data\n",
        "\n",
        "\n",
        "\n"
      ]
    },
    {
      "cell_type": "markdown",
      "metadata": {
        "id": "SmqmgwodLTXc"
      },
      "source": [
        "The `deepchem` library makes it very easy to access the datasets in `molnet`. With a single line we can load the desired dataset, and automatically calculate the desired representation (*featurization*) of the molecules. Other available datasets are listed [here](https://deepchem.readthedocs.io/en/latest/api_reference/moleculenet.html).\n",
        "\n",
        "In this case we want to use a **Graph convolutional network** to model the solubility, and therefore decided to featurize the molecules using Molecular Graphs. Other featurizations (see list [here](https://deepchem.readthedocs.io/en/latest/api_reference/featurizers.html#molecule-featurizers)) include fingerprints, SMILES strings, etc.\n",
        "\n",
        "Note also that the dataset is already downloaded in three separate sets: a training set, a validation set, and a test set. Each of these serves a different function in the standard deep learning workflow."
      ]
    },
    {
      "cell_type": "code",
      "metadata": {
        "id": "saTaOpXY5zGI"
      },
      "source": [
        "# dowload the delaney solubility dataset, featurized with Molecular Graphs, \n",
        "# and define three separate objects containing the training, validation, and test datasets\n",
        "\n",
        "tasks, datasets, transformers = dc.molnet.load_delaney(featurizer='GraphConv')\n",
        "train_dataset, valid_dataset, test_dataset = datasets"
      ],
      "execution_count": 7,
      "outputs": []
    },
    {
      "cell_type": "code",
      "metadata": {
        "colab": {
          "base_uri": "https://localhost:8080/",
          "height": 424
        },
        "id": "dxee-Wi4OAYf",
        "outputId": "a5c04fa5-e65d-4094-f4b4-450d73714e0f"
      },
      "source": [
        "#show a table with the molecule's SMILES and experimental solubility\n",
        "pd.DataFrame({'id':train_dataset.ids, \n",
        "              'solubility':train_dataset.y.flatten()})"
      ],
      "execution_count": 97,
      "outputs": [
        {
          "output_type": "execute_result",
          "data": {
            "text/html": [
              "<div>\n",
              "<style scoped>\n",
              "    .dataframe tbody tr th:only-of-type {\n",
              "        vertical-align: middle;\n",
              "    }\n",
              "\n",
              "    .dataframe tbody tr th {\n",
              "        vertical-align: top;\n",
              "    }\n",
              "\n",
              "    .dataframe thead th {\n",
              "        text-align: right;\n",
              "    }\n",
              "</style>\n",
              "<table border=\"1\" class=\"dataframe\">\n",
              "  <thead>\n",
              "    <tr style=\"text-align: right;\">\n",
              "      <th></th>\n",
              "      <th>id</th>\n",
              "      <th>solubility</th>\n",
              "    </tr>\n",
              "  </thead>\n",
              "  <tbody>\n",
              "    <tr>\n",
              "      <th>0</th>\n",
              "      <td>CC(C)=CCCC(C)=CC(=O)</td>\n",
              "      <td>0.390413</td>\n",
              "    </tr>\n",
              "    <tr>\n",
              "      <th>1</th>\n",
              "      <td>CCCC=C</td>\n",
              "      <td>0.090421</td>\n",
              "    </tr>\n",
              "    <tr>\n",
              "      <th>2</th>\n",
              "      <td>CCCCCCCCCCCCCC</td>\n",
              "      <td>-2.464346</td>\n",
              "    </tr>\n",
              "    <tr>\n",
              "      <th>3</th>\n",
              "      <td>CC(C)Cl</td>\n",
              "      <td>0.704920</td>\n",
              "    </tr>\n",
              "    <tr>\n",
              "      <th>4</th>\n",
              "      <td>CCC(C)CO</td>\n",
              "      <td>1.159746</td>\n",
              "    </tr>\n",
              "    <tr>\n",
              "      <th>...</th>\n",
              "      <td>...</td>\n",
              "      <td>...</td>\n",
              "    </tr>\n",
              "    <tr>\n",
              "      <th>897</th>\n",
              "      <td>CC(=O)OCC(=O)C3(O)CCC4C2CCC1=CC(=O)CCC1(C)C2C(...</td>\n",
              "      <td>-0.649881</td>\n",
              "    </tr>\n",
              "    <tr>\n",
              "      <th>898</th>\n",
              "      <td>c3ccc2nc1ccccc1cc2c3</td>\n",
              "      <td>-0.388598</td>\n",
              "    </tr>\n",
              "    <tr>\n",
              "      <th>899</th>\n",
              "      <td>Nc2cccc3nc1ccccc1cc23</td>\n",
              "      <td>-0.654719</td>\n",
              "    </tr>\n",
              "    <tr>\n",
              "      <th>900</th>\n",
              "      <td>C1CCCCCC1</td>\n",
              "      <td>-0.311180</td>\n",
              "    </tr>\n",
              "    <tr>\n",
              "      <th>901</th>\n",
              "      <td>OC1CCCCCC1</td>\n",
              "      <td>0.961365</td>\n",
              "    </tr>\n",
              "  </tbody>\n",
              "</table>\n",
              "<p>902 rows × 2 columns</p>\n",
              "</div>"
            ],
            "text/plain": [
              "                                                    id  solubility\n",
              "0                                 CC(C)=CCCC(C)=CC(=O)    0.390413\n",
              "1                                               CCCC=C    0.090421\n",
              "2                                       CCCCCCCCCCCCCC   -2.464346\n",
              "3                                              CC(C)Cl    0.704920\n",
              "4                                             CCC(C)CO    1.159746\n",
              "..                                                 ...         ...\n",
              "897  CC(=O)OCC(=O)C3(O)CCC4C2CCC1=CC(=O)CCC1(C)C2C(...   -0.649881\n",
              "898                               c3ccc2nc1ccccc1cc2c3   -0.388598\n",
              "899                             Nc2cccc3nc1ccccc1cc23    -0.654719\n",
              "900                                          C1CCCCCC1   -0.311180\n",
              "901                                         OC1CCCCCC1    0.961365\n",
              "\n",
              "[902 rows x 2 columns]"
            ]
          },
          "metadata": {},
          "execution_count": 97
        }
      ]
    },
    {
      "cell_type": "code",
      "metadata": {
        "colab": {
          "base_uri": "https://localhost:8080/"
        },
        "id": "us9xcEeuNiVe",
        "outputId": "c260c7c5-c0a0-4e08-b13d-3de9b00be2d4"
      },
      "source": [
        "# how many molecules are there in the training set?\n",
        "train_dataset.X.shape"
      ],
      "execution_count": 98,
      "outputs": [
        {
          "output_type": "execute_result",
          "data": {
            "text/plain": [
              "(902,)"
            ]
          },
          "metadata": {},
          "execution_count": 98
        }
      ]
    },
    {
      "cell_type": "markdown",
      "metadata": {
        "id": "CgNW9EmONiBy"
      },
      "source": [
        "## Create the model architechture\n",
        "\n",
        "we create a simple Graph convolutional model. \n",
        "See [here](https://deepchem.readthedocs.io/en/latest/api_reference/models.html?highlight=model#model-cheatsheet) for a comprehensive list of other models available in DeepChem.\n",
        "The only things we have to specify are:\n",
        "*  the dimensionality of the output (`n_tasks=1`): in this case we only have *one* variable we want to predict, the solubility; \n",
        "* whether we want to predict numerical values or dichothomic classifications (`mode='regression'` vs `mode='classification'`).\n",
        "* the dropout probablity (`dropout=0.2`). [*Dropout*](https://en.wikipedia.org/wiki/Dilution_(neural_networks)) refers to a regularization startegy that helps regucing the risk of overfitting the model.  \n",
        "\n"
      ]
    },
    {
      "cell_type": "code",
      "metadata": {
        "id": "YEDcUsz35zGO"
      },
      "source": [
        "model = dc.models.GraphConvModel(n_tasks=1, mode='regression', dropout=0.2)"
      ],
      "execution_count": 35,
      "outputs": []
    },
    {
      "cell_type": "markdown",
      "metadata": {
        "id": "jLNDoP39Qo18"
      },
      "source": [
        "## Train the model on the training data"
      ]
    },
    {
      "cell_type": "markdown",
      "metadata": {
        "id": "E8UCFrrN5zGf"
      },
      "source": [
        "\n",
        "\n",
        "We now need to train the model on the data set.  We simply give it the data set and tell it how many epochs of training to perform (that is, how many complete passes through the data to make)."
      ]
    },
    {
      "cell_type": "code",
      "metadata": {
        "id": "e5K3rdGV5zGg",
        "colab": {
          "base_uri": "https://localhost:8080/"
        },
        "outputId": "954287a5-2182-4398-86b1-415cd1175d64"
      },
      "source": [
        "warnings.filterwarnings(\"ignore\", category=UserWarning)\n",
        "model.fit(train_dataset, nb_epoch=100, all_losses=losses)"
      ],
      "execution_count": 36,
      "outputs": [
        {
          "output_type": "execute_result",
          "data": {
            "text/plain": [
              "0.10820530891418458"
            ]
          },
          "metadata": {},
          "execution_count": 36
        }
      ]
    },
    {
      "cell_type": "markdown",
      "metadata": {
        "id": "jPtdGQfaTwaV"
      },
      "source": [
        "## Evaluate the model on an independent test\n"
      ]
    },
    {
      "cell_type": "markdown",
      "metadata": {
        "id": "_Zcd7jTd5zGr"
      },
      "source": [
        "If everything has gone well, we should now have a fully trained model!  But do we?  To find out, we must evaluate the model on the test set.  We do that by selecting an evaluation metric and calling `evaluate()` on the model.  For this example, let's use the Pearson correlation, also known as r<sup>2</sup>, as our metric.  We can evaluate it on both the training set and test set."
      ]
    },
    {
      "cell_type": "code",
      "metadata": {
        "colab": {
          "base_uri": "https://localhost:8080/"
        },
        "id": "LJc90fs_5zGs",
        "outputId": "8bd18072-aed7-4f1e-daa0-b65b7d0ccd56"
      },
      "source": [
        "metric = dc.metrics.Metric(dc.metrics.pearson_r2_score)\n",
        "print(\"Training set score:\", model.evaluate(train_dataset, [metric], transformers))\n",
        "print(\"Test set score:\", model.evaluate(test_dataset, [metric], transformers))"
      ],
      "execution_count": 38,
      "outputs": [
        {
          "output_type": "stream",
          "name": "stdout",
          "text": [
            "Training set score: {'pearson_r2_score': 0.920730486305573}\n",
            "Test set score: {'pearson_r2_score': 0.6366334912826443}\n"
          ]
        }
      ]
    },
    {
      "cell_type": "markdown",
      "metadata": {
        "id": "aQa88cbj5zGw"
      },
      "source": [
        "Notice that it has a higher score on the training set than the test set.  Models usually perform better on the particular data they were trained on than they do on similar but independent data.  This is called \"overfitting\", and it is the reason it is essential to evaluate your model on an independent test set.\n",
        "\n",
        "Our model still has quite respectable performance on the test set.  For comparison, a model that produced totally random outputs would have a correlation of 0, while one that made perfect predictions would have a correlation of 1.  Our model does quite well, so now we can use it to make predictions about other molecules we care about.\n",
        "\n"
      ]
    },
    {
      "cell_type": "markdown",
      "metadata": {
        "id": "OYksokvkUHk_"
      },
      "source": [
        "## Use the model to make predictions about new data."
      ]
    },
    {
      "cell_type": "markdown",
      "metadata": {
        "id": "bGhwt2SPUhji"
      },
      "source": [
        "Let's just use the first 20 molecules from the test set as examples for prediction. For each one we print out the chemical structure (represented as a SMILES string) and the predicted log(solubility). To put these predictions in \n",
        "context, we print out the log(solubility) values from the test set as well."
      ]
    },
    {
      "cell_type": "markdown",
      "metadata": {
        "id": "_DkOCUbXi-l3"
      },
      "source": [
        "## Predict on subset of test set"
      ]
    },
    {
      "cell_type": "code",
      "metadata": {
        "colab": {
          "base_uri": "https://localhost:8080/",
          "height": 677
        },
        "id": "GohdQP7Ii4Pn",
        "outputId": "7b768466-4186-4af4-b798-973f9c59ef62"
      },
      "source": [
        "test_features = test_dataset.X[:20]\n",
        "test_values = test_dataset.y[:20]\n",
        "test_smiles = test_dataset.ids[:20]\n",
        "test_solubilities = model.predict_on_batch(test_features)\n",
        "\n",
        "pd.DataFrame({\n",
        "    'id': test_smiles,\n",
        "    'predicted logS': test_solubilities.flatten(),\n",
        "    'exp logS': test_values.flatten()\n",
        "})"
      ],
      "execution_count": 99,
      "outputs": [
        {
          "output_type": "execute_result",
          "data": {
            "text/html": [
              "<div>\n",
              "<style scoped>\n",
              "    .dataframe tbody tr th:only-of-type {\n",
              "        vertical-align: middle;\n",
              "    }\n",
              "\n",
              "    .dataframe tbody tr th {\n",
              "        vertical-align: top;\n",
              "    }\n",
              "\n",
              "    .dataframe thead th {\n",
              "        text-align: right;\n",
              "    }\n",
              "</style>\n",
              "<table border=\"1\" class=\"dataframe\">\n",
              "  <thead>\n",
              "    <tr style=\"text-align: right;\">\n",
              "      <th></th>\n",
              "      <th>id</th>\n",
              "      <th>predicted logS</th>\n",
              "      <th>exp logS</th>\n",
              "    </tr>\n",
              "  </thead>\n",
              "  <tbody>\n",
              "    <tr>\n",
              "      <th>0</th>\n",
              "      <td>c1cc2ccc3cccc4ccc(c1)c2c34</td>\n",
              "      <td>-1.802047</td>\n",
              "      <td>-1.601145</td>\n",
              "    </tr>\n",
              "    <tr>\n",
              "      <th>1</th>\n",
              "      <td>Cc1cc(=O)[nH]c(=S)[nH]1</td>\n",
              "      <td>0.757377</td>\n",
              "      <td>0.208483</td>\n",
              "    </tr>\n",
              "    <tr>\n",
              "      <th>2</th>\n",
              "      <td>Oc1ccc(cc1)C2(OC(=O)c3ccccc23)c4ccc(O)cc4</td>\n",
              "      <td>-0.359628</td>\n",
              "      <td>-0.016027</td>\n",
              "    </tr>\n",
              "    <tr>\n",
              "      <th>3</th>\n",
              "      <td>c1ccc2c(c1)cc3ccc4cccc5ccc2c3c45</td>\n",
              "      <td>-1.841653</td>\n",
              "      <td>-2.821917</td>\n",
              "    </tr>\n",
              "    <tr>\n",
              "      <th>4</th>\n",
              "      <td>C1=Cc2cccc3cccc1c23</td>\n",
              "      <td>-1.708529</td>\n",
              "      <td>-0.528916</td>\n",
              "    </tr>\n",
              "    <tr>\n",
              "      <th>5</th>\n",
              "      <td>CC1CO1</td>\n",
              "      <td>1.834105</td>\n",
              "      <td>1.101683</td>\n",
              "    </tr>\n",
              "    <tr>\n",
              "      <th>6</th>\n",
              "      <td>CCN2c1ccccc1N(C)C(=S)c3cccnc23</td>\n",
              "      <td>-0.102714</td>\n",
              "      <td>-0.889874</td>\n",
              "    </tr>\n",
              "    <tr>\n",
              "      <th>7</th>\n",
              "      <td>CC12CCC3C(CCc4cc(O)ccc34)C2CCC1=O</td>\n",
              "      <td>-0.801845</td>\n",
              "      <td>-0.526497</td>\n",
              "    </tr>\n",
              "    <tr>\n",
              "      <th>8</th>\n",
              "      <td>Cn2cc(c1ccccc1)c(=O)c(c2)c3cccc(c3)C(F)(F)F</td>\n",
              "      <td>-1.042650</td>\n",
              "      <td>-0.763587</td>\n",
              "    </tr>\n",
              "    <tr>\n",
              "      <th>9</th>\n",
              "      <td>ClC(Cl)(Cl)C(NC=O)N1C=CN(C=C1)C(NC=O)C(Cl)(Cl)Cl</td>\n",
              "      <td>-0.051225</td>\n",
              "      <td>-0.640204</td>\n",
              "    </tr>\n",
              "    <tr>\n",
              "      <th>10</th>\n",
              "      <td>COc2c1occc1cc3ccc(=O)oc23</td>\n",
              "      <td>-0.272211</td>\n",
              "      <td>-0.385695</td>\n",
              "    </tr>\n",
              "    <tr>\n",
              "      <th>11</th>\n",
              "      <td>CN2C(=C(O)c1ccccc1S2(=O)=O)C(=O)Nc3ccccn3</td>\n",
              "      <td>-0.188245</td>\n",
              "      <td>-0.625688</td>\n",
              "    </tr>\n",
              "    <tr>\n",
              "      <th>12</th>\n",
              "      <td>Cc3cc2nc1c(=O)[nH]c(=O)nc1n(CC(O)C(O)C(O)CO)c2...</td>\n",
              "      <td>0.701426</td>\n",
              "      <td>-0.395856</td>\n",
              "    </tr>\n",
              "    <tr>\n",
              "      <th>13</th>\n",
              "      <td>c1ccc(cc1)c2ccc(cc2)c3ccccc3</td>\n",
              "      <td>-0.706080</td>\n",
              "      <td>-2.053068</td>\n",
              "    </tr>\n",
              "    <tr>\n",
              "      <th>14</th>\n",
              "      <td>CC34CC(=O)C1C(CCC2=CC(=O)CCC12C)C3CCC4(=O)</td>\n",
              "      <td>-0.561754</td>\n",
              "      <td>-0.296665</td>\n",
              "    </tr>\n",
              "    <tr>\n",
              "      <th>15</th>\n",
              "      <td>c1ccc2c(c1)sc3ccccc23</td>\n",
              "      <td>-0.491525</td>\n",
              "      <td>-0.732137</td>\n",
              "    </tr>\n",
              "    <tr>\n",
              "      <th>16</th>\n",
              "      <td>CC23Cc1cnoc1C=C2CCC4C3CCC5(C)C4CCC5(O)C#C</td>\n",
              "      <td>-1.051936</td>\n",
              "      <td>-1.277444</td>\n",
              "    </tr>\n",
              "    <tr>\n",
              "      <th>17</th>\n",
              "      <td>OC(C(=O)c1ccccc1)c2ccccc2</td>\n",
              "      <td>1.031954</td>\n",
              "      <td>0.008165</td>\n",
              "    </tr>\n",
              "    <tr>\n",
              "      <th>18</th>\n",
              "      <td>OCC2OC(Oc1ccccc1CO)C(O)C(O)C2O</td>\n",
              "      <td>1.496734</td>\n",
              "      <td>0.975881</td>\n",
              "    </tr>\n",
              "    <tr>\n",
              "      <th>19</th>\n",
              "      <td>CC3C2CCC1(C)C=CC(=O)C(=C1C2OC3=O)C</td>\n",
              "      <td>-1.127952</td>\n",
              "      <td>-0.107960</td>\n",
              "    </tr>\n",
              "  </tbody>\n",
              "</table>\n",
              "</div>"
            ],
            "text/plain": [
              "                                                   id  predicted logS  exp logS\n",
              "0                          c1cc2ccc3cccc4ccc(c1)c2c34       -1.802047 -1.601145\n",
              "1                             Cc1cc(=O)[nH]c(=S)[nH]1        0.757377  0.208483\n",
              "2          Oc1ccc(cc1)C2(OC(=O)c3ccccc23)c4ccc(O)cc4        -0.359628 -0.016027\n",
              "3                    c1ccc2c(c1)cc3ccc4cccc5ccc2c3c45       -1.841653 -2.821917\n",
              "4                                 C1=Cc2cccc3cccc1c23       -1.708529 -0.528916\n",
              "5                                              CC1CO1        1.834105  1.101683\n",
              "6                     CCN2c1ccccc1N(C)C(=S)c3cccnc23        -0.102714 -0.889874\n",
              "7                   CC12CCC3C(CCc4cc(O)ccc34)C2CCC1=O       -0.801845 -0.526497\n",
              "8         Cn2cc(c1ccccc1)c(=O)c(c2)c3cccc(c3)C(F)(F)F       -1.042650 -0.763587\n",
              "9   ClC(Cl)(Cl)C(NC=O)N1C=CN(C=C1)C(NC=O)C(Cl)(Cl)Cl        -0.051225 -0.640204\n",
              "10                         COc2c1occc1cc3ccc(=O)oc23        -0.272211 -0.385695\n",
              "11         CN2C(=C(O)c1ccccc1S2(=O)=O)C(=O)Nc3ccccn3        -0.188245 -0.625688\n",
              "12  Cc3cc2nc1c(=O)[nH]c(=O)nc1n(CC(O)C(O)C(O)CO)c2...        0.701426 -0.395856\n",
              "13                       c1ccc(cc1)c2ccc(cc2)c3ccccc3       -0.706080 -2.053068\n",
              "14        CC34CC(=O)C1C(CCC2=CC(=O)CCC12C)C3CCC4(=O)        -0.561754 -0.296665\n",
              "15                              c1ccc2c(c1)sc3ccccc23       -0.491525 -0.732137\n",
              "16          CC23Cc1cnoc1C=C2CCC4C3CCC5(C)C4CCC5(O)C#C       -1.051936 -1.277444\n",
              "17                          OC(C(=O)c1ccccc1)c2ccccc2        1.031954  0.008165\n",
              "18                     OCC2OC(Oc1ccccc1CO)C(O)C(O)C2O        1.496734  0.975881\n",
              "19                 CC3C2CCC1(C)C=CC(=O)C(=C1C2OC3=O)C       -1.127952 -0.107960"
            ]
          },
          "metadata": {},
          "execution_count": 99
        }
      ]
    },
    {
      "cell_type": "code",
      "metadata": {
        "colab": {
          "base_uri": "https://localhost:8080/",
          "height": 280
        },
        "id": "TxThIMLzjCZL",
        "outputId": "3d279f98-6b67-4cd0-c03b-5d6c00b0f7b0"
      },
      "source": [
        "## plot the \n",
        "f, ax = plt.subplots()\n",
        "ax.scatter(test_solubilities, test_values, label='test set')\n",
        "x = np.array([test_solubilities.min(), test_solubilities.max()])\n",
        "plt.xlabel('predicted logS', color='#1C2833')\n",
        "plt.ylabel('experimental logS', color='#1C2833')\n",
        "plt.plot(x, x, '-g')\n",
        "plt.legend(loc='upper right');"
      ],
      "execution_count": 106,
      "outputs": [
        {
          "output_type": "display_data",
          "data": {
            "image/png": "[encoded data removed]",
            "text/plain": [
              "<Figure size 432x288 with 1 Axes>"
            ]
          },
          "metadata": {
            "needs_background": "light"
          }
        }
      ]
    },
    {
      "cell_type": "code",
      "metadata": {
        "id": "eigQKKU-jCbx"
      },
      "source": [
        ""
      ],
      "execution_count": null,
      "outputs": []
    },
    {
      "cell_type": "markdown",
      "metadata": {
        "id": "R4sTm5wHgzlY"
      },
      "source": [
        "#### Apply the model to new dataset"
      ]
    },
    {
      "cell_type": "code",
      "metadata": {
        "colab": {
          "base_uri": "https://localhost:8080/"
        },
        "id": "nB392EK4U7Nd",
        "outputId": "014cc3ce-eced-4361-c333-1ec478b5bff5"
      },
      "source": [
        "!pip install --pre PubChemPy"
      ],
      "execution_count": 39,
      "outputs": [
        {
          "output_type": "stream",
          "name": "stdout",
          "text": [
            "Collecting PubChemPy\n",
            "  Downloading PubChemPy-1.0.4.tar.gz (29 kB)\n",
            "Building wheels for collected packages: PubChemPy\n",
            "  Building wheel for PubChemPy (setup.py) ... \u001b[?25l\u001b[?25hdone\n",
            "  Created wheel for PubChemPy: filename=PubChemPy-1.0.4-py3-none-any.whl size=13835 sha256=dc0fdfa248a287b0c1f57be9afe9a25d7a3aa4f2ab6b12580a65e612e6962442\n",
            "  Stored in directory: /root/.cache/pip/wheels/7c/3d/8c/8192697412e9899dc55bbbb08bbc1197bef333caaa2a71c448\n",
            "Successfully built PubChemPy\n",
            "Installing collected packages: PubChemPy\n",
            "Successfully installed PubChemPy-1.0.4\n"
          ]
        }
      ]
    },
    {
      "cell_type": "code",
      "metadata": {
        "id": "GmlJvEtThDl4"
      },
      "source": [
        "from pubchempy import get_compounds"
      ],
      "execution_count": null,
      "outputs": []
    },
    {
      "cell_type": "code",
      "metadata": {
        "colab": {
          "base_uri": "https://localhost:8080/"
        },
        "id": "lhwANw76VNwJ",
        "outputId": "4dfc22e4-4a8f-4dae-c537-90296cd39032"
      },
      "source": [
        "results = get_compounds('warfarin', 'name')\n",
        "for mol in results:\n",
        "  print((mol.xlogp, mol.isomeric_smiles))"
      ],
      "execution_count": 79,
      "outputs": [
        {
          "output_type": "stream",
          "name": "stdout",
          "text": [
            "(2.7, 'CC(=O)CC(C1=CC=CC=C1)C2=C(C3=CC=CC=C3OC2=O)O')\n"
          ]
        }
      ]
    },
    {
      "cell_type": "code",
      "metadata": {
        "id": "Fc_WdA7DfkBS"
      },
      "source": [
        "data1=[\n",
        "['acebutolol',-2.20,-2.24,-2.56,-2.11],\n",
        "['almokalant',-1.17,-2.76,-2.75,-1.70],\n",
        "['alprenolol',-2.83,-2.42,-2.65,-2.47],\n",
        "['amiloride',-3.18,-2.29,-3.55,-3.62],\n",
        "['amitriptyline',-5.14,-4.87,-4.35,-4.51],\n",
        "['atenolol',-1.30,-1.39,-1.49,-1.59],\n",
        "['atropine',-1.80,-2.23,-1.50,-1.47],\n",
        "['benzydamine',-3.78,-4.39,-4.63,-4.27],\n",
        "['chlorpheniramine',-2.65,-3.60,-3.11,-2.83],\n",
        "['chlorpromazine',-5.22,-5.11,-4.64,-5.51],\n",
        "['cimetidine',-1.62,-2.35,-1.25,-2.15],\n",
        "['clonidine',-0.10,-1.56,-1.44,-1.97],\n",
        "['desipramine',-3.76,-3.99,-4.05,-3.91],\n",
        "['erythromycin',-3.14,-3.72,-3.27,-3.10],\n",
        "['halcion',-4.10,-4.09,-3.71,-4.10],\n",
        "['imipramine',-4.52,-5.02,-4.20,-5.18],\n",
        "['ketoconazol',-3.80,-4.92,-5.07,-5.28],\n",
        "['labetalol',-3.41,-3.75,-4.65,-3.98],\n",
        "['metoprolol',-1.43,-1.56,-1.31,-1.54],\n",
        "['miconazol',-5.79,-5.80,-5.80,-6.08],\n",
        "['minoxidil',-2.04,-1.18,-1.57,-1.69],\n",
        "['nadolol',-1.57,-1.70,-1.28,-1.56],\n",
        "['phenazopyridine',-4.53,-3.26,-4.92,-3.67],\n",
        "['pindolol',-3.88,-2.36,-2.39,-2.42],\n",
        "['prazosin',-5.08,-3.33,-4.13,-3.72],\n",
        "['primaquine',-2.52,-2.84,-3.05,-3.09],\n",
        "['promethazine',-4.34,-4.05,-4.18,-3.85],\n",
        "['propoxyphene',-4.96,-5.44,-4.76,-5.13],\n",
        "['propranolol',-3.92,-2.91,-3.21,-3.02],\n",
        "['quinine',-2.77,-3.64,-3.52,-3.14],\n",
        "['tamoxifen',-7.55,-7.03,-7.04,-7.27],\n",
        "['terfenadine',-6.17,-6.92,-6.96,-6.82],\n",
        "['tirilazad',-7.59,-6.87,-7.57,-7.13],\n",
        "['trimipramine',-6.29,-5.25,-4.41,-5.40],\n",
        "['verapamil',-4.69,-5.34,-4.99,-4.43],\n",
        "['xanax',-3.60,-4.07,-3.95,-4.03],\n",
        "['alprostadil',-3.67,-4.54,-4.16,-4.15],\n",
        "['aspirin',-1.75,-2.64,-2.35,-2.51],\n",
        "['benzoic acid',-1.58,-1.93,-2.44,-1.62],\n",
        "['diclofenac',-5.56,-4.74,-5.65,-5.08],\n",
        "['ethinylestradiol',-3.95,-5.49,-4.76,-5.18],\n",
        "['FA31A',-8.06,-4.98,-5.14,-4.98],\n",
        "['flurbiprofen',-4.36,-4.15,-4.47,-4.12],\n",
        "['fluvastatin',-3.83,-5.40,-5.35,-5.07],\n",
        "['furosemide',-4.75,-4.23,-3.69,-4.23],\n",
        "['glyburide',-4.82,-6.03,-6.33,-6.33],\n",
        "['hydrochlorothiazide',-2.70,-3.27,-2.48,-3.66],\n",
        "['ibuprofen',-3.62,-3.48,-4.44,-3.47],\n",
        "['indomethacin',-5.20,-5.29,-5.22,-5.32],\n",
        "['ketoprofen',-3.43,-3.69,-3.95,-3.69],\n",
        "['naproxen',-4.22,-3.82,-4.02,-3.79],\n",
        "['phenytoin',-4.12,-4.02,-4.51,-4.39],\n",
        "['probenecid',-4.90,-4.13,-4.31,-4.15],\n",
        "['sb209670',-6.77,-6.99,-5.38,-6.86],\n",
        "['skf105657',-8.76,-6.46,-6.19,-6.50],\n",
        "['tipranavir',-6.30,-7.40,-7.82,-7.49],\n",
        "['warfarin',-4.74,-4.40,-4.42,-4.51]]"
      ],
      "execution_count": 74,
      "outputs": []
    },
    {
      "cell_type": "code",
      "metadata": {
        "id": "Y1tvLNJ6f4mr"
      },
      "source": [
        "Bergstroem_smiles = []\n",
        "Bergstroem_logSexp = []\n",
        "for mol, logSexp, logS2D, logS3d, logScomb in data1:\n",
        "   results = get_compounds(mol, 'name')\n",
        "   for mol in results:\n",
        "      Bergstroem_smiles.append(mol.isomeric_smiles)\n",
        "      Bergstroem_logSexp.append(logSexp)\n"
      ],
      "execution_count": 107,
      "outputs": []
    },
    {
      "cell_type": "code",
      "metadata": {
        "id": "-JntVV9Ygx6u"
      },
      "source": [
        "featurizer=dc.feat.ConvMolFeaturizer(per_atom_fragmentation=False)\n",
        "features = featurizer.featurize(Bergstroem_smiles)"
      ],
      "execution_count": 84,
      "outputs": []
    },
    {
      "cell_type": "code",
      "metadata": {
        "id": "0Azt3rg5haUK"
      },
      "source": [
        "perdicted_solubilities = model.predict_on_batch(features)\n"
      ],
      "execution_count": 85,
      "outputs": []
    },
    {
      "cell_type": "code",
      "metadata": {
        "colab": {
          "base_uri": "https://localhost:8080/"
        },
        "id": "5Zi6JeqG_xHe",
        "outputId": "3fd534de-79a4-410d-a0b2-9f6e74d65c00"
      },
      "source": [
        ""
      ],
      "execution_count": 112,
      "outputs": [
        {
          "output_type": "execute_result",
          "data": {
            "text/plain": [
              "array([ 1.8 ,  2.83,  1.17,  0.82, -1.14,  2.7 ,  2.2 ,  0.22,  1.35,\n",
              "       -1.22,  2.38,  3.9 ,  0.24,  0.86, -0.1 , -0.52,  0.2 ,  0.59,\n",
              "        2.57, -1.79,  1.96,  2.43, -0.53,  0.12, -1.08,  1.48, -0.34,\n",
              "       -0.96,  0.08,  1.23, -3.55, -2.17, -3.59, -2.29, -0.69,  0.4 ,\n",
              "        0.33,  2.25,  2.42, -1.56,  0.05, -0.36,  0.17,  0.17,  0.17,\n",
              "       -0.75, -0.82,  1.3 ,  0.38, -1.2 ,  0.57, -0.22, -0.12, -0.9 ,\n",
              "       -2.77, -4.76, -2.3 , -0.74])"
            ]
          },
          "metadata": {},
          "execution_count": 112
        }
      ]
    },
    {
      "cell_type": "code",
      "metadata": {
        "colab": {
          "base_uri": "https://localhost:8080/",
          "height": 279
        },
        "id": "7roD7YUdhhFN",
        "outputId": "cc5a4a68-a59a-4f2a-9651-08f820a00c34"
      },
      "source": [
        "f, ax = plt.subplots()\n",
        "ax.scatter(perdicted_solubilities, np.array(Bergstroem_logSexp)+4, label='Bergstroem set')\n",
        "ax.scatter(test_solubilities, test_values, label='test set')\n",
        "x = np.array([test_solubilities.min(), test_solubilities.max()])\n",
        "plt.xlabel('predicted logS', color='#1C2833')\n",
        "plt.ylabel('experimental logS', color='#1C2833')\n",
        "plt.plot(x, x, '-g')\n",
        "plt.legend(loc='upper right');"
      ],
      "execution_count": 114,
      "outputs": [
        {
          "output_type": "display_data",
          "data": {
            "image/png": "[encoded data removed]",
            "text/plain": [
              "<Figure size 432x288 with 1 Axes>"
            ]
          },
          "metadata": {
            "needs_background": "light"
          }
        }
      ]
    },
    {
      "cell_type": "markdown",
      "metadata": {
        "id": "MhZxVoVs5zMa"
      },
      "source": [
        "## Done!\n",
        "\n",
        "You can learn more about DeepChem by checking and following DeepChem on [GitHub](https://github.com/deepchem/deepchem). \n",
        "This helps build awareness of the DeepChem project and the tools for open source drug discovery that we're trying to build.\n"
      ]
    }
  ]
}
