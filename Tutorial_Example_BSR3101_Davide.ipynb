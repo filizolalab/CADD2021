{
  "nbformat": 4,
  "nbformat_minor": 0,
  "metadata": {
    "colab": {
      "name": "Tutorial Example BSR3101 Davide",
      "provenance": [],
      "authorship_tag": "ABX9TyPOIT4vRIpiVmEEgPr00eA8",
      "include_colab_link": true
    },
    "kernelspec": {
      "display_name": "Python 3",
      "name": "python3"
    },
    "language_info": {
      "name": "python"
    }
  },
  "cells": [
    {
      "cell_type": "markdown",
      "metadata": {
        "id": "view-in-github",
        "colab_type": "text"
      },
      "source": [
        "<a href=\"https://colab.research.google.com/github/filizolalab/CADD2021/blob/main/Tutorial_Example_BSR3101_Davide.ipynb\" target=\"_parent\"><img src=\"https://colab.research.google.com/assets/colab-badge.svg\" alt=\"Open In Colab\"/></a>"
      ]
    },
    {
      "cell_type": "markdown",
      "metadata": {
        "id": "pVJlMNH_X67c"
      },
      "source": [
        "# (Example Tutorial for BRS3101) Molecule Featurization and Datasets\n",
        "\n",
        "**What will we learn**\n",
        "\n",
        "In this tutorial we introduce some key concepts regarding molecular datasets for applicaiton of machine learning to drug design and molecular modeling.\n",
        "1. Different featurization techniques (description of molecular structures for ML)\n",
        "2. Datasets, iterators, train/validation/test splitting\n",
        "\n",
        "**What will we use**\n",
        "\n",
        "We will use `deepchem` and `rdKit` within the [Google Colaboratory](https://colab.research.google.com/) framework. \n",
        "* Google Colaboratory is a cloud-based platform to run python code without the need to setup your local machine with a python environment. It allows you to write and execute Python in your browser, with zero configuration required, Free access to GPUs, Easy sharing. The code you develop and run in colab will run in any python environment.\n",
        "\n",
        "* [`deepchem`](https://deepchem.io/) is a pyhton library that implements tools to create high quality, open source tools for drug discovery, materials science, quantum chemistry, and biology. \n",
        "\n",
        "* [`rdKit`](https://www.rdkit.org/) is a library of chemoinformatics "
      ]
    },
    {
      "cell_type": "markdown",
      "metadata": {
        "id": "A8dJDVuLblLN"
      },
      "source": [
        "## Install `deepchem` and `rdkit`"
      ]
    },
    {
      "cell_type": "code",
      "metadata": {
        "colab": {
          "base_uri": "https://localhost:8080/"
        },
        "id": "BV21K0DGYGF3",
        "outputId": "02de5e5a-d649-4e6d-def7-9c31a73e1ad4"
      },
      "source": [
        "!pip install --pre deepchem\n",
        "!pip install --pre rdkit-pypi \n",
        "!pip install --pre PubChemPy"
      ],
      "execution_count": 2,
      "outputs": [
        {
          "output_type": "stream",
          "name": "stdout",
          "text": [
            "Collecting deepchem\n",
            "  Downloading deepchem-2.6.0.dev20211018190358-py3-none-any.whl (609 kB)\n",
            "\u001b[?25l\r\u001b[K     |▌                               | 10 kB 22.2 MB/s eta 0:00:01\r\u001b[K     |█                               | 20 kB 24.9 MB/s eta 0:00:01\r\u001b[K     |█▋                              | 30 kB 28.3 MB/s eta 0:00:01\r\u001b[K     |██▏                             | 40 kB 31.8 MB/s eta 0:00:01\r\u001b[K     |██▊                             | 51 kB 32.9 MB/s eta 0:00:01\r\u001b[K     |███▎                            | 61 kB 34.5 MB/s eta 0:00:01\r\u001b[K     |███▊                            | 71 kB 35.1 MB/s eta 0:00:01\r\u001b[K     |████▎                           | 81 kB 36.8 MB/s eta 0:00:01\r\u001b[K     |████▉                           | 92 kB 33.1 MB/s eta 0:00:01\r\u001b[K     |█████▍                          | 102 kB 32.0 MB/s eta 0:00:01\r\u001b[K     |██████                          | 112 kB 32.0 MB/s eta 0:00:01\r\u001b[K     |██████▌                         | 122 kB 32.0 MB/s eta 0:00:01\r\u001b[K     |███████                         | 133 kB 32.0 MB/s eta 0:00:01\r\u001b[K     |███████▌                        | 143 kB 32.0 MB/s eta 0:00:01\r\u001b[K     |████████                        | 153 kB 32.0 MB/s eta 0:00:01\r\u001b[K     |████████▋                       | 163 kB 32.0 MB/s eta 0:00:01\r\u001b[K     |█████████▏                      | 174 kB 32.0 MB/s eta 0:00:01\r\u001b[K     |█████████▊                      | 184 kB 32.0 MB/s eta 0:00:01\r\u001b[K     |██████████▏                     | 194 kB 32.0 MB/s eta 0:00:01\r\u001b[K     |██████████▊                     | 204 kB 32.0 MB/s eta 0:00:01\r\u001b[K     |███████████▎                    | 215 kB 32.0 MB/s eta 0:00:01\r\u001b[K     |███████████▉                    | 225 kB 32.0 MB/s eta 0:00:01\r\u001b[K     |████████████▍                   | 235 kB 32.0 MB/s eta 0:00:01\r\u001b[K     |█████████████                   | 245 kB 32.0 MB/s eta 0:00:01\r\u001b[K     |█████████████▍                  | 256 kB 32.0 MB/s eta 0:00:01\r\u001b[K     |██████████████                  | 266 kB 32.0 MB/s eta 0:00:01\r\u001b[K     |██████████████▌                 | 276 kB 32.0 MB/s eta 0:00:01\r\u001b[K     |███████████████                 | 286 kB 32.0 MB/s eta 0:00:01\r\u001b[K     |███████████████▋                | 296 kB 32.0 MB/s eta 0:00:01\r\u001b[K     |████████████████▏               | 307 kB 32.0 MB/s eta 0:00:01\r\u001b[K     |████████████████▋               | 317 kB 32.0 MB/s eta 0:00:01\r\u001b[K     |█████████████████▏              | 327 kB 32.0 MB/s eta 0:00:01\r\u001b[K     |█████████████████▊              | 337 kB 32.0 MB/s eta 0:00:01\r\u001b[K     |██████████████████▎             | 348 kB 32.0 MB/s eta 0:00:01\r\u001b[K     |██████████████████▉             | 358 kB 32.0 MB/s eta 0:00:01\r\u001b[K     |███████████████████▍            | 368 kB 32.0 MB/s eta 0:00:01\r\u001b[K     |███████████████████▉            | 378 kB 32.0 MB/s eta 0:00:01\r\u001b[K     |████████████████████▍           | 389 kB 32.0 MB/s eta 0:00:01\r\u001b[K     |█████████████████████           | 399 kB 32.0 MB/s eta 0:00:01\r\u001b[K     |█████████████████████▌          | 409 kB 32.0 MB/s eta 0:00:01\r\u001b[K     |██████████████████████          | 419 kB 32.0 MB/s eta 0:00:01\r\u001b[K     |██████████████████████▋         | 430 kB 32.0 MB/s eta 0:00:01\r\u001b[K     |███████████████████████         | 440 kB 32.0 MB/s eta 0:00:01\r\u001b[K     |███████████████████████▋        | 450 kB 32.0 MB/s eta 0:00:01\r\u001b[K     |████████████████████████▏       | 460 kB 32.0 MB/s eta 0:00:01\r\u001b[K     |████████████████████████▊       | 471 kB 32.0 MB/s eta 0:00:01\r\u001b[K     |█████████████████████████▎      | 481 kB 32.0 MB/s eta 0:00:01\r\u001b[K     |█████████████████████████▉      | 491 kB 32.0 MB/s eta 0:00:01\r\u001b[K     |██████████████████████████▍     | 501 kB 32.0 MB/s eta 0:00:01\r\u001b[K     |██████████████████████████▉     | 512 kB 32.0 MB/s eta 0:00:01\r\u001b[K     |███████████████████████████▍    | 522 kB 32.0 MB/s eta 0:00:01\r\u001b[K     |████████████████████████████    | 532 kB 32.0 MB/s eta 0:00:01\r\u001b[K     |████████████████████████████▌   | 542 kB 32.0 MB/s eta 0:00:01\r\u001b[K     |█████████████████████████████   | 552 kB 32.0 MB/s eta 0:00:01\r\u001b[K     |█████████████████████████████▋  | 563 kB 32.0 MB/s eta 0:00:01\r\u001b[K     |██████████████████████████████  | 573 kB 32.0 MB/s eta 0:00:01\r\u001b[K     |██████████████████████████████▋ | 583 kB 32.0 MB/s eta 0:00:01\r\u001b[K     |███████████████████████████████▏| 593 kB 32.0 MB/s eta 0:00:01\r\u001b[K     |███████████████████████████████▊| 604 kB 32.0 MB/s eta 0:00:01\r\u001b[K     |████████████████████████████████| 609 kB 32.0 MB/s \n",
            "\u001b[?25hRequirement already satisfied: scipy in /usr/local/lib/python3.7/dist-packages (from deepchem) (1.4.1)\n",
            "Requirement already satisfied: joblib in /usr/local/lib/python3.7/dist-packages (from deepchem) (1.0.1)\n",
            "Requirement already satisfied: numpy in /usr/local/lib/python3.7/dist-packages (from deepchem) (1.19.5)\n",
            "Requirement already satisfied: pandas in /usr/local/lib/python3.7/dist-packages (from deepchem) (1.1.5)\n",
            "Requirement already satisfied: scikit-learn in /usr/local/lib/python3.7/dist-packages (from deepchem) (0.22.2.post1)\n",
            "Requirement already satisfied: pytz>=2017.2 in /usr/local/lib/python3.7/dist-packages (from pandas->deepchem) (2018.9)\n",
            "Requirement already satisfied: python-dateutil>=2.7.3 in /usr/local/lib/python3.7/dist-packages (from pandas->deepchem) (2.8.2)\n",
            "Requirement already satisfied: six>=1.5 in /usr/local/lib/python3.7/dist-packages (from python-dateutil>=2.7.3->pandas->deepchem) (1.15.0)\n",
            "Installing collected packages: deepchem\n",
            "Successfully installed deepchem-2.6.0.dev20211018190358\n",
            "Collecting rdkit-pypi\n",
            "  Downloading rdkit_pypi-2021.9.1b1-cp37-cp37m-manylinux_2_17_x86_64.manylinux2014_x86_64.whl (20.4 MB)\n",
            "\u001b[K     |████████████████████████████████| 20.4 MB 1.4 MB/s \n",
            "\u001b[?25hRequirement already satisfied: numpy>=1.19 in /usr/local/lib/python3.7/dist-packages (from rdkit-pypi) (1.19.5)\n",
            "Installing collected packages: rdkit-pypi\n",
            "Successfully installed rdkit-pypi-2021.9.1b1\n",
            "Collecting PubChemPy\n",
            "  Downloading PubChemPy-1.0.4.tar.gz (29 kB)\n",
            "Building wheels for collected packages: PubChemPy\n",
            "  Building wheel for PubChemPy (setup.py) ... \u001b[?25l\u001b[?25hdone\n",
            "  Created wheel for PubChemPy: filename=PubChemPy-1.0.4-py3-none-any.whl size=13835 sha256=8b8113a4068f29bb23a5e7c6a8ec1db3a5cdf9f406a22a280c95d65dc7a1c92d\n",
            "  Stored in directory: /root/.cache/pip/wheels/7c/3d/8c/8192697412e9899dc55bbbb08bbc1197bef333caaa2a71c448\n",
            "Successfully built PubChemPy\n",
            "Installing collected packages: PubChemPy\n",
            "Successfully installed PubChemPy-1.0.4\n"
          ]
        }
      ]
    },
    {
      "cell_type": "code",
      "metadata": {
        "colab": {
          "base_uri": "https://localhost:8080/",
          "height": 35
        },
        "id": "Y5djSAYnYNjl",
        "outputId": "cfc4b32c-bff9-41ee-a290-fe468d3f5ca1"
      },
      "source": [
        "import deepchem as dc\n",
        "dc.__version__"
      ],
      "execution_count": 3,
      "outputs": [
        {
          "output_type": "execute_result",
          "data": {
            "application/vnd.google.colaboratory.intrinsic+json": {
              "type": "string"
            },
            "text/plain": [
              "'2.6.0.dev'"
            ]
          },
          "metadata": {},
          "execution_count": 3
        }
      ]
    },
    {
      "cell_type": "markdown",
      "metadata": {
        "id": "89dF5Fy_dNkr"
      },
      "source": [
        "## Featurizers"
      ]
    },
    {
      "cell_type": "markdown",
      "metadata": {
        "id": "0OiU2hAtiBiM"
      },
      "source": [
        "Molecules can be represented in different ways.\n",
        "* fingerprints (e.g. Circular Fingerprints, )\n",
        "* molecular properties \n",
        "* Graph convolution models [Duvenaud et al.](https://arxiv.org/abs/1509.09292)\n",
        "* Tokenizers\n",
        "\n",
        "[list of featurizers](https://www.ncbi.nlm.nih.gov/pmc/articles/PMC6917215/)\n"
      ]
    },
    {
      "cell_type": "markdown",
      "metadata": {
        "id": "CLAKI0TfWhy1"
      },
      "source": [
        "### Fingerprints"
      ]
    },
    {
      "cell_type": "code",
      "metadata": {
        "id": "yEoQQgrldPeD"
      },
      "source": [
        "from rdkit import Chem\n",
        "smiles = ['C1=CC=CC=C1']\n",
        "\n",
        "# Example 1: (size = 2048, radius = 4)\n",
        "featurizer = dc.feat.CircularFingerprint(size=2048, radius=4)\n",
        "features = featurizer.featurize(smiles)\n"
      ],
      "execution_count": 4,
      "outputs": []
    },
    {
      "cell_type": "code",
      "metadata": {
        "colab": {
          "base_uri": "https://localhost:8080/"
        },
        "id": "Isinq0e4dTO3",
        "outputId": "9c389c8d-69e9-48a2-ee9f-10eb8d8663cb"
      },
      "source": [
        "features.shape"
      ],
      "execution_count": 5,
      "outputs": [
        {
          "output_type": "execute_result",
          "data": {
            "text/plain": [
              "(1, 2048)"
            ]
          },
          "metadata": {},
          "execution_count": 5
        }
      ]
    },
    {
      "cell_type": "code",
      "metadata": {
        "colab": {
          "base_uri": "https://localhost:8080/"
        },
        "id": "MBxHSehuWLUK",
        "outputId": "451e912b-4b8d-4fac-a49f-2a6c1835e33f"
      },
      "source": [
        "for i,fp in enumerate(features[0]): \n",
        "  if fp==1: print(i)"
      ],
      "execution_count": 18,
      "outputs": [
        {
          "output_type": "stream",
          "name": "stdout",
          "text": [
            "389\n",
            "1088\n",
            "1232\n",
            "1873\n"
          ]
        }
      ]
    },
    {
      "cell_type": "markdown",
      "metadata": {
        "id": "MS3PO5nIWll7"
      },
      "source": [
        "### Molecular properties"
      ]
    },
    {
      "cell_type": "code",
      "metadata": {
        "id": "B03cYIWHWniy"
      },
      "source": [
        "smiles = ['CC(=O)OC1=CC=CC=C1C(=O)O']\n",
        "featurizer = dc.feat.RDKitDescriptors()\n",
        "features = featurizer.featurize(smiles)"
      ],
      "execution_count": 6,
      "outputs": []
    },
    {
      "cell_type": "code",
      "metadata": {
        "colab": {
          "base_uri": "https://localhost:8080/"
        },
        "id": "ZJQG5hQ6XAz0",
        "outputId": "b971bf23-1a88-4788-9004-36f091476e92"
      },
      "source": [
        "features"
      ],
      "execution_count": 7,
      "outputs": [
        {
          "output_type": "execute_result",
          "data": {
            "text/plain": [
              "array([[ 1.06119482e+01, -1.11402778e+00,  1.06119482e+01,\n",
              "         1.60185185e-02,  5.50121797e-01,  1.80159000e+02,\n",
              "         1.72095000e+02,  1.80042259e+02,  6.80000000e+01,\n",
              "         0.00000000e+00,  3.39003787e-01, -4.77539527e-01,\n",
              "         4.77539527e-01,  3.39003787e-01,  1.30769231e+00,\n",
              "         1.92307692e+00,  2.46153846e+00,  1.65361112e+01,\n",
              "         1.01822824e+01,  2.10430698e+00, -2.03113209e+00,\n",
              "         2.16983456e+00, -2.06300006e+00,  5.91306580e+00,\n",
              "        -1.31414342e-01,  3.04352735e+00,  3.43222868e+02,\n",
              "         9.84493498e+00,  6.98135954e+00,  6.98135954e+00,\n",
              "         6.10906091e+00,  3.61745365e+00,  3.61745365e+00,\n",
              "         2.39495568e+00,  2.39495568e+00,  1.37115466e+00,\n",
              "         1.37115466e+00,  8.87171219e-01,  8.87171219e-01,\n",
              "        -1.84000000e+00,  2.03253692e+00,  9.24960573e+00,\n",
              "         3.70925126e+00,  2.29741503e+00,  7.47570526e+01,\n",
              "         9.84339035e+00,  1.13129633e+01,  0.00000000e+00,\n",
              "         0.00000000e+00,  0.00000000e+00,  1.19386106e+01,\n",
              "         4.79453718e+00,  4.79453718e+00,  0.00000000e+00,\n",
              "         0.00000000e+00,  1.21327341e+01,  1.21327341e+01,\n",
              "         6.92373720e+00,  0.00000000e+00,  1.94324647e+01,\n",
              "         1.19386106e+01,  0.00000000e+00,  0.00000000e+00,\n",
              "         0.00000000e+00,  6.92373720e+00,  0.00000000e+00,\n",
              "         2.98289198e+01,  0.00000000e+00,  5.74951183e+00,\n",
              "         4.73686295e+00,  0.00000000e+00,  5.74951183e+00,\n",
              "         0.00000000e+00,  1.70451380e+01,  4.79453718e+00,\n",
              "         0.00000000e+00,  1.72817259e+01,  2.42654683e+01,\n",
              "         0.00000000e+00,  0.00000000e+00,  0.00000000e+00,\n",
              "         6.36000000e+01,  1.19386106e+01,  9.58907437e+00,\n",
              "         0.00000000e+00,  1.13129633e+01,  0.00000000e+00,\n",
              "         0.00000000e+00,  1.90564713e+01,  1.21327341e+01,\n",
              "         0.00000000e+00,  4.73686295e+00,  5.10652739e+00,\n",
              "         4.68689815e+00,  0.00000000e+00,  2.11847676e+01,\n",
              "         8.68724301e+00, -1.60185185e-02, -1.57587963e+00,\n",
              "         5.97879252e+00,  0.00000000e+00,  1.22086357e+00,\n",
              "         0.00000000e+00,  1.11111111e-01,  1.30000000e+01,\n",
              "         1.00000000e+00,  4.00000000e+00,  0.00000000e+00,\n",
              "         0.00000000e+00,  0.00000000e+00,  1.00000000e+00,\n",
              "         0.00000000e+00,  1.00000000e+00,  3.00000000e+00,\n",
              "         1.00000000e+00,  4.00000000e+00,  2.00000000e+00,\n",
              "         0.00000000e+00,  0.00000000e+00,  0.00000000e+00,\n",
              "         1.00000000e+00,  1.31010000e+00,  4.47103000e+01,\n",
              "         0.00000000e+00,  0.00000000e+00,  0.00000000e+00,\n",
              "         0.00000000e+00,  1.00000000e+00,  0.00000000e+00,\n",
              "         0.00000000e+00,  0.00000000e+00,  1.00000000e+00,\n",
              "         1.00000000e+00,  2.00000000e+00,  1.00000000e+00,\n",
              "         0.00000000e+00,  0.00000000e+00,  0.00000000e+00,\n",
              "         0.00000000e+00,  0.00000000e+00,  0.00000000e+00,\n",
              "         0.00000000e+00,  0.00000000e+00,  0.00000000e+00,\n",
              "         0.00000000e+00,  0.00000000e+00,  0.00000000e+00,\n",
              "         0.00000000e+00,  0.00000000e+00,  0.00000000e+00,\n",
              "         0.00000000e+00,  0.00000000e+00,  0.00000000e+00,\n",
              "         0.00000000e+00,  0.00000000e+00,  0.00000000e+00,\n",
              "         0.00000000e+00,  1.00000000e+00,  0.00000000e+00,\n",
              "         0.00000000e+00,  0.00000000e+00,  0.00000000e+00,\n",
              "         0.00000000e+00,  1.00000000e+00,  1.00000000e+00,\n",
              "         0.00000000e+00,  0.00000000e+00,  0.00000000e+00,\n",
              "         0.00000000e+00,  0.00000000e+00,  0.00000000e+00,\n",
              "         0.00000000e+00,  0.00000000e+00,  0.00000000e+00,\n",
              "         0.00000000e+00,  0.00000000e+00,  0.00000000e+00,\n",
              "         0.00000000e+00,  0.00000000e+00,  0.00000000e+00,\n",
              "         0.00000000e+00,  0.00000000e+00,  0.00000000e+00,\n",
              "         0.00000000e+00,  0.00000000e+00,  0.00000000e+00,\n",
              "         0.00000000e+00,  1.00000000e+00,  0.00000000e+00,\n",
              "         0.00000000e+00,  0.00000000e+00,  0.00000000e+00,\n",
              "         0.00000000e+00,  0.00000000e+00,  0.00000000e+00,\n",
              "         0.00000000e+00,  0.00000000e+00,  0.00000000e+00,\n",
              "         0.00000000e+00,  0.00000000e+00,  0.00000000e+00,\n",
              "         0.00000000e+00,  0.00000000e+00,  0.00000000e+00,\n",
              "         0.00000000e+00,  0.00000000e+00,  0.00000000e+00,\n",
              "         0.00000000e+00]])"
            ]
          },
          "metadata": {},
          "execution_count": 7
        }
      ]
    },
    {
      "cell_type": "markdown",
      "metadata": {
        "id": "dU3au4NykMaV"
      },
      "source": [
        "## Datasets\n",
        "https://deepchem.readthedocs.io/en/latest/api_reference/moleculenet.html\n"
      ]
    },
    {
      "cell_type": "markdown",
      "metadata": {
        "id": "fOeieHOObfqg"
      },
      "source": [
        "## Load an example dataset (Delaney dataset of molecular solubilities)\n",
        "\n"
      ]
    },
    {
      "cell_type": "markdown",
      "metadata": {
        "id": "wamatJyyhc5x"
      },
      "source": [
        "The Delaney (ESOL) dataset a regression dataset containing structures and water solubility data for 1128 compounds. The dataset is widely used to validate machine learning models on estimating solubility directly from molecular structures (as encoded in SMILES strings).\n",
        "\n",
        "The raw data csv file contains columns below:\n",
        "* “Compound ID” - Name of the compound\n",
        "* “smiles” - SMILES representation of the molecular structure\n",
        "* “measured log solubility in mols per litre” - Log-scale water solubility of the compound, used as label\n",
        "\n",
        "### the Dataset structure\n",
        "Now let's consider the contents of the Dataset. Every Dataset stores a list of samples. Very roughly speaking, a sample is a single data point. In this case, each sample is a molecule. In other datasets a sample might correspond to an experimental assay, a cell line, an image, or many other things. For every sample the dataset stores the following information.\n",
        "\n",
        "* The features, referred to as `X`. This is the input that should be fed into a model to represent the sample.\n",
        "* The labels, referred to as `y`. This is the desired output from the model. During training, it tries to make the model's output for each sample as close as possible to y.\n",
        "* The weights, referred to as `w`. This can be used to indicate that some data values are more important than others. In later tutorials we will see examples of how this is useful.\n",
        "* An `ID`, which is a unique identifier for the sample. This can be anything as long as it is unique. Sometimes it is just an integer index, but in this dataset the ID is a SMILES string describing the molecule.\n",
        "\n",
        "\n",
        "The final piece of information listed in the output is `task_names`. Some datasets contain multiple pieces of information for each sample. For example, if a sample represents a molecule, the dataset might record the results of several different experiments on that molecule. This dataset has only a single task: \"measured log solubility in mols per litre\". \n"
      ]
    },
    {
      "cell_type": "code",
      "metadata": {
        "id": "rYyXsl85YQut"
      },
      "source": [
        "tasks, datasets, transformers = dc.molnet.load_delaney(featurizer='GraphConv')"
      ],
      "execution_count": null,
      "outputs": []
    },
    {
      "cell_type": "code",
      "metadata": {
        "id": "RckBYgdXYcRC"
      },
      "source": [
        "train_dataset, valid_dataset, test_dataset = datasets"
      ],
      "execution_count": null,
      "outputs": []
    },
    {
      "cell_type": "code",
      "metadata": {
        "colab": {
          "base_uri": "https://localhost:8080/"
        },
        "id": "tVtNbU7PYwJ8",
        "outputId": "9a0b72f2-d6ca-4e97-a2a4-a8b00fe60537"
      },
      "source": [
        "train_dataset"
      ],
      "execution_count": null,
      "outputs": [
        {
          "data": {
            "text/plain": [
              "<DiskDataset X.shape: (902,), y.shape: (902, 1), w.shape: (902, 1), ids: ['CC(C)=CCCC(C)=CC(=O)' 'CCCC=C' 'CCCCCCCCCCCCCC' ...\n",
              " 'Nc2cccc3nc1ccccc1cc23 ' 'C1CCCCCC1' 'OC1CCCCCC1'], task_names: ['measured log solubility in mols per litre']>"
            ]
          },
          "execution_count": 29,
          "metadata": {},
          "output_type": "execute_result"
        }
      ]
    },
    {
      "cell_type": "markdown",
      "metadata": {
        "id": "AUD5gMnJ062I"
      },
      "source": [
        "## Prepare and featurize your own dataset\n",
        "\n",
        "\n",
        "Here we will read a file containing smiles and labels and prepare a dataset for machine learning.\n",
        "\n",
        "* read from local (see [here](https://colab.research.google.com/notebooks/io.ipynb) for colab file IO)\n"
      ]
    },
    {
      "cell_type": "code",
      "metadata": {
        "colab": {
          "resources": {
            "http://localhost:8080/nbextensions/google.colab/files.js": {
              "data": "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",
              "ok": true,
              "headers": [
                [
                  "content-type",
                  "application/javascript"
                ]
              ],
              "status": 200,
              "status_text": "OK"
            }
          },
          "base_uri": "https://localhost:8080/",
          "height": 74
        },
        "id": "55FmnVlW1AJD",
        "outputId": "601df1fd-5f5e-4e7a-d8fa-73f9c2f56244"
      },
      "source": [
        "from google.colab import files\n",
        "import csv\n",
        "uploaded = files.upload()"
      ],
      "execution_count": 21,
      "outputs": [
        {
          "output_type": "display_data",
          "data": {
            "text/html": [
              "\n",
              "     <input type=\"file\" id=\"files-f15a45bd-69f8-486d-a87b-302897427a2d\" name=\"files[]\" multiple disabled\n",
              "        style=\"border:none\" />\n",
              "     <output id=\"result-f15a45bd-69f8-486d-a87b-302897427a2d\">\n",
              "      Upload widget is only available when the cell has been executed in the\n",
              "      current browser session. Please rerun this cell to enable.\n",
              "      </output>\n",
              "      <script src=\"/nbextensions/google.colab/files.js\"></script> "
            ],
            "text/plain": [
              "<IPython.core.display.HTML object>"
            ]
          },
          "metadata": {}
        },
        {
          "output_type": "stream",
          "name": "stdout",
          "text": [
            "Saving test1.csv to test1.csv\n"
          ]
        }
      ]
    },
    {
      "cell_type": "code",
      "metadata": {
        "id": "IJ4t4QxT1Yd2"
      },
      "source": [
        "\n",
        "lines = [line.decode(\"utf-8\") for line in uploaded['test1.csv'].splitlines()]\n",
        "reader = csv.reader(lines)\n",
        "molecules = list(reader)\n"
      ],
      "execution_count": 22,
      "outputs": []
    },
    {
      "cell_type": "code",
      "metadata": {
        "id": "FFxnWLI1140i"
      },
      "source": [
        "IDs = [molecule[0] for molecule in molecules]\n",
        "smiles = [molecule[1] for molecule in molecules]\n",
        "label = [molecule[2] for molecule in molecules]\n",
        "\n",
        "features = featurizer.featurize(smiles)\n",
        "dataset = dc.data.NumpyDataset(X=features, y=label, ids=IDs)\n"
      ],
      "execution_count": 23,
      "outputs": []
    },
    {
      "cell_type": "code",
      "metadata": {
        "id": "BHDkDXZt_UA6"
      },
      "source": [
        "splitter = dc.splits.RandomSplitter()\n",
        "\n",
        "train_dataset, valid_dataset, test_dataset = splitter.train_valid_test_split(dataset)"
      ],
      "execution_count": null,
      "outputs": []
    },
    {
      "cell_type": "code",
      "metadata": {
        "id": "P0ggduKsCH4f"
      },
      "source": [
        "print(f'total {len(dataset)}')\n",
        "\n",
        "print(f'train {len(train_dataset)}')\n",
        "print(f'valid {len(valid_dataset)}')\n",
        "print(f'test {len(test_dataset)}')\n",
        "\n"
      ],
      "execution_count": null,
      "outputs": []
    },
    {
      "cell_type": "code",
      "metadata": {
        "id": "tRQlZgukEm1O"
      },
      "source": [
        "train_dataset.X.shape"
      ],
      "execution_count": null,
      "outputs": []
    },
    {
      "cell_type": "markdown",
      "metadata": {
        "id": "zHo_thGghuSB"
      },
      "source": [
        "## Train a deep-learning model to predict "
      ]
    },
    {
      "cell_type": "code",
      "metadata": {
        "id": "4ky5fHosDhQi"
      },
      "source": [
        "model = dc.models.MultitaskClassifier(n_tasks=1, n_features=2048, layer_sizes=[1000])"
      ],
      "execution_count": null,
      "outputs": []
    },
    {
      "cell_type": "code",
      "metadata": {
        "id": "OtZEzMxbEZin"
      },
      "source": [
        "\n",
        "model.fit(train_dataset, nb_epoch=10)\n",
        "metric = dc.metrics.Metric(dc.metrics.roc_auc_score)\n",
        "\n"
      ],
      "execution_count": null,
      "outputs": []
    },
    {
      "cell_type": "code",
      "metadata": {
        "colab": {
          "base_uri": "https://localhost:8080/"
        },
        "id": "N-fp9sfTEdTd",
        "outputId": "5caa9f2b-004c-4f3d-c420-20bcd5eaba74"
      },
      "source": [
        "metric"
      ],
      "execution_count": null,
      "outputs": [
        {
          "data": {
            "text/plain": [
              "<deepchem.metrics.metric.Metric at 0x7fd183e43f50>"
            ]
          },
          "execution_count": 102,
          "metadata": {},
          "output_type": "execute_result"
        }
      ]
    },
    {
      "cell_type": "code",
      "metadata": {
        "colab": {
          "base_uri": "https://localhost:8080/"
        },
        "id": "NxkJswnCFOK7",
        "outputId": "94951e77-16f7-4ba2-ad41-704b193ba375"
      },
      "source": [
        "print('training set score:', model.evaluate(train_dataset, metric))\n",
        "print('test set score:', model.evaluate(test_dataset, metric))"
      ],
      "execution_count": null,
      "outputs": [
        {
          "name": "stdout",
          "output_type": "stream",
          "text": [
            "training set score: {'roc_auc_score': 1.0}\n",
            "test set score: {'roc_auc_score': 0.8831168831168831}\n"
          ]
        }
      ]
    },
    {
      "cell_type": "markdown",
      "metadata": {
        "id": "1yvUGIWmGrq8"
      },
      "source": [
        "Let us plot the results\n",
        "\n",
        "[how to plot in Colab](https://colab.research.google.com/github/jakevdp/PythonDataScienceHandbook/blob/master/notebooks/04.02-Simple-Scatter-Plots.ipynb#scrollTo=RmV1JUqGGH0X)\n",
        "\n"
      ]
    },
    {
      "cell_type": "code",
      "metadata": {
        "id": "oZA1UVNYFWRt"
      },
      "source": [
        "%matplotlib inline\n",
        "import matplotlib.pyplot as plt\n",
        "plt.style.use('seaborn-whitegrid')\n",
        "import numpy as np\n",
        "\n",
        "xy = model.predict(test_dataset).reshape(32,2)"
      ],
      "execution_count": null,
      "outputs": []
    },
    {
      "cell_type": "code",
      "metadata": {
        "colab": {
          "base_uri": "https://localhost:8080/",
          "height": 262
        },
        "id": "843tcd50Fn6E",
        "outputId": "1220707b-a356-48d6-8879-7b8e6c9186b4"
      },
      "source": [
        "plt.plot(xy[:,0], xy[:,1], 'o', color='black');\n"
      ],
      "execution_count": null,
      "outputs": [
        {
          "data": {
            "image/png": "[encoded data removed]",
            "text/plain": [
              "<Figure size 432x288 with 1 Axes>"
            ]
          },
          "metadata": {},
          "output_type": "display_data"
        }
      ]
    },
    {
      "cell_type": "code",
      "metadata": {
        "colab": {
          "base_uri": "https://localhost:8080/"
        },
        "id": "6IxTfC6UGP6e",
        "outputId": "83e6b188-2dba-4f89-eef9-98e42423fff1"
      },
      "source": [
        "xy"
      ],
      "execution_count": null,
      "outputs": [
        {
          "data": {
            "text/plain": [
              "array([[6.98894113e-02, 9.30110574e-01],\n",
              "       [9.99990344e-01, 9.67797132e-06],\n",
              "       [4.94283764e-03, 9.95057225e-01],\n",
              "       [9.87544656e-01, 1.24553293e-02],\n",
              "       [1.77104288e-04, 9.99822915e-01],\n",
              "       [9.99969602e-01, 3.03987927e-05],\n",
              "       [4.97840694e-04, 9.99502182e-01],\n",
              "       [9.99964952e-01, 3.50628216e-05],\n",
              "       [2.18145644e-08, 1.00000000e+00],\n",
              "       [6.41521910e-05, 9.99935865e-01],\n",
              "       [9.99956727e-01, 4.32157176e-05],\n",
              "       [6.56790799e-04, 9.99343216e-01],\n",
              "       [5.36886000e-06, 9.99994636e-01],\n",
              "       [2.16501761e-07, 9.99999762e-01],\n",
              "       [1.08921423e-08, 1.00000000e+00],\n",
              "       [2.37802139e-10, 1.00000000e+00],\n",
              "       [1.00756751e-03, 9.98992383e-01],\n",
              "       [1.23411309e-10, 1.00000000e+00],\n",
              "       [1.06528175e-09, 1.00000000e+00],\n",
              "       [4.91430634e-04, 9.99508619e-01],\n",
              "       [2.34919488e-01, 7.65080512e-01],\n",
              "       [7.06070132e-05, 9.99929428e-01],\n",
              "       [2.89720483e-05, 9.99971032e-01],\n",
              "       [1.18451804e-04, 9.99881506e-01],\n",
              "       [9.99999881e-01, 8.28185307e-08],\n",
              "       [1.58650622e-08, 1.00000000e+00],\n",
              "       [8.72150779e-01, 1.27849147e-01],\n",
              "       [9.92322505e-01, 7.67748011e-03],\n",
              "       [1.82105172e-02, 9.81789529e-01],\n",
              "       [9.98360574e-01, 1.63940317e-03],\n",
              "       [9.23139076e-09, 1.00000000e+00],\n",
              "       [1.05827110e-06, 9.99998927e-01]], dtype=float32)"
            ]
          },
          "execution_count": 120,
          "metadata": {},
          "output_type": "execute_result"
        }
      ]
    },
    {
      "cell_type": "markdown",
      "metadata": {
        "id": "wToNIL5emi9W"
      },
      "source": [
        "# Cluster ligands by similarity in rdKit\n",
        "\n",
        "[examples of basic `rdkit` use](https://www.rdkit.org/docs/GettingStartedInPython.html)\n"
      ]
    },
    {
      "cell_type": "code",
      "metadata": {
        "id": "BFUNxDY_GcyS"
      },
      "source": [
        "from rdkit import Chem\n",
        "from rdkit.Chem import AllChem"
      ],
      "execution_count": 19,
      "outputs": []
    },
    {
      "cell_type": "code",
      "metadata": {
        "id": "TafBgmgjmqID"
      },
      "source": [
        "# Define clustering setup\n",
        "def cluster_fingerprints(fps,cutoff=0.2):\n",
        "    from rdkit import DataStructs\n",
        "    from rdkit.ML.Cluster import Butina\n",
        "\n",
        "    # first generate the distance matrix:\n",
        "    dists = []\n",
        "    nfps = len(fps)\n",
        "    for i in range(1,nfps):\n",
        "        sims = DataStructs.BulkTanimotoSimilarity(fps[i],fps[:i])\n",
        "        dists.extend([1-x for x in sims])\n",
        "\n",
        "    # now cluster the data:\n",
        "    cs = Butina.ClusterData(dists,nfps,cutoff,isDistData=True)\n",
        "    return cs\n",
        "\n"
      ],
      "execution_count": 20,
      "outputs": []
    },
    {
      "cell_type": "code",
      "metadata": {
        "id": "dfoN19_hoIi4"
      },
      "source": [
        "featurizer = dc.feat.CircularFingerprint(size=2048, radius=4)\n",
        "tasks, datasets, transformers = dc.molnet.load_delaney(featurizer=featurizer)"
      ],
      "execution_count": 29,
      "outputs": []
    },
    {
      "cell_type": "code",
      "metadata": {
        "colab": {
          "base_uri": "https://localhost:8080/"
        },
        "id": "ae0CL8tgowao",
        "outputId": "5f34dff3-022a-4eff-e496-3f47a8428624"
      },
      "source": [
        "datasets[0].X"
      ],
      "execution_count": 32,
      "outputs": [
        {
          "output_type": "execute_result",
          "data": {
            "text/plain": [
              "array([[0., 0., 0., ..., 0., 0., 0.],\n",
              "       [0., 0., 0., ..., 0., 0., 0.],\n",
              "       [0., 0., 0., ..., 0., 0., 0.],\n",
              "       ...,\n",
              "       [0., 0., 0., ..., 0., 0., 0.],\n",
              "       [0., 0., 1., ..., 0., 0., 0.],\n",
              "       [0., 0., 1., ..., 0., 0., 0.]])"
            ]
          },
          "metadata": {},
          "execution_count": 32
        }
      ]
    },
    {
      "cell_type": "code",
      "metadata": {
        "id": "F2hRms69nUrS"
      },
      "source": [
        "ms = [Chem.MolFromSmiles(x) for x in smiles]"
      ],
      "execution_count": 44,
      "outputs": []
    },
    {
      "cell_type": "code",
      "metadata": {
        "id": "xLPKgimToOFS"
      },
      "source": [
        "fps = [AllChem.GetMorganFingerprintAsBitVect(x,4,2048) for x in ms]"
      ],
      "execution_count": 33,
      "outputs": []
    },
    {
      "cell_type": "code",
      "metadata": {
        "id": "PyLfx7OHpFSW"
      },
      "source": [
        "clusters = cluster_fingerprints(fps,cutoff=0.4)"
      ],
      "execution_count": 37,
      "outputs": []
    },
    {
      "cell_type": "code",
      "metadata": {
        "colab": {
          "base_uri": "https://localhost:8080/"
        },
        "id": "FuokegX7pFx4",
        "outputId": "0ff99c3e-d3f3-4174-e516-a771d5e5e005"
      },
      "source": [
        "#show one of the clusters\n",
        "print(clusters[0])\n",
        "\n"
      ],
      "execution_count": 38,
      "outputs": [
        {
          "output_type": "stream",
          "name": "stdout",
          "text": [
            "(108, 2, 4, 10, 13, 17, 22, 26, 46, 49, 53, 57, 59, 60, 62, 63, 69, 70, 71, 88, 92, 117, 118, 147, 150, 185)\n"
          ]
        }
      ]
    },
    {
      "cell_type": "code",
      "metadata": {
        "colab": {
          "base_uri": "https://localhost:8080/",
          "height": 1000
        },
        "id": "7aAgnQ6Npd3R",
        "outputId": "67180713-9b1b-4673-e32f-45fac1c44246"
      },
      "source": [
        "#now display structures from one of the clusters\n",
        "from rdkit.Chem import Draw\n",
        "from rdkit.Chem.Draw import IPythonConsole\n",
        "\n",
        "\n",
        "mols=[ms[i] for i in clusters[2]]\n",
        "Draw.MolsToGridImage(mols)"
      ],
      "execution_count": 41,
      "outputs": [
        {
          "output_type": "execute_result",
          "data": {
            "image/png": "[encoded data removed]",
            "text/plain": [
              "<IPython.core.display.Image object>"
            ]
          },
          "metadata": {},
          "execution_count": 41
        }
      ]
    },
    {
      "cell_type": "code",
      "metadata": {
        "id": "MigWx3ICpkJP"
      },
      "source": [
        "from rdkit.Chem import Descriptors"
      ],
      "execution_count": 42,
      "outputs": []
    },
    {
      "cell_type": "code",
      "metadata": {
        "colab": {
          "base_uri": "https://localhost:8080/"
        },
        "id": "HE7GyXEVtL7Q",
        "outputId": "090e89d8-c613-4054-a904-22ab90657f71"
      },
      "source": [
        "\n",
        "[Descriptors.MolLogP(mol) for mol in ms]"
      ],
      "execution_count": 48,
      "outputs": [
        {
          "output_type": "execute_result",
          "data": {
            "text/plain": [
              "[4.956800000000004,\n",
              " 4.5667000000000035,\n",
              " 10.255199999999997,\n",
              " 8.086100000000009,\n",
              " 6.744300000000008,\n",
              " 6.260300000000007,\n",
              " -6.35918999999991,\n",
              " 3.803300000000003,\n",
              " 4.4013000000000035,\n",
              " 6.913700000000008,\n",
              " 4.263300000000004,\n",
              " 4.1657000000000055,\n",
              " 3.9197000000000046,\n",
              " 10.255199999999997,\n",
              " 4.685700000000004,\n",
              " 4.294000000000004,\n",
              " 3.8606000000000025,\n",
              " 9.027000000000005,\n",
              " 3.3264000000000022,\n",
              " 2.7197000000000013,\n",
              " 3.0954000000000015,\n",
              " 3.3656000000000015,\n",
              " 11.068499999999991,\n",
              " 3.447600000000002,\n",
              " 3.203000000000002,\n",
              " 6.260300000000007,\n",
              " 11.035399999999992,\n",
              " 5.965900000000006,\n",
              " 3.6890000000000027,\n",
              " 3.0954000000000015,\n",
              " 2.4887000000000006,\n",
              " 5.040200000000005,\n",
              " 4.3026000000000035,\n",
              " 5.9854000000000065,\n",
              " 1.7072999999999998,\n",
              " 5.775700000000005,\n",
              " 3.511500000000003,\n",
              " 6.277500000000007,\n",
              " 3.3567000000000027,\n",
              " 3.2333000000000007,\n",
              " 4.250700000000003,\n",
              " 6.136600000000007,\n",
              " 6.260300000000007,\n",
              " 4.869700000000004,\n",
              " 5.802740000000006,\n",
              " 4.568300000000003,\n",
              " 6.655900000000008,\n",
              " 5.755100000000006,\n",
              " 6.577320000000007,\n",
              " 8.470800000000008,\n",
              " 4.7370000000000045,\n",
              " 5.7389000000000046,\n",
              " 4.756000000000005,\n",
              " 10.150299999999996,\n",
              " 7.85510000000001,\n",
              " 3.5524000000000022,\n",
              " 2.7589000000000015,\n",
              " 9.793199999999999,\n",
              " 1.3582999999999996,\n",
              " 4.653400000000005,\n",
              " 6.655900000000008,\n",
              " 4.830700000000005,\n",
              " 11.52739999999999,\n",
              " 10.645299999999995,\n",
              " 7.201000000000009,\n",
              " 1.6302999999999999,\n",
              " 7.147900000000007,\n",
              " 2.7197000000000013,\n",
              " -0.9388999999999958,\n",
              " 9.7922,\n",
              " 4.263300000000004,\n",
              " 6.156000000000006,\n",
              " 2.9624000000000015,\n",
              " 4.803900000000005,\n",
              " 3.9063000000000034,\n",
              " 5.472700000000005,\n",
              " 5.355800000000006,\n",
              " 2.9720000000000013,\n",
              " 6.268900000000007,\n",
              " 5.472700000000004,\n",
              " 4.350300000000004,\n",
              " 2.8659000000000017,\n",
              " 5.833700000000006,\n",
              " 4.832820000000005,\n",
              " 4.759400000000004,\n",
              " 3.353200000000002,\n",
              " 6.065400000000006,\n",
              " 4.1159000000000034,\n",
              " 11.035399999999992,\n",
              " 3.805520000000003,\n",
              " 0.20340000000001435,\n",
              " 2.9666000000000015,\n",
              " 8.694800000000006,\n",
              " 7.98280000000001,\n",
              " 3.302100000000002,\n",
              " 3.508700000000003,\n",
              " 6.211500000000007,\n",
              " 5.192700000000006,\n",
              " 4.355500000000004,\n",
              " 6.268900000000007,\n",
              " 8.492000000000008,\n",
              " 2.4887000000000006,\n",
              " 2.9666000000000015,\n",
              " 5.364400000000005,\n",
              " 6.260300000000007,\n",
              " 6.165800000000006,\n",
              " 4.159100000000004,\n",
              " 2.5993000000000017,\n",
              " 10.645299999999995,\n",
              " 3.0897000000000014,\n",
              " 3.6456000000000035,\n",
              " 2.3599000000000006,\n",
              " 2.892100000000001,\n",
              " 1.0659999999999994,\n",
              " 5.394700000000005,\n",
              " 3.4623000000000026,\n",
              " 3.3232000000000026,\n",
              " 8.176900000000009,\n",
              " 11.815599999999987,\n",
              " 4.126300000000003,\n",
              " 4.579900000000004,\n",
              " 5.472700000000005,\n",
              " 5.885900000000006,\n",
              " 3.427100000000001,\n",
              " 3.886600000000003,\n",
              " 4.346900000000004,\n",
              " 5.989000000000006,\n",
              " 5.965900000000006,\n",
              " 5.443600000000004,\n",
              " 3.500300000000002,\n",
              " 4.560400000000004,\n",
              " 3.4792000000000027,\n",
              " 8.08370000000001,\n",
              " 5.862800000000005,\n",
              " 5.862800000000005,\n",
              " 3.8119000000000054,\n",
              " 4.575300000000006,\n",
              " 3.139500000000002,\n",
              " 12.487599999999981,\n",
              " 5.765900000000006,\n",
              " 4.529600000000004,\n",
              " 5.201300000000005,\n",
              " 3.327600000000002,\n",
              " 5.355800000000006,\n",
              " 2.8779700000000012,\n",
              " 5.191800000000007,\n",
              " 2.466100000000001,\n",
              " 12.307599999999985,\n",
              " 4.035700000000004,\n",
              " 8.31010000000001,\n",
              " 7.91460000000001,\n",
              " 2.8432000000000013,\n",
              " 2.892100000000001,\n",
              " 3.4971000000000023,\n",
              " 3.7985000000000024,\n",
              " 4.3026000000000035,\n",
              " 4.346900000000004,\n",
              " 5.775700000000006,\n",
              " 3.5296000000000034,\n",
              " 3.0992000000000015,\n",
              " 5.655300000000006,\n",
              " 5.309800000000005,\n",
              " 4.578600000000004,\n",
              " 7.047500000000007,\n",
              " 2.5086000000000004,\n",
              " 4.2965000000000035,\n",
              " 4.8064000000000044,\n",
              " 5.196500000000005,\n",
              " 1.7626000000000037,\n",
              " 2.543,\n",
              " 0.4940800000000144,\n",
              " 4.6905000000000046,\n",
              " 5.655300000000006,\n",
              " 4.635200000000004,\n",
              " 4.305600000000004,\n",
              " 11.540799999999988,\n",
              " 10.573399999999996,\n",
              " 3.365700000000002,\n",
              " 5.146100000000005,\n",
              " 5.655300000000006,\n",
              " 0.8176000000000108,\n",
              " 4.975500000000005,\n",
              " 4.525100000000004,\n",
              " 5.655300000000006,\n",
              " 6.859700000000008,\n",
              " 3.8732000000000033,\n",
              " 3.0930000000000017,\n",
              " 4.692500000000005,\n",
              " 5.472700000000005,\n",
              " 5.495800000000005,\n",
              " 5.9854000000000065,\n",
              " 6.165800000000005,\n",
              " 4.161500000000003,\n",
              " -0.7395999999999849,\n",
              " 4.019700000000003,\n",
              " -0.13789999999998942,\n",
              " 1.6321400000000075,\n",
              " 2.792600000000001,\n",
              " 3.569200000000002,\n",
              " -1.618199999999998,\n",
              " 1.4370800000000121,\n",
              " 2.0308,\n",
              " 4.350300000000004,\n",
              " 4.919700000000005,\n",
              " 0.2942000000000093,\n",
              " 3.035400000000002,\n",
              " 3.8251000000000026,\n",
              " 3.5142000000000024,\n",
              " 2.9292999999999996,\n",
              " 1.5253999999999999,\n",
              " 4.279500000000004,\n",
              " 1.4352999999999996,\n",
              " 3.3068000000000017,\n",
              " 1.1981,\n",
              " 2.6729999999999996,\n",
              " 2.5638999999999994,\n",
              " 2.3019000000000007,\n",
              " 3.146200000000002,\n",
              " 3.900400000000003,\n",
              " 4.1395000000000035,\n",
              " 2.5462000000000007,\n",
              " 3.111600000000002,\n",
              " 4.811600000000005,\n",
              " 4.238100000000004,\n",
              " 5.6432000000000055,\n",
              " 3.441900000000002,\n",
              " 6.214300000000007,\n",
              " 5.298740000000005,\n",
              " 5.6432000000000055,\n",
              " 7.862000000000006,\n",
              " 6.2510000000000066,\n",
              " 6.600300000000007,\n",
              " 2.7805000000000017,\n",
              " 1.1005999999999994,\n",
              " 2.7799000000000014,\n",
              " 5.351200000000006,\n",
              " 4.204300000000004,\n",
              " 2.3464,\n",
              " 3.2173000000000007,\n",
              " 2.21892,\n",
              " 6.990400000000007,\n",
              " 1.6752,\n",
              " 4.413800000000004,\n",
              " 4.863940000000004,\n",
              " 3.124100000000002,\n",
              " 2.3439000000000005,\n",
              " 6.469000000000006,\n",
              " 1.4352999999999996,\n",
              " 2.7799000000000014,\n",
              " 7.031200000000007,\n",
              " 3.208000000000001,\n",
              " 3.3031000000000015,\n",
              " 3.022540000000001,\n",
              " -1.5979999999999954,\n",
              " 4.585900000000004,\n",
              " 5.978800000000009,\n",
              " 6.210200000000007,\n",
              " 6.301900000000007,\n",
              " 3.2113000000000014,\n",
              " 3.807100000000003,\n",
              " 2.5150999999999994,\n",
              " 4.138600000000003,\n",
              " 3.369100000000002,\n",
              " 4.102400000000004,\n",
              " 3.9886000000000035,\n",
              " 4.719840000000004,\n",
              " 5.655300000000006,\n",
              " 3.681600000000002,\n",
              " 4.0717000000000025,\n",
              " 1.2660999999999998,\n",
              " 3.889400000000003,\n",
              " 3.8480000000000034,\n",
              " 5.362800000000005,\n",
              " 2.4583200000000005,\n",
              " 3.742600000000003,\n",
              " 2.1498999999999997,\n",
              " 4.279500000000005,\n",
              " 5.377640000000004,\n",
              " 2.0744,\n",
              " -1.3259999999999974,\n",
              " 3.8042000000000025,\n",
              " 4.100340000000004,\n",
              " 4.006300000000003,\n",
              " 5.820100000000006,\n",
              " 4.1427400000000025,\n",
              " 4.914500000000005,\n",
              " 4.524400000000004,\n",
              " 4.680600000000005,\n",
              " 4.361100000000003,\n",
              " 3.174400000000001,\n",
              " 3.765500000000003,\n",
              " 3.5629000000000035,\n",
              " 4.2186000000000075,\n",
              " 3.7102400000000033,\n",
              " 4.669600000000005,\n",
              " 3.2470000000000017,\n",
              " 4.8050400000000035,\n",
              " 1.3014,\n",
              " 6.3210000000000095,\n",
              " 3.933100000000003,\n",
              " 4.969900000000006,\n",
              " 4.971100000000005,\n",
              " 4.303640000000003,\n",
              " 5.003000000000006,\n",
              " 1.3010999999999997,\n",
              " 3.291100000000002,\n",
              " 4.509440000000003,\n",
              " 4.238100000000004,\n",
              " 4.1559000000000035,\n",
              " 4.608700000000008,\n",
              " 3.4710000000000027,\n",
              " 3.518600000000003,\n",
              " 5.141240000000005,\n",
              " 4.473840000000004,\n",
              " 5.627040000000005,\n",
              " 4.473840000000004,\n",
              " 4.611300000000005,\n",
              " 7.463800000000009]"
            ]
          },
          "metadata": {},
          "execution_count": 48
        }
      ]
    },
    {
      "cell_type": "code",
      "metadata": {
        "id": "lMv5YQ1btOKj"
      },
      "source": [
        ""
      ],
      "execution_count": null,
      "outputs": []
    }
  ]
}